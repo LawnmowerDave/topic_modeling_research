{
 "cells": [
  {
   "cell_type": "code",
   "execution_count": 1,
   "metadata": {
    "ExecuteTime": {
     "end_time": "2018-05-07T11:29:52.342511Z",
     "start_time": "2018-05-07T11:29:50.385716Z"
    }
   },
   "outputs": [],
   "source": [
    "from glob import glob\n",
    "import pandas as pd\n",
    "import networkx as nx\n",
    "import pickle\n",
    "import os\n",
    "from dateutil import parser\n",
    "from collections import defaultdict, Counter\n",
    "import re\n",
    "from nltk.stem import WordNetLemmatizer\n",
    "import matplotlib.pyplot as plt\n",
    "from util.util import load, cache\n",
    "from util.streamer import line_gen\n",
    "from datetime import datetime\n",
    "import numpy as np\n",
    "\n",
    "# don't condense large numbers to scientific notation\n",
    "pd.set_option('float_format', '{:f}'.format)\n",
    "\n",
    "filenames = glob(\"data/BTC/json/*.jsonl\")\n",
    "\n",
    "lemmatizer = WordNetLemmatizer()\n"
   ]
  },
  {
   "cell_type": "code",
   "execution_count": 2,
   "metadata": {
    "ExecuteTime": {
     "end_time": "2018-05-07T11:37:28.909112Z",
     "start_time": "2018-05-07T11:33:15.478609Z"
    }
   },
   "outputs": [],
   "source": [
    "total_posts = 0\n",
    "total_reple = 0\n",
    "preprocessed_data = {}\n",
    "preprocessed_data['user_network'] = nx.DiGraph()\n",
    "# used to represent retweets in order to easily display them separately\n",
    "# the final graph can be created by composing these two graphs\n",
    "preprocessed_data['retweet_user_network'] = nx.DiGraph()\n",
    "\n",
    "# a dictionary of user's posts, their time, quantity\n",
    "# accessed via preprocessed_data[field][user_name]\n",
    "preprocessed_data['time_posts'] = defaultdict(list)\n",
    "preprocessed_data['user_time_posts'] = defaultdict(dict)\n",
    "preprocessed_data['user_posts'] = defaultdict(list)\n",
    "# will be a dict of dicts, indexed by post user, indexed by neighbor IDs\n",
    "# composed of comments/retweets\n",
    "preprocessed_data['user_comments'] = defaultdict(dict)\n",
    "preprocessed_data['user_posts_num'] = defaultdict(int)\n",
    "preprocessed_data['get_comment_num'] = defaultdict(int)\n",
    "preprocessed_data['write_comment_num'] = defaultdict(int)\n",
    "\n",
    "# various Twitter metadata\n",
    "preprocessed_data['verified'] = defaultdict(bool)\n",
    "\n",
    "preprocessed_data['retweet_count'] = defaultdict(list)\n",
    "preprocessed_data['followers_count'] = defaultdict(int)\n",
    "preprocessed_data['favorite_count'] = defaultdict(int)\n",
    "\n",
    "preprocessed_data['posts'] = []\n",
    "voca = set()\n",
    "word_freq = Counter()\n"
   ]
  },
  {
   "cell_type": "code",
   "execution_count": 3,
   "metadata": {},
   "outputs": [],
   "source": [
    "\n",
    "# 400,000 tweets is the max my machine can load into RAM (total dataset is about 16 M)\n",
    "# df = pd.concat([pd.read_json(filename, nrows=n_tweets/len(filenames), lines=True) for filename in filenames])\n",
    "df = load('btc_data')\n",
    "\n",
    "df = df.sort_values(by='in_reply_to_user_id')\n",
    "\n",
    "# convert strings to datetime objects\n",
    "df['created_at'] = pd.to_datetime(df['created_at'], format='%a %b %d %H:%M:%S %z %Y')"
   ]
  },
  {
   "cell_type": "code",
   "execution_count": 25,
   "metadata": {},
   "outputs": [
    {
     "name": "stdout",
     "output_type": "stream",
     "text": [
      "                                                                                                                                                                                                                                                                      full_text                created_at        in_reply_to_user_id  retweet_count  favorite_count                  id  verified  followers_count  retweet_id\n",
      "2917528                                                                                                                                               [jason, facebook, kill, myspace, myspace, killed, myspace, believer, last, mover, first, mover, bitcoin, network, effect] 2019-05-28 00:02:48+00:00                3840.000000              0               1  964257866914857000     False             4051         NaN\n",
      "2870983                                                                                                                                                                                                                      [woonomic, hence, nugs, ing, soon, bitcoin, tired] 2019-05-17 08:53:47+00:00            13418472.000000              0               1  964257866914857000     False             4061         NaN\n",
      "3345021                                                 [robustus, nic, carter, jamesob, felipether, btc, settlement, layer, proposed, ammous, network, central, bank, model, supply, potentially, someday, centralized, second, layer, partially, pegged, already, derivative] 2019-09-10 12:37:16+00:00            14144398.000000              0               0  964257866914857000     False             4059         NaN\n",
      "2888262                                                                                                                                                                                                           [robustus, milestone, bitcoin, history, cool, although, time] 2019-05-22 12:52:03+00:00            14144398.000000              0               1  964257866914857000     False             4061         NaN\n",
      "3345025                                                                      [robustus, nic, carter, jamesob, felipether, know, leviathan, fall, love, least, wound, best, bitcoin, realistic, possibility, single, handedly, smaug, lair, collectively, hope, get, btc, right] 2019-09-10 12:40:21+00:00            14144398.000000              0               2  964257866914857000     False             4059         NaN\n",
      "3349549                                                                                                                                                         [alistairmilne, send, inquiry, bitcoin, mail, satoshi, nakamoto, street, amp, constitution, avenue, washington] 2019-09-12 12:33:56+00:00            20902138.000000              0               2  964257866914857000     False             4059         NaN\n",
      "2863080                                                                                                                                                                                                                             [mashinsky, get, vote, poll, causing, move] 2019-05-15 11:44:49+00:00            22264384.000000              0               0  964257866914857000     False             4061         NaN\n",
      "2868921                                                                                                                                                                                                        [charlieshrem, bitcoin, since, wanna, interview, might, squeeze] 2019-05-16 19:35:31+00:00            22682896.000000              0               1  964257866914857000     False             4061         NaN\n",
      "3247857                                                                                                 [alexanderlevin, apompliano, waiting, meet, pomp, person, buy, domino, slice, amp, bitcoin, tie, offer, free, subscription, taken, aback, charm, wit, amp, personality] 2019-08-06 11:45:56+00:00            23902886.000000              0               2  964257866914857000     False             4060         NaN\n",
      "2869257                                                                                                                                                                                       [tylerwinklevoss, bitcoin, gold, better, gold, money, get, meme, palatable, mass] 2019-05-16 21:43:05+00:00            24222556.000000              0               0  964257866914857000     False             4061         NaN\n",
      "3060856                                                                                                                                            [mishgea, insist, beginner, level, understanding, bitcoin, different, cryptos, learn, tweeting, unless, agenda, tweet, away] 2019-06-16 06:29:14+00:00            27185960.000000              0               0  964257866914857000     False             4058         NaN\n",
      "2858002                                                                                                                                                                                                                         [tuurdemeester, great, job, btc, btc, btc, btc] 2019-05-14 10:21:30+00:00            40742821.000000              0               0  964257866914857000     False             4061         NaN\n",
      "3196758                                                       [beautyon, blockchain, database, tomato, tomato, question, whether, timestamped, immutable, tamper, proof, get, idea, bitcoin, easily, changed, changed, difficult, saying, easily, changed, sound, disingenuous] 2019-07-20 16:01:50+00:00            47346306.000000              0               1  964257866914857000     False             4061         NaN\n",
      "3099884                                           [robertbeadles, currently, btc, ada, ltc, xmr, rvn, grin, cel, mrph, poly, dgtx, qnt, aion, nct, stark, enj, mkr, dai, wan, somewhat, interested, eth, beam, algo, hot, link, kmd, xtz, bat, dgb, zen, ocean, ela, lbry, dgd] 2019-06-25 19:04:34+00:00            49891003.000000              0               4  964257866914857000     False             4059         NaN\n",
      "3260761                                                                                                    [peterschiff, irrationality, market, negate, fact, superior, property, bitcoin, certain, pared, gold, bitcoin, went, zero, remain, true, robust, form, sound, money] 2019-08-10 11:16:56+00:00            56562803.000000              0               1  964257866914857000     False             4060         NaN\n",
      "2898400                                                                                                                                   [simondixontwitt, btc, ponzi, whale, profit, huge, incentive, shill, hand, make, robust, build, hand, inequality, amp, market, mercy] 2019-05-25 08:43:19+00:00            66106683.000000              0               2  964257866914857000     False             4061         NaN\n",
      "3295771                                                                                                                                                                                                   [real, vijay, always, fractionally, reserve, partially, peg, bitcoin] 2019-08-22 13:34:32+00:00            95066790.000000              1               0  964257866914857000     False             4050         NaN\n",
      "3345551                                                                                                                                                                                                                                   [rabbit, hasufl, beef, bitcoin, grin] 2019-09-10 18:15:04+00:00           168386585.000000              0               0  964257866914857000     False             4059         NaN\n",
      "3331067                                                                                                                                                           [adam, tuurdemeester, lopp, fredwilson, creates, bitcoin, default, misadventure, suspicious, line, reasoning] 2019-09-04 18:54:04+00:00           213236426.000000              0               0  964257866914857000     False             4057         NaN\n",
      "2859252                                                                [markyusko, absolutely, astonishing, wouldn, understand, must, doesnt, know, research, investment, doesnt, know, dont, buy, peak, riiiiiiight, intentionally, misrepresenting, bitcoin, imo, liar, liar] 2019-05-14 15:22:30+00:00           254280603.000000              0               0  964257866914857000     False             4061         NaN\n",
      "3280660                       [markyusko, saifedean, listened, amp, took, note, saifedean, book, central, bank, settling, btc, seems, hard, path, seems, collude, price, fix, fdr, gold, centralize, manipulate, supply, top, layer, try, amp, keep, pace, economy, amp, greed] 2019-08-17 08:57:22+00:00           254280603.000000              0               0  964257866914857000     False             4051         NaN\n",
      "2862866                             [kurtwuckertjr, brian, armstrong, coinbase, coinbasewallet, coinbasepro, bad, btc, devs, mon, ground, petition, tribalism, spur, innovation, toxic, stunt, progress, rally, behind, right, ideal, bank, won, stand, chance, shooting, foot] 2019-05-15 10:35:21+00:00           304746564.000000              0               1  964257866914857000     False             4061         NaN\n",
      "3341297                                                                                                                                                                                                                                 [apompliano, btc, reach, million, meme] 2019-09-08 17:32:29+00:00           339061487.000000              1               9  964257866914857000     False             4057         NaN\n",
      "2891863                                                                                                                                                                            [apompliano, hanakookie, mrhodl, youre, mistaking, bitcoin, binance, goldman, sachs, crypto] 2019-05-23 13:06:07+00:00           339061487.000000              0               1  964257866914857000     False             4061         NaN\n",
      "3376392                                                                                                                                                        [apompliano, ummmmm, love, pomp, bitcoin, bitcoin, within, confines, meet, different, objective, different, sho] 2019-09-24 00:25:24+00:00           339061487.000000              0               0  964257866914857000     False             4060         NaN\n",
      "3289150                                                                                                                      [apompliano, joesquawk, cnbc, global, meltdown, money, asset, digital, gov, freeze, everything, btc, hold, key, internet, shutdown, stop, neither] 2019-08-20 13:17:08+00:00           339061487.000000              0               0  964257866914857000     False             4051         NaN\n",
      "3241371                                                                                                                                      [apompliano, chicocrypto, apompliano, everyone, learn, bitcoin, help, start, beginning, take, nocoiners, wizard, status, resource] 2019-08-04 12:48:04+00:00           339061487.000000              0               1  964257866914857000     False             4061         NaN\n",
      "2859038                                                                               [apompliano, kevinolearytv, astonishing, kevinolearytv, seem, understand, basic, economics, make, bitcoin, superior, form, sound, money, ignorant, lobbied, show, explain, property, btc] 2019-05-14 14:33:24+00:00           339061487.000000              0               1  964257866914857000     False             4061         NaN\n",
      "2892003                                                   [mrhodl, guess, technical, expert, belong, crypto, amp, blockchain, pompous, arrogant, tech, head, never, get, message, without, assortment, different, personality, talent, others, attack, pro, bitcoin, backwards] 2019-05-23 13:54:04+00:00           370872518.000000              0               0  964257866914857000     False             4061         NaN\n",
      "3344927                                                      [nic, carter, robustus, jamesob, felipether, global, gold, supply, centralized, peg, ratio, price, fix, try, amp, match, economy, concern, leviathan, similar, btc, finite, plus, miner, need, ongoing, incentive] 2019-09-10 11:39:54+00:00           420308365.000000              0               0  964257866914857000     False             4059         NaN\n",
      "2895746                                                                                                                                                                         [nic, carter, hasufl, matt, odell, guccidatass, certainly, tried, couple, time, open, critique] 2019-05-24 14:31:39+00:00           420308365.000000              0               0  964257866914857000     False             4061         NaN\n",
      "3257823                                                                                                                                               [hasufl, jamesgrickards, video, criticizing, pow, view, economics, mostly, understanding, bitcoin, surface, level, silly] 2019-08-09 13:41:41+00:00           566534886.000000              0               0  964257866914857000     False             4060         NaN\n",
      "2898170                                                         [cryptowhitewalk, guru, trader, know, enough, now, make, careful, pounded, gain, curious, alt, btc, chart, suddenly, made, descending, triangle, bullish, speculating, seems, major, altcoins, bloodbath, star] 2019-05-25 06:41:04+00:00          1710003067.000000              0               1  964257866914857000     False             4061         NaN\n",
      "3257880                                                                                                                                                                                                     [brad, laurie, saying, bitcoin, maximalist, trade, invest, altcoin] 2019-08-09 14:03:53+00:00          2156102767.000000              0               1  964257866914857000     False             4060         NaN\n",
      "3346824                                             [brad, laurie, stablecoins, amp, bitcoin, derivative, amp, centralized, cryptos, everyone, szichophrenic, centralized, cryptocurrencies, amp, exchange, fall, prey, regs, disrupting, cant, revolt, dragon, feeding, sheep] 2019-09-11 08:41:44+00:00          2156102767.000000              0               0  964257866914857000     False             4059         NaN\n",
      "2857134                                                                                                                                                                                                               [iamjosephyoung, give, bitcoin, wholefoods, gresham, law] 2019-05-14 05:45:43+00:00          2272640503.000000              1               1  964257866914857000     False             4061         NaN\n",
      "3295754                                                                     [tonevays, aridavidpaul, lopp, jimmysong, magicalcrypto, scammy, amp, usecase, make, zero, sense, offer, feature, benefit, use, bitcoin, benefit, supply, demand, nothing, scammy, amp, man, silly] 2019-08-22 13:28:12+00:00          2577886615.000000              0               0  964257866914857000     False             4050         NaN\n",
      "3330024                                                                                                                                                                                                                     [urbacs, emperor, btc, modity, hmmm, havent, heard] 2019-09-04 11:48:59+00:00          2809989583.000000              0               0  964257866914857000     False             4057         NaN\n",
      "3122549                                                       [eljaboom, bitcoin, safe, haven, volatile, make, sense, reason, hasnt, reached, price, equilibrium, yet, outperforms, usd, amp, everything, else, uncorrelated, asset, risky, depends, slice, raped, bank, risky] 2019-06-30 13:39:45+00:00          3296780478.000000              0               1  964257866914857000     False             4059         NaN\n",
      "3331226                                           [jolaynegriffis, tracemayer, open, letter, mom, btc, check, markyusko, interview, evolvement, podcast, amp, muststopmurad, interview, chain, podcast, apompliano, real, vijay, blog, bullish, case, bitcoin, resource, noobs] 2019-09-04 20:00:32+00:00          4894142304.000000              0               0  964257866914857000     False             4057         NaN\n",
      "3340450                                                                                                                                                                                             [cburniske, bitcoin, entire, industry, according, market, fiat, gold, else] 2019-09-08 07:44:00+00:00  710463119886262272.000000              0               0  964257866914857000     False             4057         NaN\n",
      "3034078                                                         [cryptunez, tradersoros, got, burnt, last, big, altseason, thinking, getting, next, bitcoin, gonna, awhile, forget, market, gettin, wiser, need, whole, new, batch, green, retail, manic, move, real, adoption] 2019-06-06 17:07:17+00:00  752747080066723840.000000              0               2  964257866914857000     False             4060         NaN\n",
      "2853808  [breakouttickers, breaking, bitcoin, now, defy, market, dynamic, amp, gravity, rising, price, perpetually, upwards, tether, cartel, thank, making, rich, continually, pumping, usdt, printed, butt, fractionally, backed, asset, amp, offloaded, otc, hallelujah, btc] 2019-05-13 15:43:26+00:00  753187517801852928.000000              0               0  964257866914857000     False             4061         NaN\n",
      "3038806                                                                                                                                                             [mrkomodoworld, binance, hack, amp, bitfinex, fud, bitcoin, moon, day, aion, launched, avm, price, nothing] 2019-06-08 09:45:52+00:00  821626903970938880.000000              0               0  964257866914857000     False             4060         NaN\n",
      "2895987                                                                                                                                                                                                                        [traderscarface, ment, chart, others, correlate] 2019-05-24 15:33:46+00:00  928116687735480320.000000              0               4  964257866914857000     False             4061         NaN\n",
      "2842149                                                                                                                                                                                    [jacobcanfield, yes, officially, name, next, daily, video, government, ban, bitcoin] 2019-05-10 13:22:33+00:00  933567617549455360.000000              0               0  964257866914857000     False             4061         NaN\n",
      "2892070                                                                                                                           [livin, truth, mrhodl, yes, bitcoin, expediency, market, constant, flux, bitcoin, plete, plus, market, mercy, whale, pushing, around, fatten] 2019-05-23 14:18:40+00:00  938869988521152512.000000              0               0  964257866914857000     False             4061         NaN\n",
      "2892052                                                                                                                                                                                                [livin, truth, mrhodl, calling, bitcoin, pump, coin, tech, worse, cause] 2019-05-23 14:11:18+00:00  938869988521152512.000000              0               0  964257866914857000     False             4061         NaN\n",
      "3342586                                                                       [master, hub, apompliano, hope, fiat, grave, money, remains, truly, decentralized, bitcoin, happy, settle, best, tech, btc, however, personally, believe, finite, supply, ideal, economy, static] 2019-09-09 10:34:41+00:00  946343164129951744.000000              0               0  964257866914857000     False             4059         NaN\n",
      "3342894                                                     [master, hub, apompliano, didnt, need, btc, fairly, distributed, mrkt, manipulated, whale, inadvertently, hurting, market, amp, perpetual, consistent, supply, grin, personally, better, mineable, device, badcoin] 2019-09-09 13:46:54+00:00  946343164129951744.000000              0               0  964257866914857000     False             4059         NaN\n",
      "3019319                                                                       [paavocoin, nic, carter, lopp, distribution, redistribution, coin, already, circulating, market, speculative, whale, use, altcoins, little, playground, amass, bitcoin, case, made, fair, unfair] 2019-06-02 06:35:37+00:00  947830447505051648.000000              0               0  964257866914857000     False             4060         NaN\n",
      "3328649                                                                                                                                         [bitboy, crypto, epic, cinematic, musical, masterpiece, bitboy, confounds, banker, ode, hypnotic, bitcoin, harmony, sick, move] 2019-09-03 20:44:23+00:00  954005112174862336.000000              0               2  964257866914857000     False             4057         NaN\n",
      "2868767                                                                                                         [cryptobrekkie, hodlfuel, bad, somewhat, inane, indirectly, tout, awesome, bitcoin, matter, believe, ignorance, thorough, education, founded, sound, principle] 2019-05-16 18:51:05+00:00  960091531448217600.000000              0               1  964257866914857000     False             4061         NaN\n",
      "2868999                                                                                                                                                                       [markmoss, ban, bitcoin, brilliant, cede, hard, money, totalitarian, nation, genius, congressman] 2019-05-16 20:04:36+00:00  961026235122958336.000000              0               2  964257866914857000     False             4061         NaN\n",
      "3201484                                                                                              [tingxiao, apompliano, nvt, ratio, network, value, transaction, ratio, nvts, network, value, transaction, ratio, signal, bnm, bitcoin, network, momentum, mayer, multiple] 2019-07-22 08:56:36+00:00  964152994395811840.000000              0               0  964257866914857000     False             4061         NaN\n",
      "3201478                                                                                                                                                                                           [tingxiao, apompliano, utxo, volume, bupl, bitcoin, unrealized, profit, loss] 2019-07-22 08:56:57+00:00  964152994395811840.000000              0               0  964257866914857000     False             4061         NaN\n",
      "2977501                                                                             [market, growth, belief, tire, using, currency, tied, whim, government, decentralized, global, currency, frictionless, belief, btc, stable, clear, frontrunner, position, seems, lightning] 2018-04-05 13:55:03+00:00  964257866914856960.000000              0               0  964257866914857000     False             4058         NaN\n",
      "3346855                                                                                               [jimmysong, double, standard, bitcoin, base, layer, ethereum, cant, money, coin, rent, seeking, must, choose, bitcoin, sound, government, enforcing, use, fiat, currency] 2019-09-11 09:07:27+00:00  964257866914856960.000000              0               0  964257866914857000     False             4059         NaN\n",
      "2928135                                                                                                                                                     [bnm, bitcoin, network, momentum, crypto, greed, fear, index, bmi, bitcoin, misery, index, cnbc, contra, indicator] 2018-11-28 16:31:03+00:00  964257866914856960.000000              0               0  964257866914857000     False             4057         NaN\n",
      "3247590                                                             [professo, inal, italian, agree, monetary, policy, racketeering, extortion, tactic, black, hand, early, cosa, nostra, amp, btc, exchange, tactic, parable, stock, market, manipulation, early, esp, future] 2019-08-06 10:04:16+00:00  964257866914856960.000000              0               0  964257866914857000     False             4060         NaN\n",
      "3342323                                                                   [thebtcbatman, haileylennonbtc, nic, carter, provide, feature, benefit, money, token, bnb, example, fan, good, example, get, discount, binance, using, bitcoin, need, user, decade, two, status, quo] 2019-09-09 07:01:03+00:00  970839056895660032.000000              0               1  964257866914857000     False             4059         NaN\n",
      "3281813                                                                                                                                                                            [trylolli, yes, global, warming, habitable, place, left, best, build, bitcoin, citadel, now] 2019-08-17 18:25:20+00:00  971046392872521728.000000              0               0  964257866914857000     False             4051         NaN\n",
      "2904593                                                                                            [emperor, agreed, hard, project, surpass, bitcoin, dont, kid, impossible, however, unlikely, frankly, wonder, fast, protocol, form, vast, network, easier, validators, join] 2019-05-27 08:08:28+00:00 1002918329911205888.000000              0               0  964257866914857000     False             4061         NaN\n",
      "2841899                                                                            [emperor, youre, saying, bitcoin, reach, certain, price, bitcoin, back, enough, dollar, circulation, sufficient, fuel, world, economy, btc, reserve, currency, value, denominated, btc, usd] 2019-05-27 11:52:55+00:00 1002918329911205888.000000              0               0  964257866914857000     False             4061         NaN\n",
      "2904613                                                                                       [emperor, true, agree, hope, youre, right, hope, btc, win, issue, crypto, market, dont, foresee, government, world, holding, hand, ing, austrian, libertarian, singing, koombaya] 2019-05-27 08:26:13+00:00 1002918329911205888.000000              0               0  964257866914857000     False             4061         NaN\n",
      "2904597                                                                                [emperor, true, issue, model, reward, hodling, seems, coin, centralized, time, unless, strong, enough, incentive, use, bitcoin, consensus, amp, governance, decentralized, distribution] 2019-05-27 08:13:10+00:00 1002918329911205888.000000              0               0  964257866914857000     False             4061         NaN\n",
      "2904623                                                                   [emperor, yes, harder, move, market, participant, btc, mined, already, distribution, centralized, especially, exchange, working, together, pump, price, tether, sell, otc, fomoers, sell, buy, lower] 2019-05-27 08:24:32+00:00 1002918329911205888.000000              0               0  964257866914857000     False             4061         NaN\n",
      "2861106                                                                                                                                                                                                        [emperor, sure, idea, cbs, bitcoin, seems, right, back, started] 2019-05-27 12:52:35+00:00 1002918329911205888.000000              0               0  964257866914857000     False             4061         NaN\n",
      "3248200                                         [emperor, apompliano, support, bitcoin, ignorant, flaw, bitcoin, tribalist, boxer, brief, choker, cutting, air, last, time, checked, china, market, collectively, cornered, hash, power, keeping, forming, trust, game, theory] 2019-08-06 13:35:13+00:00 1002918329911205888.000000              0               0  964257866914857000     False             4060         NaN\n",
      "2894817                                                                                                       [emperor, right, jokingly, getting, strong, nation, caught, seem, accumulating, btc, usually, totalitarian, possibly, sweden, malta, dunno, munist, china, smart] 2019-05-27 13:57:15+00:00 1002918329911205888.000000              0               0  964257866914857000     False             4061         NaN\n",
      "2863267                                                                                                                                                                                                                            [blocktvnews, tonevays, poll, causing, move] 2019-05-15 12:35:23+00:00 1023855247922528256.000000              0               0  964257866914857000     False             4061         NaN\n",
      "3281816                                                                                                                                                  [thoreauszn, increasingly, tweet, tweet, shall, stand, tall, shout, civil, disobedience, gimme, bitcoin, give, prison] 2019-08-17 18:28:01+00:00 1153635514760736768.000000              0               0  964257866914857000     False             4051         NaN\n",
      "56352                                      [queen, dany, burn, king, landing, ash, trailblazer, win, facing, crazy, stats, nice, btc, defies, gravity, crypto, facebook, rise, dead, bank, politician, suck, corruption, crypto, wifie, gone, leave, care, dog, alone, process] 2019-05-13 15:39:17+00:00                        NaN              0               0  964257866914857000     False             4061         NaN\n",
      "73352                                                                                    [bitcoin, far, investment, opt, failed, corrupted, economic, legacy, system, hate, xrp, ripple, now, though, good, entry, provide, liquidity, get, fiat, contradiction, confused, btc] 2019-05-14 11:40:55+00:00                        NaN              0               3  964257866914857000     False             4061         NaN\n",
      "110891                                                                                                                                                                [scrap, blockchains, bitcoin, start, fresh, whale, hard, good, name, nugs, work, digital, gooooold, baby] 2019-05-16 15:42:07+00:00                        NaN              0               0  964257866914857000     False             4061         NaN\n",
      "121069                                                                                                                 [using, bitcoin, crypto, form, payment, dumb, gresham, law, give, btc, give, lousy, disposable, inflatable, dollar, later, time, use, bitcoin, purchase] 2019-05-17 07:24:55+00:00                        NaN              0               1  964257866914857000     False             4061         NaN\n",
      "136505                                                                                                  [wow, wow, aantonop, love, ethic, behind, amp, sharp, focus, vision, open, amp, trustless, blockchain, dropping, dime, crypto, project, hear, first, bitcoin, btc, eth] 2019-05-18 09:33:14+00:00                        NaN              0               0  964257866914857000     False             4061         NaN\n",
      "169473                                                                                                                                                      [nose, sometimes, consent, encouragement, repeal, glass, steagal, act, amp, revolving, door, wind, self, regulated] 2019-05-21 06:20:54+00:00                        NaN              0               0  964257866914857000     False             4061         NaN\n",
      "203100                                                                                                  [trader, expecting, noobs, dca, hodl, btc, avoid, opportunity, cost, head, box, expect, everyday, never, traded, mess, opting, fiat, time, great, greshamslaw, bitcoin] 2019-05-23 10:55:27+00:00                        NaN              0               1  964257866914857000     False             4061         NaN\n",
      "253963                                                                                                                                    [great, rudimentary, video, trading, ieo, amp, newly, listed, altcoins, btc, market, gonna, irl, crypto, friend, evil, bad, facebook] 2019-05-27 10:01:05+00:00                        NaN              0               0  964257866914857000     False             4061         NaN\n",
      "924991                                                                                                                                                                              [get, idea, whether, bitcoin, currently, overvalued, undervalued, simply, work, pen, paper] 2018-11-28 16:31:01+00:00                        NaN              0               0  964257866914857000     False             4057         NaN\n",
      "1348669                           [important, feature, cryptocurrency, wide, true, decentralization, leaderless, governance, opensource, development, consensus, distribution, immutability, censorship, resistance, security, amp, sovereign, state, resistance, bitcoin, btc] 2019-05-29 07:10:02+00:00                        NaN              0               1  964257866914857000     False             4059         NaN\n",
      "1457107                                                                                                                                                                                                        [crypto, winter, created, btc, maximalists, bitcoin, whitepaper] 2019-06-06 08:48:22+00:00                        NaN              1               1  964257866914857000     False             4060         NaN\n",
      "1474365                                                                                                                    [wrote, published, today, using, internet, help, make, cryptospace, better, place, read, amp, btc, ieos, dyor, fairlaunch, crypto, decentralization] 2019-06-07 17:19:11+00:00                        NaN              0               1  964257866914857000     False             4060         NaN\n",
      "1480536                                                                   [alexlibertas, gatehub, bought, btc, abroad, friend, friend, friend, fee, tacked, received, btc, miner, friend, free, got, stuck, greenaddress, wallet, lost, noob, lesson, get, released, year, jan] 2019-06-08 06:45:32+00:00                        NaN              0               0  964257866914857000     False             4060         NaN\n",
      "1598845                                                                                                                           [trying, good, libra, bitcoin, fuel, hopium, optimism, rational, wishful, thinking, platform, easy, get, switch, doubt, wallet, bitcoin, btc] 2019-06-18 13:54:53+00:00                        NaN              0               0  964257866914857000     False             4058         NaN\n",
      "1704375                                                                                                         [cryptonauts, got, pretty, legit, list, cryptotwitter, list, help, good, bitcoin, cryptocurrency, btc, eth, ethereum, crypto, blockchain, blockchaintechnology] 2019-06-25 19:27:07+00:00                        NaN              0               1  964257866914857000     False             4059         NaN\n",
      "1715473                                                                                          [great, recent, btc, price, action, amp, facebooklibra, although, disagree, everyone, amp, libra, good, bitcoin, seduced, libra, everyday, amp, nothing, dealing, crypto, pks] 2019-06-26 09:37:56+00:00                        NaN              0               0  964257866914857000     False             4059         NaN\n",
      "1753719                                                                                                                               [thinking, loud, today, future, expires, tonight, wife, future, expires, tonight, told, prophesying, end, world, upon, btc, bitcoin, btc] 2019-06-28 08:57:48+00:00                        NaN              0               2  964257866914857000     False             4059         NaN\n",
      "1772280                                                                                                                                           [awaiting, confirmation, btc, might, forming, known, japanese, throwing, star, pattern, watch, break, momentum, bitcoin, btc] 2019-06-29 15:40:33+00:00                        NaN              0               0  964257866914857000     False             4059         NaN\n",
      "2063033                            [bitcoinmaximalists, insisting, cryptocurrency, besides, bitcoin, shitcoin, leaderless, fairly, launched, open, source, amp, engineered, decentralization, hash, power, distribution, governance, attacking, btc, dontmakenosense, confused] 2019-07-20 15:22:06+00:00                        NaN              1               7  964257866914857000     False             4061         NaN\n",
      "2251377                                             [fair, cryptos, whale, exchange, pulling, similar, stunt, old, game, different, method, btc, ramping, cornering, painting, tape, laddering, spinning, wash, trading, cornering, shilling, premining, dumping, unsuspecting] 2019-08-04 08:05:15+00:00                        NaN              0               0  964257866914857000     False             4061         NaN\n",
      "2278776                                                                       [listened, great, episode, chain, apompliano, amp, scaramucci, bitcoin, riding, bike, along, black, sea, already, uploaded, lord, finance, kindle, research, kick, kind, crypto, book, mind, ask] 2019-08-06 10:04:16+00:00                        NaN              0               1  964257866914857000     False             4060         NaN\n",
      "2294317                                                                                                                                                                      [pop, quiz, macro, trend, bitcoin, bubble, popping, bouncing, high, next, bubble, float, btc, btc] 2019-08-07 12:52:43+00:00                        NaN              0               1  964257866914857000     False             4060         NaN\n",
      "2353834                                                                                                                                                                                                                                        [wow, must, zone, puttin, blast] 2019-08-12 14:57:47+00:00                        NaN              0               0  964257866914857000     False             4060         NaN\n",
      "2365012                                                                                                     [might, best, crypto, imo, nic, carter, petermccormack, wbd, coinbase, binance, krakenfx, bitfinex, bitstamp, etoro, denethor, play, long, game, btc, eth, bitcoin] 2019-08-13 12:49:28+00:00                        NaN              0               0  964257866914857000     False             4060         NaN\n",
      "2415326                                                                                                                                                                                            [greatly, appreciate, used, non, profit, work, young, soviet, bloc, country] 2019-08-17 13:00:46+00:00                        NaN              0               1  964257866914857000     False             4051         NaN\n",
      "2417425                                                                                 [thinking, central, bank, adopting, bitcoin, settlement, layer, bring, mass, adoption, saying, run, fast, amp, hard, enough, sierra, leone, suez, canal, won, die, hunger, animal, eat] 2019-08-17 16:58:12+00:00                        NaN              0               0  964257866914857000     False             4051         NaN\n",
      "2552884                                                                                                                                                         [need, playing, long, game, crypto, bad, taste, mouth, now, myopic, leader, ate, lunch, ruined, bitcoin, space] 2019-08-29 11:02:51+00:00                        NaN              0               4  964257866914857000     False             4057         NaN\n",
      "2694196                [crypto, bitcoin, disrupt, bank, bitcoin, simultaneously, giving, bad, name, bamboozle, amp, mom, shortenronlongbitmex, longlivebitcoinderivatives, botcity, cantcatchmesec, stophunters, sellandbuywallwhales, consupsuckersdown, cantarguewithnouriel] 2019-09-11 08:09:17+00:00                        NaN              0               0  964257866914857000     False             4059         NaN\n",
      "2695441                          [strivingyogi, jimmysong, blockchain, must, leaderless, decentralized, amp, sovereign, state, resistant, btc, possibly, decentralized, barely, pulling, shut, blockchain, unable, centralized, corporate, amp, gov, blockchains, need, burned] 2019-09-11 10:19:53+00:00                        NaN              0               0  964257866914857000     False             4059         NaN\n",
      "2825909                                                                                                                                                            [richard, cantillon, tried, warn, listen, bitcoin, buybitcoin, longbitcoinshortthebanks, getoffzero, getoff] 2019-09-23 12:31:32+00:00                        NaN              1               2  964257866914857000     False             4060         NaN\n"
     ]
    }
   ],
   "source": [
    "print(df[df['id'] == 964257866914857000].to_string())"
   ]
  },
  {
   "cell_type": "code",
   "execution_count": 15,
   "metadata": {},
   "outputs": [
    {
     "ename": "TypeError",
     "evalue": "sequence item 0: expected str instance, list found",
     "output_type": "error",
     "traceback": [
      "\u001b[0;31m---------------------------------------------------------------------------\u001b[0m",
      "\u001b[0;31mTypeError\u001b[0m                                 Traceback (most recent call last)",
      "\u001b[0;32m/tmp/ipykernel_242113/3939597507.py\u001b[0m in \u001b[0;36m<module>\u001b[0;34m\u001b[0m\n\u001b[0;32m----> 1\u001b[0;31m \u001b[0;34m' '\u001b[0m\u001b[0;34m.\u001b[0m\u001b[0mjoin\u001b[0m\u001b[0;34m(\u001b[0m\u001b[0mdf\u001b[0m\u001b[0;34m[\u001b[0m\u001b[0mdf\u001b[0m\u001b[0;34m[\u001b[0m\u001b[0;34m'id'\u001b[0m\u001b[0;34m]\u001b[0m \u001b[0;34m==\u001b[0m \u001b[0;36m964257866914857000\u001b[0m\u001b[0;34m]\u001b[0m\u001b[0;34m[\u001b[0m\u001b[0;34m'full_text'\u001b[0m\u001b[0;34m]\u001b[0m\u001b[0;34m)\u001b[0m\u001b[0;34m\u001b[0m\u001b[0;34m\u001b[0m\u001b[0m\n\u001b[0m",
      "\u001b[0;31mTypeError\u001b[0m: sequence item 0: expected str instance, list found"
     ]
    }
   ],
   "source": [
    "' '.join()"
   ]
  },
  {
   "cell_type": "code",
   "execution_count": 4,
   "metadata": {},
   "outputs": [
    {
     "name": "stdout",
     "output_type": "stream",
     "text": [
      "posts:  2841888\n",
      "comments:  536494\n"
     ]
    }
   ],
   "source": [
    "print('posts: ', len(df[df['in_reply_to_user_id'].isna()]))\n",
    "print('comments: ', len(df[df['in_reply_to_user_id'].notna()]))"
   ]
  },
  {
   "cell_type": "code",
   "execution_count": 5,
   "metadata": {},
   "outputs": [],
   "source": [
    "# date_counts = {}\n",
    "\n",
    "# for row in df.itertuples():\n",
    "#     if not row.created_at.year in date_counts:\n",
    "#         date_counts[row.created_at.year] = 1\n",
    "#     else:\n",
    "#         date_counts[row.created_at.year] += 1\n",
    "\n",
    "# print(date_counts)\n",
    "# plt.plot(sorted(date_counts.keys()), sorted(date_counts.values()))"
   ]
  },
  {
   "cell_type": "code",
   "execution_count": 6,
   "metadata": {},
   "outputs": [
    {
     "data": {
      "text/plain": [
       "Index(['full_text', 'created_at', 'in_reply_to_user_id', 'retweet_count',\n",
       "       'favorite_count', 'id', 'verified', 'followers_count', 'retweet_id'],\n",
       "      dtype='object')"
      ]
     },
     "execution_count": 6,
     "metadata": {},
     "output_type": "execute_result"
    }
   ],
   "source": [
    "df.columns"
   ]
  },
  {
   "cell_type": "code",
   "execution_count": 7,
   "metadata": {},
   "outputs": [
    {
     "name": "stdout",
     "output_type": "stream",
     "text": [
      "posts: 100.00% done\n",
      "Number of unique words: 541359\n"
     ]
    }
   ],
   "source": [
    "# word_freq_file_name = 'pkl/word_freq_pkl' \n",
    "\n",
    "# # load cached result. Important: Make sure the number of tweets used is the same in the df!\n",
    "# if os.path.exists(word_freq_file_name):\n",
    "#     with open(word_freq_file_name, 'rb') as f:\n",
    "#         word_freq = pickle.load(f)\n",
    "# else:\n",
    "\n",
    "#     with open(word_freq_file_name, 'wb') as f:\n",
    "#         pickle.dump(word_freq, f)\n",
    "\n",
    "# update word count\n",
    "for i, text in enumerate(df[\"full_text\"]):\n",
    "\n",
    "    if i % 10000 == 0:\n",
    "        print(f\"\\rposts: {i/len(df) * 100:.2f}% done\", end='')\n",
    "        \n",
    "    text_body = text\n",
    "    word_freq.update(text_body)\n",
    "\n",
    "print(f\"\\rposts: {100:.2f}% done\", end='')\n",
    "print()\n",
    "print(\"Number of unique words:\", len(word_freq))"
   ]
  },
  {
   "cell_type": "code",
   "execution_count": 8,
   "metadata": {},
   "outputs": [
    {
     "name": "stdout",
     "output_type": "stream",
     "text": [
      "100.00% done 91587 nodes and 241040 edges\n",
      "pickling...\n",
      "Number of unique vocabulary words 61153\n",
      "\n",
      "finished\n"
     ]
    }
   ],
   "source": [
    "comments_processed_dict = {}\n",
    "retweets_processed_dict = {}\n",
    "\n",
    "counter = 0\n",
    "\n",
    "voca = set()\n",
    "\n",
    "# only loop through posts. Comments will be counted if the user is found\n",
    "# to be in the comments_user_dict \n",
    "for i, post in enumerate(df[df['in_reply_to_user_id'].isna()].itertuples()):\n",
    "\n",
    "    post_user = post.id\n",
    "\n",
    "    # add metadata\n",
    "    preprocessed_data['verified'][post_user] = post.verified\n",
    "    preprocessed_data['followers_count'][post_user] = post.followers_count\n",
    "    preprocessed_data['favorite_count'][post_user] = post.favorite_count\n",
    "\n",
    "    if i % 5000 == 0:\n",
    "        print(f\"\\r{i/len(df[df['in_reply_to_user_id'].isna()]) * 100:.2f}% done\", end='')\n",
    "        print(f\"\\r{preprocessed_data['user_network']}\", end='')\n",
    "\n",
    "\n",
    "    post_body = post.full_text\n",
    "    post_body = [w for w in post_body if word_freq[w] >= 10]\n",
    "    \n",
    "    if len(post_body) < 5:\n",
    "        continue\n",
    "\n",
    "    voca.update(post_body)\n",
    "    \n",
    "    posted_time = post.created_at\n",
    "\n",
    "    # retweet data\n",
    "    if posted_time in preprocessed_data['retweet_count'][post_user]:\n",
    "        preprocessed_data['retweet_count'][post_user].append(post.retweet_count)\n",
    "    else:\n",
    "        preprocessed_data['retweet_count'][post_user] = [post.retweet_count]\n",
    "    \n",
    "    preprocessed_data['user_posts'][post_user].append(post_body)\n",
    "    preprocessed_data['user_posts_num'][post_user] += 1\n",
    "    preprocessed_data['time_posts'][posted_time].append(post_body)\n",
    "    if posted_time in preprocessed_data['user_time_posts'][post_user]:\n",
    "        preprocessed_data['user_time_posts'][post_user][posted_time].append(post_body)\n",
    "    else:\n",
    "        preprocessed_data['user_time_posts'][post_user][posted_time] = [post_body]\n",
    "        \n",
    "    preprocessed_data['posts'].append(post_body)\n",
    "\n",
    "    if str(post_user) in comments_processed_dict:\n",
    "        continue\n",
    "\n",
    "    # Link comments\n",
    "    post_comments = df[df['in_reply_to_user_id'] == post_user]\n",
    "    \n",
    "    for comment in post_comments.itertuples():\n",
    "        \n",
    "\n",
    "        comments_processed_dict[str(post_user)] = True\n",
    "\n",
    "        comment_body = comment.full_text\n",
    "\n",
    "        comment_body = [w for w in comment_body if word_freq[w] >= 10]\n",
    "        if len(comment_body) < 5:\n",
    "            continue\n",
    "        \n",
    "        comment_user = comment.id\n",
    "        comment_time = comment.created_at\n",
    "\n",
    "        # Skip self-loops\n",
    "        if comment_user == post_user:\n",
    "            continue\n",
    "\n",
    "        # add comment indexed by id\n",
    "        preprocessed_data['user_comments'][post_user][comment_user] = comment_body\n",
    "\n",
    "        voca.update(comment_body)\n",
    "            \n",
    "        preprocessed_data['user_posts'][comment_user].append(comment_body)\n",
    "        preprocessed_data['time_posts'][comment_time].append(comment_body)\n",
    "        if posted_time in preprocessed_data['user_time_posts'][post_user]:\n",
    "            preprocessed_data['user_time_posts'][post_user][posted_time].append(post_body)\n",
    "        else:\n",
    "            preprocessed_data['user_time_posts'][post_user][posted_time] = [post_body]\n",
    "        \n",
    "        preprocessed_data['posts'].append(comment_body)\n",
    "        preprocessed_data['user_network'].add_edge(comment_user, post_user)\n",
    "        preprocessed_data['get_comment_num'][post_user] += 1\n",
    "        preprocessed_data['write_comment_num'][comment_user] += 1\n",
    "\n",
    "    \"\"\"\n",
    "    Link retweets\n",
    "\n",
    "    Currently only going to draw a connection on the graph without doing anything \n",
    "    extra like adding the text to the posts as it would just be redundant information.\n",
    "    \"\"\" \n",
    "    if str(post_user) in retweets_processed_dict:\n",
    "        continue\n",
    "\n",
    "    post_retweets = df[df['retweet_id'] == post_user]\n",
    "\n",
    "    for retweet in post_retweets.itertuples():\n",
    "\n",
    "        retweets_processed_dict[str(post_user)] = True\n",
    "\n",
    "        retweet_user = retweet.id\n",
    "        retweet_time = retweet.created_at\n",
    "        \n",
    "        # Skip self-loops\n",
    "        if retweet_user == post_user:\n",
    "            continue\n",
    "\n",
    "        # add comment indexed by id (content will be original post because it's a tweet)\n",
    "        preprocessed_data['user_comments'][post_user][retweet_user] = post_body\n",
    "\n",
    "        # add this to retweet network\n",
    "        preprocessed_data['retweet_user_network'].add_edge(retweet_user, post_user)\n",
    "    \n",
    "        \n",
    "\n",
    "print(f\"\\r{100:.2f}% done\", end='')\n",
    "print(\"\\npickling...\")\n",
    "\n",
    "voca = list(voca)\n",
    "preprocessed_data['voca'] = voca\n",
    "preprocessed_data['word_freq'] = word_freq\n",
    "with open(\"pkl/preprocessed_bitcoin_noloops.pkl\", 'wb') as f:\n",
    "    pickle.dump(preprocessed_data, f)\n",
    "\n",
    "print(\"Number of unique vocabulary words\", len(voca))\n",
    "print()\n",
    "print(\"finished\")\n",
    "\n"
   ]
  },
  {
   "cell_type": "code",
   "execution_count": 9,
   "metadata": {},
   "outputs": [
    {
     "data": {
      "text/plain": [
       "2841887"
      ]
     },
     "execution_count": 9,
     "metadata": {},
     "output_type": "execute_result"
    }
   ],
   "source": [
    "i"
   ]
  },
  {
   "cell_type": "code",
   "execution_count": 10,
   "metadata": {},
   "outputs": [
    {
     "data": {
      "text/plain": [
       "2841888"
      ]
     },
     "execution_count": 10,
     "metadata": {},
     "output_type": "execute_result"
    }
   ],
   "source": [
    "len(df[df['in_reply_to_user_id'].isna()])"
   ]
  },
  {
   "cell_type": "code",
   "execution_count": 11,
   "metadata": {},
   "outputs": [
    {
     "name": "stdout",
     "output_type": "stream",
     "text": [
      "DiGraph with 91601 nodes and 241100 edges\n"
     ]
    }
   ],
   "source": [
    "print(preprocessed_data['user_network'])"
   ]
  },
  {
   "cell_type": "code",
   "execution_count": 12,
   "metadata": {},
   "outputs": [],
   "source": [
    "# nx.draw_shell(preprocessed_data[\"user_network\"], with_labels=True)\n"
   ]
  },
  {
   "cell_type": "code",
   "execution_count": 13,
   "metadata": {},
   "outputs": [],
   "source": [
    "# b = [len(a) for a in list(preprocessed_data['user_network'].adj.values())]\n",
    "# print(max(b))\n"
   ]
  },
  {
   "cell_type": "code",
   "execution_count": null,
   "metadata": {},
   "outputs": [],
   "source": []
  }
 ],
 "metadata": {
  "interpreter": {
   "hash": "ac5807ccc56803d53b6c0dc06a78365d93d8e4c11f3c7f359a83bbe035ca0794"
  },
  "kernelspec": {
   "display_name": "Python 3.8.10 64-bit ('venv': venv)",
   "name": "python3"
  },
  "language_info": {
   "codemirror_mode": {
    "name": "ipython",
    "version": 3
   },
   "file_extension": ".py",
   "mimetype": "text/x-python",
   "name": "python",
   "nbconvert_exporter": "python",
   "pygments_lexer": "ipython3",
   "version": "3.8.10"
  },
  "varInspector": {
   "cols": {
    "lenName": 16,
    "lenType": 16,
    "lenVar": 40
   },
   "kernels_config": {
    "python": {
     "delete_cmd_postfix": "",
     "delete_cmd_prefix": "del ",
     "library": "var_list.py",
     "varRefreshCmd": "print(var_dic_list())"
    },
    "r": {
     "delete_cmd_postfix": ") ",
     "delete_cmd_prefix": "rm(",
     "library": "var_list.r",
     "varRefreshCmd": "cat(var_dic_list()) "
    }
   },
   "types_to_exclude": [
    "module",
    "function",
    "builtin_function_or_method",
    "instance",
    "_Feature"
   ],
   "window_display": false
  }
 },
 "nbformat": 4,
 "nbformat_minor": 2
}
