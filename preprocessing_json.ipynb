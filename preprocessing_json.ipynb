{
 "cells": [
  {
   "cell_type": "code",
   "execution_count": 1,
   "metadata": {
    "ExecuteTime": {
     "end_time": "2018-05-07T11:29:52.342511Z",
     "start_time": "2018-05-07T11:29:50.385716Z"
    }
   },
   "outputs": [],
   "source": [
    "from glob import glob\n",
    "import pandas as pd\n",
    "import networkx as nx\n",
    "import pickle\n",
    "import os\n",
    "'''\n",
    "Though not explicitly stated, I believe this \"stopwords\" package originates\n",
    "from this pip package: https://pypi.org/project/stop-words/\n",
    "\n",
    "It was the first result I found that shares the same name and get_stop_words\n",
    "function call. \n",
    "'''\n",
    "import stop_words\n",
    "from dateutil import parser\n",
    "from collections import defaultdict, Counter\n",
    "import re\n",
    "from nltk.stem import WordNetLemmatizer\n",
    "import matplotlib.pyplot as plt\n",
    "from util import load, cache\n",
    "from streamer import line_gen\n",
    "import numpy as np\n",
    "\n",
    "\n",
    "\n",
    "# don't condense large numbers to scientific notation\n",
    "pd.set_option('float_format', '{:f}'.format)\n",
    "\n",
    "filenames = glob(\"data/BTC/json/*.jsonl\")\n",
    "stopwords = set(stop_words.get_stop_words('en'))\n",
    "stopwords.update(['quote', 'pmquote', 'amquote', 'just', 'don', 'one', 'thing', 'even', 'way', 'maybe', 'also', 'please', 'well', 'actually', 'something',\n",
    "                                         'going', 'anything', 'le', 'ever', 'say', 'see', 'likely', 'per', 'another', 'someone', 'let', 'anyone', 'doesn', 'include', 'doe', 'exactly',\n",
    "                                         'january', 'february', 'march', 'april', 'may', 'june', 'july', 'august', 'september', 'october', 'november', 'december', 'like',\n",
    "                                         'said', 'guy', 'will', 'can', 'able', 'people', 'become', 'tell', 'hey', 'much', 'many', 'lol', 'lot', 'want', 'still', 'really', 'think', 'didn',\n",
    "                                         'isn', 'post', 'edited', 'share', 'facebookshare', 'twitter'])\n",
    "                                        # adding exclusions to 'bitcion' because presumably, the entire dataset contains\n",
    "                                        # bitcoin-related tweets, which means mentions of bitcoin shouldn't add any value\n",
    "lemmatizer = WordNetLemmatizer()\n"
   ]
  },
  {
   "cell_type": "code",
   "execution_count": 2,
   "metadata": {
    "ExecuteTime": {
     "end_time": "2018-05-07T11:29:54.235846Z",
     "start_time": "2018-05-07T11:29:54.225009Z"
    },
    "collapsed": true
   },
   "outputs": [],
   "source": [
    "'''\n",
    "Current preprocessing protocol\n",
    "\n",
    "Remove:\n",
    "Hyperlinks\n",
    "Characters not in the English alphabetical character set a-z or A-Z\n",
    "stopwords\n",
    "words less than 3 characters\n",
    "'bitcoins' and replace with 'bitcoin'\n",
    "\n",
    "'''\n",
    "def parse_string(input_string):\n",
    "    input_string = input_string.lower()\n",
    "    # remove links\n",
    "    input_string = re.sub(r'http\\S+', ' ', input_string)\n",
    "    input_string = re.sub(r'\\S+.(com|org)', '', input_string)\n",
    "    # remove all non-English alphabet characters including numbers,\n",
    "    # foreign and special characters\n",
    "    input_string = re.sub( \"[^a-zA-Z]\", \" \", input_string).split()\n",
    "\n",
    "    # lemmatize word\n",
    "    words = [lemmatizer.lemmatize(w) for w in input_string]\n",
    "    # get rid of stopwords and words less than 3 characters\n",
    "    words = [w for w in words if w not in stopwords and len(w) > 2]\n",
    "\n",
    "    # fix common misspellings of bitcoin\n",
    "    words = [\"bitcoin\" if w == \"bitcoins\" else w for w in words]\n",
    "    words = [\"bitcoin\" if w == \"itcoin\" else w for w in words]\n",
    "\n",
    "    return words\n"
   ]
  },
  {
   "cell_type": "code",
   "execution_count": 3,
   "metadata": {
    "ExecuteTime": {
     "end_time": "2018-05-07T11:37:28.909112Z",
     "start_time": "2018-05-07T11:33:15.478609Z"
    }
   },
   "outputs": [],
   "source": [
    "total_posts = 0\n",
    "total_reple = 0\n",
    "preprocessed_data = {}\n",
    "preprocessed_data['user_network'] = nx.DiGraph()\n",
    "\n",
    "# a dictionary of user's posts, their time, quantity\n",
    "# accessed via preprocessed_data[field][user_name]\n",
    "preprocessed_data['time_posts'] = defaultdict(list)\n",
    "preprocessed_data['user_time_posts'] = defaultdict(dict)\n",
    "preprocessed_data['user_posts'] = defaultdict(list)\n",
    "preprocessed_data['user_posts_num'] = defaultdict(int)\n",
    "preprocessed_data['get_comment_num'] = defaultdict(int)\n",
    "preprocessed_data['write_comment_num'] = defaultdict(int)\n",
    "\n",
    "# various Twitter metadata\n",
    "preprocessed_data['verified'] = defaultdict(bool)\n",
    "preprocessed_data['followers_count'] = defaultdict(int)\n",
    "\n",
    "preprocessed_data['posts'] = []\n",
    "voca = set()\n",
    "word_freq = Counter()\n"
   ]
  },
  {
   "cell_type": "code",
   "execution_count": 4,
   "metadata": {},
   "outputs": [],
   "source": [
    "fields = ['user_name', 'created_at', 'text', 'id', 'in_reply_to_screen_name']\n",
    "\n",
    "# 400,000 tweets is the max my machine can load into RAM (total dataset is about 16 M)\n",
    "df = pd.concat([pd.read_json(filename, nrows=100000, lines=True) for filename in filenames])\n"
   ]
  },
  {
   "cell_type": "code",
   "execution_count": 15,
   "metadata": {},
   "outputs": [
    {
     "data": {
      "text/plain": [
       "[<matplotlib.lines.Line2D at 0x7f0c65239130>]"
      ]
     },
     "execution_count": 15,
     "metadata": {},
     "output_type": "execute_result"
    },
    {
     "data": {
      "image/png": "[encoded data removed]",
      "text/plain": [
       "<Figure size 432x288 with 1 Axes>"
      ]
     },
     "metadata": {
      "needs_background": "light"
     },
     "output_type": "display_data"
    }
   ],
   "source": [
    "date_counts = {}\n",
    "\n",
    "for row in df.itertuples():\n",
    "    if not row.created_at.year in date_counts:\n",
    "        date_counts[row.created_at.year] = 1\n",
    "    else:\n",
    "        date_counts[row.created_at.year] += 1\n",
    "\n",
    "plt.plot(date_counts.keys(), date_counts.values())"
   ]
  },
  {
   "cell_type": "code",
   "execution_count": 5,
   "metadata": {},
   "outputs": [],
   "source": [
    "df['user_id'] = df['user'].apply(lambda e: e['id'])\n",
    "df = df.sort_values(by='user_id')"
   ]
  },
  {
   "cell_type": "code",
   "execution_count": 6,
   "metadata": {},
   "outputs": [
    {
     "data": {
      "text/plain": [
       "Index(['created_at', 'id', 'id_str', 'full_text', 'truncated',\n",
       "       'display_text_range', 'entities', 'source', 'in_reply_to_status_id',\n",
       "       'in_reply_to_status_id_str', 'in_reply_to_user_id',\n",
       "       'in_reply_to_user_id_str', 'in_reply_to_screen_name', 'user', 'geo',\n",
       "       'coordinates', 'place', 'contributors', 'is_quote_status',\n",
       "       'retweet_count', 'favorite_count', 'favorited', 'retweeted',\n",
       "       'possibly_sensitive', 'lang', 'extended_entities', 'quoted_status_id',\n",
       "       'quoted_status_id_str', 'quoted_status_permalink', 'quoted_status',\n",
       "       'retweeted_status', 'scopes', 'withheld_scope', 'withheld_copyright',\n",
       "       'withheld_in_countries', 'user_id'],\n",
       "      dtype='object')"
      ]
     },
     "execution_count": 6,
     "metadata": {},
     "output_type": "execute_result"
    }
   ],
   "source": [
    "df.columns"
   ]
  },
  {
   "cell_type": "code",
   "execution_count": 7,
   "metadata": {},
   "outputs": [
    {
     "data": {
      "text/plain": [
       "{'id': 12,\n",
       " 'id_str': '12',\n",
       " 'name': 'jack⚡️',\n",
       " 'screen_name': 'jack',\n",
       " 'location': '🌊',\n",
       " 'description': '#bitcoin',\n",
       " 'url': None,\n",
       " 'entities': {'description': {'urls': []}},\n",
       " 'protected': False,\n",
       " 'followers_count': 6098736,\n",
       " 'friends_count': 4503,\n",
       " 'listed_count': 31667,\n",
       " 'created_at': 'Tue Mar 21 20:50:14 +0000 2006',\n",
       " 'favourites_count': 38173,\n",
       " 'utc_offset': None,\n",
       " 'time_zone': None,\n",
       " 'geo_enabled': True,\n",
       " 'verified': True,\n",
       " 'statuses_count': 28174,\n",
       " 'lang': None,\n",
       " 'contributors_enabled': False,\n",
       " 'is_translator': False,\n",
       " 'is_translation_enabled': False,\n",
       " 'profile_background_color': 'EBEBEB',\n",
       " 'profile_background_image_url': 'http://abs.twimg.com/images/themes/theme7/bg.gif',\n",
       " 'profile_background_image_url_https': 'https://abs.twimg.com/images/themes/theme7/bg.gif',\n",
       " 'profile_background_tile': False,\n",
       " 'profile_image_url': 'http://pbs.twimg.com/profile_images/1115644092329758721/AFjOr-K8_normal.jpg',\n",
       " 'profile_image_url_https': 'https://pbs.twimg.com/profile_images/1115644092329758721/AFjOr-K8_normal.jpg',\n",
       " 'profile_banner_url': 'https://pbs.twimg.com/profile_banners/12/1584998840',\n",
       " 'profile_link_color': '990000',\n",
       " 'profile_sidebar_border_color': 'DFDFDF',\n",
       " 'profile_sidebar_fill_color': 'F3F3F3',\n",
       " 'profile_text_color': '333333',\n",
       " 'profile_use_background_image': True,\n",
       " 'has_extended_profile': True,\n",
       " 'default_profile': False,\n",
       " 'default_profile_image': False,\n",
       " 'following': False,\n",
       " 'follow_request_sent': False,\n",
       " 'notifications': False,\n",
       " 'translator_type': 'regular',\n",
       " 'withheld_in_countries': []}"
      ]
     },
     "execution_count": 7,
     "metadata": {},
     "output_type": "execute_result"
    }
   ],
   "source": [
    "df['user'].iloc[0]"
   ]
  },
  {
   "cell_type": "code",
   "execution_count": 8,
   "metadata": {},
   "outputs": [
    {
     "name": "stdout",
     "output_type": "stream",
     "text": [
      "posts: 100.00% done\n",
      "Number of unique words: 102038\n"
     ]
    }
   ],
   "source": [
    "# word_freq_file_name = 'pkl/word_freq_pkl' \n",
    "\n",
    "# # load cached result. Important: Make sure the number of tweets used is the same in the df!\n",
    "# if os.path.exists(word_freq_file_name):\n",
    "#     with open(word_freq_file_name, 'rb') as f:\n",
    "#         word_freq = pickle.load(f)\n",
    "# else:\n",
    "\n",
    "#     with open(word_freq_file_name, 'wb') as f:\n",
    "#         pickle.dump(word_freq, f)\n",
    "\n",
    "# update word count\n",
    "for i, text in enumerate(df[\"full_text\"]):\n",
    "\n",
    "    if i % 10000 == 0:\n",
    "        print(f\"\\rposts: {i/len(df) * 100:.2f}% done\", end='')\n",
    "        \n",
    "    text_body = parse_string(text)\n",
    "    word_freq.update(text_body)\n",
    "\n",
    "print(f\"\\rposts: {100:.2f}% done\", end='')\n",
    "print()\n",
    "print(\"Number of unique words:\", len(word_freq))"
   ]
  },
  {
   "cell_type": "code",
   "execution_count": null,
   "metadata": {},
   "outputs": [],
   "source": []
  },
  {
   "cell_type": "code",
   "execution_count": 9,
   "metadata": {},
   "outputs": [
    {
     "name": "stdout",
     "output_type": "stream",
     "text": [
      "100.00% done\n",
      "pickling...\n",
      "Number of unique vocabulary words 12047\n",
      "\n",
      "finished\n"
     ]
    }
   ],
   "source": [
    "user_processed_dict = {}\n",
    "\n",
    "counter = 0\n",
    "\n",
    "voca = set()\n",
    "\n",
    "min_post_len = 5\n",
    "min_comment_len = 5\n",
    "min_word_freq = 10\n",
    "\n",
    "# counters for how many posts were removed from each source\n",
    "n_removed_posts = 0\n",
    "n_removed_comments = 0\n",
    "\n",
    "ind = 0\n",
    "\n",
    "# only loop through posts. Comments will be counted if the user is found\n",
    "# to be in the comments_user_dict \n",
    "for row in df.itertuples():\n",
    "\n",
    "    user_id = str(row.user['id'])\n",
    "\n",
    "    # add metadata\n",
    "    preprocessed_data['verified'][row.user['id']] = row.user['verified']\n",
    "    preprocessed_data['followers_count'][row.user['id']] = row.user['followers_count']\n",
    "\n",
    "    if np.isnan(row.in_reply_to_user_id):\n",
    "\n",
    "        if counter % 5000 == 0:\n",
    "            print(f\"\\r{counter/len(df) * 100:.2f}% done\", end='')\n",
    "\n",
    "        counter += 1\n",
    "\n",
    "        post_body = parse_string(row.full_text)\n",
    "        post_body = [w for w in post_body if word_freq[w] >= 10]\n",
    "        \n",
    "        # skip posts of four words or less\n",
    "        if len(post_body) < min_post_len:\n",
    "            n_removed_posts += 1\n",
    "            continue\n",
    "\n",
    "        voca.update(post_body)\n",
    "        \n",
    "        posted_time = row.created_at.date()\n",
    "        \n",
    "        preprocessed_data['user_posts'][user_id].append(post_body)\n",
    "        preprocessed_data['user_posts_num'][user_id] += 1\n",
    "        preprocessed_data['time_posts'][posted_time].append(post_body)\n",
    "\n",
    "        # also add the same post data to a dictionary accessible by\n",
    "        # the user_name and time\n",
    "        if posted_time in preprocessed_data['user_time_posts'][user_id]:\n",
    "            preprocessed_data['user_time_posts'][user_id][posted_time].append(post_body)\n",
    "        else:\n",
    "            preprocessed_data['user_time_posts'][user_id][posted_time] = [post_body]\n",
    "        \n",
    "        preprocessed_data['posts'].append(post_body)\n",
    "\n",
    "        # PROCSES COMMENT\n",
    "    else:\n",
    "\n",
    "        # each comment includes the id of the original author, BST search\n",
    "        # for them here\n",
    "        post_user_loc = df['user_id'].searchsorted(row.in_reply_to_user_id)\n",
    "        \n",
    "        # id of the auhtor of the original post\n",
    "        post_user = df.iloc[post_user_loc]['user']['id']\n",
    "        \n",
    "        # skip comments on own post to avoid self-loops\n",
    "        if str(row.user['id']) == post_user:\n",
    "            continue\n",
    "\n",
    "        comment_body = parse_string(row.full_text)\n",
    "        comment_body = [w for w in comment_body if word_freq[w] >= 10]\n",
    "        if len(comment_body) < 5:\n",
    "            continue\n",
    "        voca.update(comment_body)\n",
    "        comment_user = row.user['id']\n",
    "        comment_time = row.created_at.date()\n",
    "            \n",
    "        preprocessed_data['user_posts'][comment_user].append(comment_body)\n",
    "        preprocessed_data['time_posts'][comment_time].append(comment_body)\n",
    "\n",
    "        if posted_time in preprocessed_data['user_time_posts'][post_user]:\n",
    "            preprocessed_data['user_time_posts'][post_user][posted_time].append(post_body)\n",
    "        else:\n",
    "            preprocessed_data['user_time_posts'][post_user][posted_time] = [post_body]\n",
    "        \n",
    "        preprocessed_data['posts'].append(comment_body)\n",
    "        preprocessed_data['user_network'].add_edge(comment_user, post_user)\n",
    "        preprocessed_data['get_comment_num'][post_user] += 1\n",
    "        preprocessed_data['write_comment_num'][comment_user] += 1\n",
    "            \n",
    "\n",
    "print(f\"\\r{100:.2f}% done\", end='')\n",
    "print(\"\\npickling...\")\n",
    "\n",
    "voca = list(voca)\n",
    "preprocessed_data['voca'] = voca\n",
    "preprocessed_data['word_freq'] = word_freq\n",
    "with open(\"pkl/preprocessed_bitcoin.pkl\", 'wb') as f:\n",
    "    pickle.dump(preprocessed_data, f)\n",
    "\n",
    "print(\"Number of unique vocabulary words\", len(voca))\n",
    "print()\n",
    "print(\"finished\")\n",
    "\n"
   ]
  },
  {
   "cell_type": "code",
   "execution_count": 15,
   "metadata": {},
   "outputs": [
    {
     "data": {
      "text/plain": [
       "0.017825819702853032"
      ]
     },
     "execution_count": 15,
     "metadata": {},
     "output_type": "execute_result"
    }
   ],
   "source": []
  },
  {
   "cell_type": "code",
   "execution_count": 10,
   "metadata": {},
   "outputs": [
    {
     "name": "stdout",
     "output_type": "stream",
     "text": [
      "DiGraph with 21472 nodes and 27795 edges\n"
     ]
    }
   ],
   "source": [
    "print(preprocessed_data['user_network'])"
   ]
  },
  {
   "cell_type": "code",
   "execution_count": 11,
   "metadata": {},
   "outputs": [],
   "source": [
    "# nx.draw_shell(preprocessed_data[\"user_network\"], with_labels=True)\n"
   ]
  },
  {
   "cell_type": "code",
   "execution_count": 12,
   "metadata": {},
   "outputs": [
    {
     "name": "stdout",
     "output_type": "stream",
     "text": [
      "90\n"
     ]
    }
   ],
   "source": [
    "b = [len(a) for a in list(preprocessed_data['user_network'].adj.values())]\n",
    "print(max(b))\n"
   ]
  },
  {
   "cell_type": "code",
   "execution_count": null,
   "metadata": {},
   "outputs": [],
   "source": []
  }
 ],
 "metadata": {
  "interpreter": {
   "hash": "ac5807ccc56803d53b6c0dc06a78365d93d8e4c11f3c7f359a83bbe035ca0794"
  },
  "kernelspec": {
   "display_name": "Python 3.8.10 64-bit ('venv': venv)",
   "name": "python3"
  },
  "language_info": {
   "codemirror_mode": {
    "name": "ipython",
    "version": 3
   },
   "file_extension": ".py",
   "mimetype": "text/x-python",
   "name": "python",
   "nbconvert_exporter": "python",
   "pygments_lexer": "ipython3",
   "version": "3.8.10"
  },
  "varInspector": {
   "cols": {
    "lenName": 16,
    "lenType": 16,
    "lenVar": 40
   },
   "kernels_config": {
    "python": {
     "delete_cmd_postfix": "",
     "delete_cmd_prefix": "del ",
     "library": "var_list.py",
     "varRefreshCmd": "print(var_dic_list())"
    },
    "r": {
     "delete_cmd_postfix": ") ",
     "delete_cmd_prefix": "rm(",
     "library": "var_list.r",
     "varRefreshCmd": "cat(var_dic_list()) "
    }
   },
   "types_to_exclude": [
    "module",
    "function",
    "builtin_function_or_method",
    "instance",
    "_Feature"
   ],
   "window_display": false
  }
 },
 "nbformat": 4,
 "nbformat_minor": 2
}
