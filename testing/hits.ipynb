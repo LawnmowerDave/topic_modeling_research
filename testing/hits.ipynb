{
 "cells": [
  {
   "cell_type": "code",
   "execution_count": 14,
   "metadata": {},
   "outputs": [],
   "source": [
    "import networkx as nx\n",
    "import numpy as np\n",
    "import pickle\n",
    "import matplotlib.pyplot as plt"
   ]
  },
  {
   "cell_type": "code",
   "execution_count": 3,
   "metadata": {},
   "outputs": [
    {
     "name": "stdout",
     "output_type": "stream",
     "text": [
      "total users  26\n"
     ]
    }
   ],
   "source": [
    "with open(\"../preprocessed_bitcoin.pkl\", 'rb') as f:\n",
    "    data = pickle.load(f)\n",
    "\n",
    "# convert the word_count list into a dictionary with words as keys, \n",
    "# and counts as values\n",
    "voca2idx = {w: i for i, w in enumerate(data['voca'])}\n",
    "\n",
    "voca = data['voca']\n",
    "\n",
    "# HITS algorithm\n",
    "hubs, user_score = nx.hits(data['user_network'], max_iter=500)\n",
    "total_user_num = len(data['user_network'].nodes())\n",
    "users = sorted(user_score, key=user_score.get, reverse=True)\n",
    "score_sum = sum(user_score.values())\n",
    "\n",
    "print(\"total users \", total_user_num)\n"
   ]
  },
  {
   "cell_type": "code",
   "execution_count": 17,
   "metadata": {},
   "outputs": [
    {
     "data": {
      "text/plain": [
       "[<matplotlib.lines.Line2D at 0x7f9a8aace160>]"
      ]
     },
     "execution_count": 17,
     "metadata": {},
     "output_type": "execute_result"
    },
    {
     "data": {
      "image/png": "[encoded data removed]",
      "text/plain": [
       "<Figure size 432x288 with 1 Axes>"
      ]
     },
     "metadata": {
      "needs_background": "light"
     },
     "output_type": "display_data"
    }
   ],
   "source": [
    "\n",
    "sorted_authorities = {k: v for k, v in sorted(user_score.items(), key=lambda item: item[1], reverse=True)}\n",
    "x = [i for i in range(len(sorted_authorities))]\n",
    "\n",
    "# graph distribution of authority scores\n",
    "# plt.yscale('log')\n",
    "plt.plot(x, sorted_authorities.values())"
   ]
  }
 ],
 "metadata": {
  "interpreter": {
   "hash": "ac5807ccc56803d53b6c0dc06a78365d93d8e4c11f3c7f359a83bbe035ca0794"
  },
  "kernelspec": {
   "display_name": "Python 3.8.10 64-bit ('venv': venv)",
   "name": "python3"
  },
  "language_info": {
   "codemirror_mode": {
    "name": "ipython",
    "version": 3
   },
   "file_extension": ".py",
   "mimetype": "text/x-python",
   "name": "python",
   "nbconvert_exporter": "python",
   "pygments_lexer": "ipython3",
   "version": "3.8.10"
  },
  "orig_nbformat": 4
 },
 "nbformat": 4,
 "nbformat_minor": 2
}
