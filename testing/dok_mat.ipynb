{
 "cells": [
  {
   "cell_type": "code",
   "execution_count": 1,
   "metadata": {},
   "outputs": [],
   "source": [
    "\n",
    "import numpy as np\n",
    "from scipy.sparse import dok_matrix\n",
    "from sklearn.preprocessing import normalize"
   ]
  },
  {
   "cell_type": "code",
   "execution_count": 16,
   "metadata": {},
   "outputs": [
    {
     "name": "stdout",
     "output_type": "stream",
     "text": [
      "prev\n",
      "   (0, 1)\t1.0\n",
      "  (0, 2)\t2.0\n",
      "  (0, 3)\t3.0\n",
      "  (0, 4)\t4.0\n",
      "new\n",
      "   (0, 1)\t0.13483997249264842\n",
      "  (0, 2)\t0.21081851067789195\n",
      "  (0, 3)\t0.25819888974716115\n",
      "  (0, 4)\t0.29019050004400465\n"
     ]
    }
   ],
   "source": [
    "# tdm = dok_matrix((len(data['posts']), len(voca)), dtype=np.float32)\n",
    "\n",
    "mat = dok_matrix((5, 5), dtype=np.float64)\n",
    "\n",
    "\n",
    "for i in range(mat.shape[0]):\n",
    "    for j in range(mat.shape[1]):\n",
    "        mat[i, j] = i + j\n",
    "\n",
    "print(\"prev\\n\", mat[0])\n",
    "new = normalize(mat, axis=0)\n",
    "print(\"new\\n\", new[0])\n"
   ]
  }
 ],
 "metadata": {
  "interpreter": {
   "hash": "ac5807ccc56803d53b6c0dc06a78365d93d8e4c11f3c7f359a83bbe035ca0794"
  },
  "kernelspec": {
   "display_name": "Python 3.8.10 64-bit ('venv': venv)",
   "name": "python3"
  },
  "language_info": {
   "codemirror_mode": {
    "name": "ipython",
    "version": 3
   },
   "file_extension": ".py",
   "mimetype": "text/x-python",
   "name": "python",
   "nbconvert_exporter": "python",
   "pygments_lexer": "ipython3",
   "version": "3.8.10"
  },
  "orig_nbformat": 4
 },
 "nbformat": 4,
 "nbformat_minor": 2
}
