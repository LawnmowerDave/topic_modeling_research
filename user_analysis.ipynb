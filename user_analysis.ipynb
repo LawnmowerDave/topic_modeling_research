{
 "cells": [
  {
   "cell_type": "code",
   "execution_count": 1,
   "metadata": {
    "ExecuteTime": {
     "end_time": "2018-06-17T14:30:14.228084Z",
     "start_time": "2018-06-17T14:30:11.598708Z"
    },
    "collapsed": true
   },
   "outputs": [],
   "source": [
    "from sklearn.decomposition import NMF\n",
    "from sklearn.preprocessing import normalize\n",
    "from sklearn.feature_extraction.text import TfidfTransformer\n",
    "from scipy.stats import pareto\n",
    "import matplotlib.pyplot as plt\n",
    "from scipy.sparse import dok_matrix\n",
    "from math import log10\n",
    "import numpy as np\n",
    "import networkx as nx\n",
    "import pickle\n",
    "from util import *"
   ]
  },
  {
   "cell_type": "code",
   "execution_count": 2,
   "metadata": {
    "ExecuteTime": {
     "end_time": "2018-06-17T14:30:19.705823Z",
     "start_time": "2018-06-17T14:30:14.239154Z"
    },
    "collapsed": true
   },
   "outputs": [],
   "source": [
    "# use this to select only a subset of the data to speed up processing, None to skip\n",
    "with open(\"pkl/preprocessed_bitcoin.pkl\", 'rb') as f:\n",
    "    data = pickle.load(f)\n",
    "\n",
    "post_num = None\n",
    "\n",
    "voca2idx = {w: i for i, w in enumerate(data['voca'])}\n",
    "voca = data['voca']\n",
    "\n",
    "if not(post_num is None):\n",
    "    data['posts'] = data['posts'][:post_num]\n"
   ]
  },
  {
   "cell_type": "code",
   "execution_count": 3,
   "metadata": {
    "ExecuteTime": {
     "end_time": "2018-06-05T13:14:50.609922Z",
     "start_time": "2018-06-05T13:14:37.900310Z"
    },
    "collapsed": true
   },
   "outputs": [],
   "source": [
    "# user_score = nx.pagerank(data['user_network'], tol=1e-8, max_iter=200)\n",
    "hubs, user_score = nx.hits(data['user_network'], max_iter=200)\n",
    "total_user_num = len(data['user_network'].nodes())\n",
    "top_users = sorted(user_score, key=user_score.get, reverse=True)\n",
    "\n",
    "fwrite = open('hits_user_score_post_num.tsv', 'w')\n",
    "fwrite.write(\"id\\tlog id\\tuser\\tscore\\tpost num\\tget comment num\\twrite comment num\\n\")\n",
    "for i, user in enumerate(top_users):\n",
    "    fwrite.write(\"{}\\t{}\\t{}\\t{}\\t{}\\t{}\\t{}\\n\".format(\n",
    "        i + 1, log10(i+1), user, user_score[user], data['user_posts_num'][user], \n",
    "        data['get_comment_num'][user], data['write_comment_num'][user]))\n",
    "fwrite.close()\n",
    "# 전체 게시물 수와 상위유저+하위유저 게시물 갯수가 다른건 아예 소통이 없던 유저의 게시물이 있기 때문!"
   ]
  },
  {
   "cell_type": "code",
   "execution_count": 4,
   "metadata": {},
   "outputs": [],
   "source": [
    "# for user in top_users:\n",
    "#     print(f\"{user} {user_score[user]} {len(data['user_network'].adj[user])}\")"
   ]
  },
  {
   "cell_type": "code",
   "execution_count": 7,
   "metadata": {},
   "outputs": [
    {
     "data": {
      "text/plain": [
       "<matplotlib.legend.Legend at 0x7fe576fe8d90>"
      ]
     },
     "execution_count": 7,
     "metadata": {},
     "output_type": "execute_result"
    },
    {
     "data": {
      "image/png": "[encoded data removed]",
      "text/plain": [
       "<Figure size 432x288 with 2 Axes>"
      ]
     },
     "metadata": {
      "needs_background": "light"
     },
     "output_type": "display_data"
    }
   ],
   "source": [
    "sorted_scores = sorted([v for v in user_score.values()], reverse=True)\n",
    "\n",
    "# b for standard 80/20 distribution\n",
    "b = 1.16\n",
    "fig, ax = plt.subplots(1, 2)\n",
    "mean, var, skew, kurt = pareto.stats(b, moments='mvsk')\n",
    "x = np.linspace(pareto.ppf(0.01, b), pareto.ppf(0.99, b), len(sorted_scores))\n",
    "\n",
    "ax[0].title.set_text(\"linear scale\")\n",
    "ax[0].plot(x, sorted_scores, \"red\", lw=3, linestyle='dashed', label='Users')\n",
    "ax[0].plot(x, pareto.pdf(x, b), 'blue', alpha=0.6, label='Pareto')\n",
    "\n",
    "ax[1].title.set_text(\"log scale\")\n",
    "ax[1].set_yscale('log')\n",
    "ax[1].plot(x, sorted_scores, \"red\", lw=3, linestyle='dashed', label='Users')\n",
    "ax[1].plot(x, pareto.pdf(x, b), 'blue', alpha=0.6, label='Pareto')\n",
    "\n",
    "ax[0].legend()\n",
    "ax[1].legend()"
   ]
  },
  {
   "cell_type": "code",
   "execution_count": 6,
   "metadata": {},
   "outputs": [
    {
     "name": "stderr",
     "output_type": "stream",
     "text": [
      "/home/matthew/programming/topic_modeling_research/venv/lib/python3.8/site-packages/scipy/stats/_distn_infrastructure.py:2606: RuntimeWarning: invalid value encountered in double_scalars\n",
      "  Lhat = muhat - Shat*mu\n"
     ]
    },
    {
     "data": {
      "text/plain": [
       "(1.8589276010782347, -9.877253549354087e-19, 7.292617362528748e-19)"
      ]
     },
     "execution_count": 6,
     "metadata": {},
     "output_type": "execute_result"
    }
   ],
   "source": [
    "# Fit distribution\n",
    "# todo: look at this SO thread to see if there are any other distributions that this data may fit\n",
    "# https://stackoverflow.com/questions/37487830/how-to-find-probability-distribution-and-parameters-for-real-data-python-3\n",
    "\n",
    "pareto.fit(sorted_scores)"
   ]
  },
  {
   "cell_type": "code",
   "execution_count": 4,
   "metadata": {},
   "outputs": [],
   "source": [
    "# users = {u: len(v) for u, v in sorted(data['user_network'].adj.items(), key=lambda e: len(e[1]), reverse=True)}\n",
    "\n",
    "# for user, n_adj in users.items():\n",
    "#     print(user, n_adj, user_score[user])"
   ]
  },
  {
   "cell_type": "code",
   "execution_count": 8,
   "metadata": {
    "ExecuteTime": {
     "end_time": "2018-06-05T13:21:01.851046Z",
     "start_time": "2018-06-05T13:15:07.730973Z"
    }
   },
   "outputs": [
    {
     "name": "stdout",
     "output_type": "stream",
     "text": [
      "25.60% done"
     ]
    }
   ],
   "source": [
    "# construct the term frequency matrix for entire community and run \n",
    "# topic modeling for it\n",
    "counter = 0\n",
    "total_len = len(data['posts'])\n",
    "\n",
    "tdm_tot = dok_matrix((len(data['posts']), len(voca)), dtype=np.float32)\n",
    "for i, post in enumerate(data['posts']):\n",
    "\n",
    "    if counter % 1000 == 0:\n",
    "        print(f\"\\r{counter/total_len * 100:.2f}% done\", end='')\n",
    "\n",
    "    for word in post:\n",
    "        tdm_tot[i, voca2idx[word]] += 1\n",
    "\n",
    "    counter += 1\n",
    "        \n",
    "\n",
    "print(f\"\\r{100:.2f}% done\", end='')\n",
    "\n",
    "tdm_tot = normalize(tdm_tot)\n",
    "# compressed sparse row matrix, where row operations are rendered more efficient\n",
    "# in our case documents are stored in the rows\n",
    "tdm_tot = tdm_tot.tocsr()"
   ]
  },
  {
   "cell_type": "code",
   "execution_count": 21,
   "metadata": {
    "ExecuteTime": {
     "end_time": "2018-06-05T13:26:52.457474Z",
     "start_time": "2018-06-05T13:21:27.117210Z"
    },
    "collapsed": true
   },
   "outputs": [
    {
     "name": "stderr",
     "output_type": "stream",
     "text": [
      "/home/matthew/programming/topic_modeling_research/venv/lib/python3.8/site-packages/sklearn/decomposition/_nmf.py:289: FutureWarning: The 'init' value, when 'init=None' and n_components is less than n_samples and n_features, will be changed from 'nndsvd' to 'nndsvda' in 1.1 (renaming of 0.26).\n",
      "  warnings.warn(\n",
      "/home/matthew/programming/topic_modeling_research/venv/lib/python3.8/site-packages/sklearn/decomposition/_nmf.py:1637: ConvergenceWarning: Maximum number of iterations 500 reached. Increase it to improve convergence.\n",
      "  warnings.warn(\n"
     ]
    }
   ],
   "source": [
    "K = 10\n",
    "alpha_W = 0\n",
    "alpha_H = 0\n",
    "\n",
    "nmf = NMF(n_components=K, alpha_W=alpha_W, alpha_H=alpha_H, max_iter=500)\n",
    "nmf.fit(tdm_tot)\n",
    "H_total = nmf.components_"
   ]
  },
  {
   "cell_type": "code",
   "execution_count": 9,
   "metadata": {
    "ExecuteTime": {
     "end_time": "2018-06-05T13:27:14.863967Z",
     "start_time": "2018-06-05T13:27:14.833140Z"
    }
   },
   "outputs": [
    {
     "name": "stdout",
     "output_type": "stream",
     "text": [
      "0.00% of users account for 80% of the authority.\n"
     ]
    }
   ],
   "source": [
    "# 상위 유저 분석!\n",
    "# segregate users based on hits algorithm. Moving those in the top\n",
    "# 20 percent into a separate group. top_index is just the cutoff\n",
    "# point for where this gruop is\n",
    "acc_sum = 0\n",
    "top_index = 0\n",
    "score_sum = sum(user_score.values())\n",
    "for i, top_user in enumerate(sorted(user_score, key=user_score.get, reverse=True)):\n",
    "    acc_sum += user_score[top_user]/score_sum\n",
    "    if acc_sum > 0.8:\n",
    "        top_index = i\n",
    "        break\n",
    "\n",
    "top_users = top_users[:top_index]\n",
    "print(f\"{top_index/len(user_score):.2f}% of users account for 80% of the authority.\")"
   ]
  },
  {
   "cell_type": "code",
   "execution_count": 10,
   "metadata": {
    "ExecuteTime": {
     "end_time": "2018-06-05T13:27:34.422418Z",
     "start_time": "2018-06-05T13:27:34.358389Z"
    },
    "collapsed": true
   },
   "outputs": [],
   "source": [
    "top_user_posts = []\n",
    "for user in top_users:\n",
    "    for post in data['user_posts'][user]:\n",
    "        top_user_posts.append(post)"
   ]
  },
  {
   "cell_type": "code",
   "execution_count": 11,
   "metadata": {
    "ExecuteTime": {
     "end_time": "2018-06-05T13:31:07.424005Z",
     "start_time": "2018-06-05T13:27:55.315231Z"
    }
   },
   "outputs": [
    {
     "name": "stdout",
     "output_type": "stream",
     "text": [
      "(69064, 19549)\n"
     ]
    }
   ],
   "source": [
    "# TDM for top users\n",
    "tdm_top = dok_matrix((len(top_user_posts), len(voca)), dtype=np.float32)\n",
    "for i, post in enumerate(top_user_posts):\n",
    "    for word in post:\n",
    "        tdm_top[i, voca2idx[word]] += 1\n",
    "        \n",
    "tdm_top = normalize(tdm_top)\n",
    "tdm_top = tdm_top.tocsr()\n",
    "print(tdm_top.shape)"
   ]
  },
  {
   "cell_type": "code",
   "execution_count": 22,
   "metadata": {
    "ExecuteTime": {
     "end_time": "2018-06-05T13:34:39.320342Z",
     "start_time": "2018-06-05T13:31:27.331982Z"
    },
    "collapsed": true
   },
   "outputs": [
    {
     "name": "stderr",
     "output_type": "stream",
     "text": [
      "/home/matthew/programming/topic_modeling_research/venv/lib/python3.8/site-packages/sklearn/decomposition/_nmf.py:289: FutureWarning: The 'init' value, when 'init=None' and n_components is less than n_samples and n_features, will be changed from 'nndsvd' to 'nndsvda' in 1.1 (renaming of 0.26).\n",
      "  warnings.warn(\n",
      "/home/matthew/programming/topic_modeling_research/venv/lib/python3.8/site-packages/sklearn/decomposition/_nmf.py:1637: ConvergenceWarning: Maximum number of iterations 500 reached. Increase it to improve convergence.\n",
      "  warnings.warn(\n"
     ]
    }
   ],
   "source": [
    "nmf = NMF(n_components=K, alpha_H=0, alpha_W=0, max_iter=500)\n",
    "nmf.fit(tdm_top)\n",
    "H_top = nmf.components_"
   ]
  },
  {
   "cell_type": "code",
   "execution_count": 13,
   "metadata": {
    "ExecuteTime": {
     "end_time": "2018-06-05T13:34:59.627466Z",
     "start_time": "2018-06-05T13:34:59.535169Z"
    },
    "collapsed": true
   },
   "outputs": [],
   "source": [
    "# 하위 유저 분석!\n",
    "# everything EXCEPT for the top users\n",
    "low_users = sorted(user_score, key=user_score.get, reverse=False)[:-top_index]\n",
    "\n",
    "maj_user_posts = []\n",
    "for user in low_users:\n",
    "    for post in data['user_posts'][user]:\n",
    "        maj_user_posts.append(post)"
   ]
  },
  {
   "cell_type": "code",
   "execution_count": 15,
   "metadata": {
    "ExecuteTime": {
     "end_time": "2018-06-05T13:38:11.700466Z",
     "start_time": "2018-06-05T13:35:18.578770Z"
    }
   },
   "outputs": [
    {
     "name": "stdout",
     "output_type": "stream",
     "text": [
      "(213944, 19549)\n"
     ]
    }
   ],
   "source": [
    "# TDM for majority users\n",
    "tdm_maj = dok_matrix((len(maj_user_posts), len(voca)), dtype=np.float32)\n",
    "for i, post in enumerate(maj_user_posts):\n",
    "    for word in post:\n",
    "        tdm_maj[i, voca2idx[word]] += 1\n",
    "        \n",
    "tdm_maj = normalize(tdm_maj)\n",
    "tdm_maj = tdm_maj.tocsr()\n",
    "print(tdm_maj.shape)"
   ]
  },
  {
   "cell_type": "code",
   "execution_count": 23,
   "metadata": {
    "ExecuteTime": {
     "end_time": "2018-06-05T13:40:41.503530Z",
     "start_time": "2018-06-05T13:38:31.370976Z"
    },
    "collapsed": true
   },
   "outputs": [
    {
     "name": "stderr",
     "output_type": "stream",
     "text": [
      "/home/matthew/programming/topic_modeling_research/venv/lib/python3.8/site-packages/sklearn/decomposition/_nmf.py:289: FutureWarning: The 'init' value, when 'init=None' and n_components is less than n_samples and n_features, will be changed from 'nndsvd' to 'nndsvda' in 1.1 (renaming of 0.26).\n",
      "  warnings.warn(\n",
      "/home/matthew/programming/topic_modeling_research/venv/lib/python3.8/site-packages/sklearn/decomposition/_nmf.py:1637: ConvergenceWarning: Maximum number of iterations 500 reached. Increase it to improve convergence.\n",
      "  warnings.warn(\n"
     ]
    }
   ],
   "source": [
    "nmf = NMF(n_components=K, alpha_H=0, alpha_W=0, max_iter=500)\n",
    "nmf.fit(tdm_maj)\n",
    "H_low = nmf.components_"
   ]
  },
  {
   "cell_type": "code",
   "execution_count": 24,
   "metadata": {
    "ExecuteTime": {
     "end_time": "2018-06-05T13:41:12.475667Z",
     "start_time": "2018-06-05T13:41:12.241842Z"
    }
   },
   "outputs": [
    {
     "name": "stdout",
     "output_type": "stream",
     "text": [
      "total users: 0th topic\n",
      "block btc time transaction value miner total supply number size utc issued byte price unknown pool antpool viabtc slushpool bitfury \n",
      "top users: 2th topic, similarity - 0.9883061051368713\n",
      "btc block time price value transaction miner supply number size utc issued byte total unknown bitfury network bitclub bitminter pynk \n",
      "majority users: 9th topic, similarity - 0.14091353118419647\n",
      "ethereum node exchange token proof wallet litecoin mining transaction digital asset miner fee full block rate lightning moon work security \n",
      "\n",
      "total users: 1th topic\n",
      "bitcoin news coindesk pulte cash get now money future bakkt new gold buy market time ethereum mining cryptocurrency day bank \n",
      "top users: 3th topic, similarity - 0.9821627140045166\n",
      "bitcoin report crypto future new btc market blockchain gold now amp bakkt via buy investor money year dropgold network first \n",
      "majority users: 0th topic, similarity - 0.9986476898193359\n",
      "bitcoin news pulte buy cash new now get coindesk time money bakkt gold future cointelegraph bank next day finance newsbtc \n",
      "\n",
      "total users: 2th topic\n",
      "binance btc buy bullish buying bought volume market activity cryptotrading min maker duration vib mtl agi storm mft key iotx \n",
      "top users: 4th topic, similarity - 0.11556714028120041\n",
      "btc block time price value miner transaction supply number size utc issued byte total antpool bitfury network bitclub bitminter pynk \n",
      "majority users: 8th topic, similarity - 0.017793433740735054\n",
      "blockchain cryptocurrency securypto ethereum hackernoon news cryptocrunchapp altcoin coindesk cryptonews technology cryptotrading fintech libra eos bnb trx project thanks good \n",
      "\n",
      "total users: 3th topic\n",
      "xrp eth ltc bch trading update hour crypto btc price usdt bitcoin usd eos xlm bnb trx ethereum ripple bsv \n",
      "top users: 8th topic, similarity - 0.4995104968547821\n",
      "asset btc eth xrp digital ltc bch investment etc product zec update zen billion management holding net aum xlm total \n",
      "majority users: 1th topic, similarity - 0.990353524684906\n",
      "xrp eth bch ltc trading hour update btc bitcoin usdt price crypto usd eos bnb trx xlm ada bsv ethereum \n",
      "\n",
      "total users: 4th topic\n",
      "ico concertvr cvt eth get free token join german now xrp xlm etc neo starting virtualreality ethereum airdrop crypto presale \n",
      "top users: 7th topic, similarity - 0.16532647609710693\n",
      "day get free every interested earning pack info sleep bitcoin btc app buy airdrop minute make invested earn check using \n",
      "majority users: 3th topic, similarity - 0.9971160292625427\n",
      "ico concertvr cvt eth get free join token german now xlm xrp starting etc neo virtualreality airdrop ethereum presale mcaffee \n",
      "\n",
      "total users: 5th topic\n",
      "btc change ranking cap market new usd bakkt signal eth alt btcusd amp trade day long short pulte look make \n",
      "top users: 9th topic, similarity - 0.4393980801105499\n",
      "btc block time price supply miner value transaction number size utc issued byte total slushpool bitfury network bitclub pynk market \n",
      "majority users: 2th topic, similarity - 0.9983774423599243\n",
      "btc change ranking bakkt usd cap time alt eth day buy pulte trade long short make need look today amp \n",
      "\n",
      "total users: 6th topic\n",
      "binance btc market sell bearish selling volume sold activity cryptotrading maker min duration ncash mft key bnt storm hot tnb \n",
      "top users: 6th topic, similarity - 0.12263809144496918\n",
      "btc block time price value miner supply transaction number size utc issued byte total viabtc bitfury network bitclub pynk market \n",
      "majority users: 7th topic, similarity - 0.1929905116558075\n",
      "market cap change ranking bitcoin ccn trx price eos bch cryptocurrency stock bear ada bnb bull billion update red xlm \n",
      "\n",
      "total users: 7th topic\n",
      "crypto blockchain cryptocurrency exchange news securypto cryptonews cryptocurrencies altcoin litecoin world xlm cryptocrunchapp ether biggest ethereum code cryptocurrencynews erc mission \n",
      "top users: 1th topic, similarity - 0.564904510974884\n",
      "crypto exchange btc binance cryptocurrency eth cryptocurrencies world litecoin referral ltc ether code cryptocurrencynews altcoin xlm mission biggest erc offered \n",
      "majority users: 4th topic, similarity - 0.8949133157730103\n",
      "crypto news exchange market btcusd amp currency last trading cryptocrunchapp trader mastermetals facebook cryptonews xrp now libra neo xlm trx \n",
      "\n",
      "total users: 8th topic\n",
      "price market cap change ranking analysis bitcoin usd prediction newsbtc drop analyst bull break fxstreet support latest index signal cointelegraph \n",
      "top users: 5th topic, similarity - 0.5389697551727295\n",
      "price bitcoin latest usd index breaking heatmap news month cryptocurrency support prediction drop via eye report hit hour first long \n",
      "majority users: 5th topic, similarity - 0.955024242401123\n",
      "price analysis bitcoin newsbtc prediction drop usd analyst break support fxstreet ethereum cointelegraph bull bullish rally key hit weekly low \n",
      "\n",
      "total users: 9th topic\n",
      "ago year week month bitcoin last next low time old end day two since now hit past today first couple \n",
      "top users: 0th topic, similarity - 0.0014302690979093313\n",
      "btc block time price value miner transaction supply number size utc issued byte total pool bitfury network bitclub bitminter airdrop \n",
      "majority users: 6th topic, similarity - 0.9997141361236572\n",
      "ago year week month bitcoin last next low old end two time day since past hit market couple now five \n",
      "\n",
      "0.44182136391755195 0.7185843857005239\n"
     ]
    }
   ],
   "source": [
    "from sklearn.metrics.pairwise import pairwise_distances\n",
    "from sklearn.metrics.pairwise import cosine_similarity\n",
    "from scipy.optimize import linear_sum_assignment\n",
    "\n",
    "# hungarian algorithm\n",
    "top_distances = pairwise_distances(H_total, H_top, metric='cosine')\n",
    "_, top_indices = linear_sum_assignment(top_distances)\n",
    "\n",
    "low_distances = pairwise_distances(H_total, H_low, metric='cosine')\n",
    "_, low_indices = linear_sum_assignment(low_distances)\n",
    "\n",
    "top_similarity_average = 0\n",
    "low_similarity_average = 0\n",
    "\n",
    "top_similarities = []\n",
    "low_similarities = []\n",
    "\n",
    "for k in range(K):\n",
    "    top_similarity = cosine_similarity(H_top[top_indices[k]].reshape(1, -1), H_total[k].reshape(1,-1))[0, 0]\n",
    "    low_similarity = cosine_similarity(H_low[low_indices[k]].reshape(1, -1), H_total[k].reshape(1,-1))[0, 0]\n",
    "    top_similarity_average += top_similarity\n",
    "    low_similarity_average += low_similarity\n",
    "\n",
    "    top_similarities.append(top_similarity)\n",
    "    low_similarities.append(low_similarity)\n",
    "   \n",
    "    print(f\"total users: {k}th topic\")\n",
    "    for i in H_total[k, :].argsort()[::-1][:20]:\n",
    "        print(voca[i], end=' ')\n",
    "    print()\n",
    "    \n",
    "    print(f\"top users: {top_indices[k]}th topic, similarity - {top_similarity}\")\n",
    "    for i in H_top[top_indices[k]].argsort()[::-1][:20]:\n",
    "        print(voca[i], end=' ')\n",
    "    print()\n",
    "    \n",
    "    print(f\"majority users: {low_indices[k]}th topic, similarity - {low_similarity}\")\n",
    "    for i in H_low[low_indices[k]].argsort()[::-1][:20]:\n",
    "        print(voca[i], end=' ')\n",
    "    print()\n",
    "    \n",
    "    print()\n",
    "    \n",
    "top_similarity_average /= K\n",
    "low_similarity_average /= K\n",
    "\n",
    "print(top_similarity_average, low_similarity_average)"
   ]
  },
  {
   "cell_type": "code",
   "execution_count": 25,
   "metadata": {
    "collapsed": true
   },
   "outputs": [
    {
     "data": {
      "image/png": "[encoded data removed]",
      "text/plain": [
       "<Figure size 432x288 with 1 Axes>"
      ]
     },
     "metadata": {
      "needs_background": "light"
     },
     "output_type": "display_data"
    }
   ],
   "source": [
    "'''\n",
    "The graph of the similarity scores between majority and opinion leaders vs the H_total\n",
    "'''\n",
    "x = range(len(top_similarities))\n",
    "\n",
    "plt.title('Similarities vs Topics')\n",
    "plt.plot(x, top_similarities, label='opinion leaders')\n",
    "plt.plot(x, low_similarities, label='majority users')\n",
    "plt.legend()\n",
    "plt.show()"
   ]
  },
  {
   "cell_type": "code",
   "execution_count": 26,
   "metadata": {},
   "outputs": [
    {
     "name": "stdout",
     "output_type": "stream",
     "text": [
      "opinion leader average: 0.4418213367462158\n",
      "majority users average: 0.718584418296814\n"
     ]
    }
   ],
   "source": [
    "print(f\"opinion leader average: {np.average(top_similarities)}\")\n",
    "print(f\"majority users average: {np.average(low_similarities)}\")"
   ]
  }
 ],
 "metadata": {
  "interpreter": {
   "hash": "ac5807ccc56803d53b6c0dc06a78365d93d8e4c11f3c7f359a83bbe035ca0794"
  },
  "kernelspec": {
   "display_name": "Python 3.8.10 64-bit ('venv': venv)",
   "name": "python3"
  },
  "language_info": {
   "codemirror_mode": {
    "name": "ipython",
    "version": 3
   },
   "file_extension": ".py",
   "mimetype": "text/x-python",
   "name": "python",
   "nbconvert_exporter": "python",
   "pygments_lexer": "ipython3",
   "version": "3.8.10"
  },
  "varInspector": {
   "cols": {
    "lenName": 16,
    "lenType": 16,
    "lenVar": 40
   },
   "kernels_config": {
    "python": {
     "delete_cmd_postfix": "",
     "delete_cmd_prefix": "del ",
     "library": "var_list.py",
     "varRefreshCmd": "print(var_dic_list())"
    },
    "r": {
     "delete_cmd_postfix": ") ",
     "delete_cmd_prefix": "rm(",
     "library": "var_list.r",
     "varRefreshCmd": "cat(var_dic_list()) "
    }
   },
   "types_to_exclude": [
    "module",
    "function",
    "builtin_function_or_method",
    "instance",
    "_Feature"
   ],
   "window_display": false
  }
 },
 "nbformat": 4,
 "nbformat_minor": 2
}
