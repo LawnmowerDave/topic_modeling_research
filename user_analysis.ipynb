{
 "cells": [
  {
   "cell_type": "code",
   "execution_count": 1,
   "metadata": {
    "ExecuteTime": {
     "end_time": "2018-06-17T14:30:14.228084Z",
     "start_time": "2018-06-17T14:30:11.598708Z"
    },
    "collapsed": true
   },
   "outputs": [],
   "source": [
    "from sklearn.decomposition import NMF\n",
    "from sklearn.preprocessing import normalize\n",
    "from sklearn.feature_extraction.text import TfidfTransformer\n",
    "from scipy.stats import pareto\n",
    "import matplotlib.pyplot as plt\n",
    "from scipy.sparse import dok_matrix\n",
    "from math import log10\n",
    "import numpy as np\n",
    "import networkx as nx\n",
    "import pickle\n",
    "from util import *"
   ]
  },
  {
   "cell_type": "code",
   "execution_count": 6,
   "metadata": {
    "ExecuteTime": {
     "end_time": "2018-06-17T14:30:19.705823Z",
     "start_time": "2018-06-17T14:30:14.239154Z"
    },
    "collapsed": true
   },
   "outputs": [],
   "source": [
    "# use this to select only a subset of the data to speed up processing, None to skip\n",
    "with open(\"pkl/preprocessed_bitcoin.pkl\", 'rb') as f:\n",
    "    data = pickle.load(f)\n",
    "\n",
    "post_num = 10000\n",
    "\n",
    "voca2idx = {w: i for i, w in enumerate(data['voca'])}\n",
    "voca = data['voca']\n",
    "\n",
    "if not(post_num is None):\n",
    "    data['posts'] = data['posts'][:post_num]"
   ]
  },
  {
   "cell_type": "code",
   "execution_count": 7,
   "metadata": {
    "ExecuteTime": {
     "end_time": "2018-06-05T13:14:50.609922Z",
     "start_time": "2018-06-05T13:14:37.900310Z"
    },
    "collapsed": true
   },
   "outputs": [],
   "source": [
    "# user_score = nx.pagerank(data['user_network'], tol=1e-8, max_iter=200)\n",
    "hubs, user_score = nx.hits(data['user_network'], max_iter=50)\n",
    "total_user_num = len(data['user_network'].nodes())\n",
    "top_users = sorted(user_score, key=user_score.get, reverse=True)\n",
    "\n",
    "fwrite = open('hits_user_score_post_num.tsv', 'w')\n",
    "fwrite.write(\"id\\tlog id\\tuser\\tscore\\tpost num\\tget comment num\\twrite comment num\\n\")\n",
    "for i, user in enumerate(top_users):\n",
    "    fwrite.write(\"{}\\t{}\\t{}\\t{}\\t{}\\t{}\\t{}\\n\".format(\n",
    "        i + 1, log10(i+1), user, user_score[user], data['user_posts_num'][user], \n",
    "        data['get_comment_num'][user], data['write_comment_num'][user]))\n",
    "fwrite.close()\n",
    "# 전체 게시물 수와 상위유저+하위유저 게시물 갯수가 다른건 아예 소통이 없던 유저의 게시물이 있기 때문!"
   ]
  },
  {
   "cell_type": "code",
   "execution_count": 8,
   "metadata": {},
   "outputs": [
    {
     "data": {
      "text/plain": [
       "<matplotlib.legend.Legend at 0x7fb5584d7220>"
      ]
     },
     "execution_count": 8,
     "metadata": {},
     "output_type": "execute_result"
    },
    {
     "data": {
      "image/png": "[encoded data removed]",
      "text/plain": [
       "<Figure size 432x288 with 2 Axes>"
      ]
     },
     "metadata": {
      "needs_background": "light"
     },
     "output_type": "display_data"
    }
   ],
   "source": [
    "sorted_scores = sorted([v for v in user_score.values()], reverse=True)\n",
    "\n",
    "# b for standard 80/20 distribution\n",
    "b = 1.16\n",
    "fig, ax = plt.subplots(1, 2)\n",
    "mean, var, skew, kurt = pareto.stats(b, moments='mvsk')\n",
    "x = np.linspace(pareto.ppf(0.01, b), pareto.ppf(0.99, b), len(sorted_scores))\n",
    "\n",
    "ax[0].title.set_text(\"linear scale\")\n",
    "ax[0].plot(x, sorted_scores, \"red\", lw=3, linestyle='dashed', label='Users')\n",
    "ax[0].plot(x, pareto.pdf(x, b), 'blue', alpha=0.6, label='Pareto')\n",
    "\n",
    "ax[1].title.set_text(\"log scale\")\n",
    "ax[1].set_yscale('log')\n",
    "ax[1].plot(x, sorted_scores, \"red\", lw=3, linestyle='dashed', label='Users')\n",
    "ax[1].plot(x, pareto.pdf(x, b), 'blue', alpha=0.8, label='Pareto')\n",
    "\n",
    "ax[0].legend()\n",
    "ax[1].legend()"
   ]
  },
  {
   "cell_type": "code",
   "execution_count": 4,
   "metadata": {},
   "outputs": [],
   "source": [
    "# users = {u: len(v) for u, v in sorted(data['user_network'].adj.items(), key=lambda e: len(e[1]), reverse=True)}\n",
    "\n",
    "# for user, n_adj in users.items():\n",
    "#     print(user, n_adj, user_score[user])"
   ]
  },
  {
   "cell_type": "code",
   "execution_count": 9,
   "metadata": {
    "ExecuteTime": {
     "end_time": "2018-06-05T13:21:01.851046Z",
     "start_time": "2018-06-05T13:15:07.730973Z"
    }
   },
   "outputs": [
    {
     "name": "stdout",
     "output_type": "stream",
     "text": [
      "100.00% done(10000, 76034)\n"
     ]
    }
   ],
   "source": [
    "# construct the term frequency matrix for entire community and run \n",
    "# topic modeling for it\n",
    "counter = 0\n",
    "total_len = len(data['posts'])\n",
    "\n",
    "tdm = dok_matrix((len(data['posts']), len(voca)), dtype=np.float32)\n",
    "for i, post in enumerate(data['posts']):\n",
    "\n",
    "    if counter % 1000 == 0:\n",
    "        print(f\"\\r{counter/total_len * 100:.2f}% done\", end='')\n",
    "\n",
    "    for word in post:\n",
    "        tdm[i, voca2idx[word]] += 1\n",
    "\n",
    "    counter += 1\n",
    "        \n",
    "\n",
    "print(f\"\\r{100:.2f}% done\", end='')\n",
    "\n",
    "tdm = normalize(tdm)\n",
    "# compressed sparse row matrix, where row operations are rendered more efficient\n",
    "# in our case documents are stored in the rows\n",
    "tdm = tdm.tocsr()\n",
    "print(tdm.shape)"
   ]
  },
  {
   "cell_type": "code",
   "execution_count": 19,
   "metadata": {
    "ExecuteTime": {
     "end_time": "2018-06-05T13:26:52.457474Z",
     "start_time": "2018-06-05T13:21:27.117210Z"
    },
    "collapsed": true
   },
   "outputs": [
    {
     "name": "stderr",
     "output_type": "stream",
     "text": [
      "/home/matthew/programming/topic_modeling_research/venv/lib/python3.8/site-packages/sklearn/decomposition/_nmf.py:1422: FutureWarning: `alpha` was deprecated in version 1.0 and will be removed in 1.2. Use `alpha_W` and `alpha_H` instead\n",
      "  warnings.warn(\n",
      "/home/matthew/programming/topic_modeling_research/venv/lib/python3.8/site-packages/sklearn/decomposition/_nmf.py:289: FutureWarning: The 'init' value, when 'init=None' and n_components is less than n_samples and n_features, will be changed from 'nndsvd' to 'nndsvda' in 1.1 (renaming of 0.26).\n",
      "  warnings.warn(\n"
     ]
    }
   ],
   "source": [
    "K = 10\n",
    "nmf = NMF(n_components=K, alpha=0.1, max_iter=500)\n",
    "nmf.fit(tdm)\n",
    "H_total = nmf.components_"
   ]
  },
  {
   "cell_type": "code",
   "execution_count": 8,
   "metadata": {
    "ExecuteTime": {
     "end_time": "2018-06-05T13:27:14.863967Z",
     "start_time": "2018-06-05T13:27:14.833140Z"
    }
   },
   "outputs": [
    {
     "name": "stdout",
     "output_type": "stream",
     "text": [
      "sum 1.000000000000001\n"
     ]
    }
   ],
   "source": [
    "# 상위 유저 분석!\n",
    "# segregate users based on hits algorithm. Moving those in the top\n",
    "# 20 percent into a separate group. top_index is just the cutoff\n",
    "# point for where this gruop is\n",
    "acc_sum = 0\n",
    "top_index = 0\n",
    "score_sum = sum(user_score.values())\n",
    "for i, top_user in enumerate(sorted(user_score, key=user_score.get, reverse=True)):\n",
    "    acc_sum += user_score[top_user]/score_sum\n",
    "    if acc_sum > 0.8:\n",
    "        top_index = i\n",
    "        break\n",
    "\n",
    "top_users = top_users[:top_index]"
   ]
  },
  {
   "cell_type": "code",
   "execution_count": 13,
   "metadata": {
    "ExecuteTime": {
     "end_time": "2018-06-05T13:27:34.422418Z",
     "start_time": "2018-06-05T13:27:34.358389Z"
    },
    "collapsed": true
   },
   "outputs": [],
   "source": [
    "user_posts = []\n",
    "for user in top_users:\n",
    "    for post in data['user_posts'][user]:\n",
    "        user_posts.append(post)"
   ]
  },
  {
   "cell_type": "code",
   "execution_count": 14,
   "metadata": {
    "ExecuteTime": {
     "end_time": "2018-06-05T13:31:07.424005Z",
     "start_time": "2018-06-05T13:27:55.315231Z"
    }
   },
   "outputs": [
    {
     "name": "stdout",
     "output_type": "stream",
     "text": [
      "(26107, 67243)\n"
     ]
    }
   ],
   "source": [
    "# TDM for top users\n",
    "tdm = dok_matrix((len(user_posts), len(voca)), dtype=np.float32)\n",
    "for i, post in enumerate(user_posts):\n",
    "    for word in post:\n",
    "        tdm[i, voca2idx[word]] += 1\n",
    "        \n",
    "tdm = normalize(tdm)\n",
    "tdm = tdm.tocsr()\n",
    "print(tdm.shape)"
   ]
  },
  {
   "cell_type": "code",
   "execution_count": 15,
   "metadata": {
    "ExecuteTime": {
     "end_time": "2018-06-05T13:34:39.320342Z",
     "start_time": "2018-06-05T13:31:27.331982Z"
    },
    "collapsed": true
   },
   "outputs": [
    {
     "name": "stderr",
     "output_type": "stream",
     "text": [
      "/home/matthew/programming/topic_modeling_research/venv/lib/python3.8/site-packages/sklearn/decomposition/_nmf.py:1422: FutureWarning: `alpha` was deprecated in version 1.0 and will be removed in 1.2. Use `alpha_W` and `alpha_H` instead\n",
      "  warnings.warn(\n",
      "/home/matthew/programming/topic_modeling_research/venv/lib/python3.8/site-packages/sklearn/decomposition/_nmf.py:289: FutureWarning: The 'init' value, when 'init=None' and n_components is less than n_samples and n_features, will be changed from 'nndsvd' to 'nndsvda' in 1.1 (renaming of 0.26).\n",
      "  warnings.warn(\n",
      "/home/matthew/programming/topic_modeling_research/venv/lib/python3.8/site-packages/sklearn/decomposition/_nmf.py:1637: ConvergenceWarning: Maximum number of iterations 500 reached. Increase it to improve convergence.\n",
      "  warnings.warn(\n"
     ]
    }
   ],
   "source": [
    "nmf = NMF(n_components=K, alpha_H=0.1, alpha_W=0.1, max_iter=500)\n",
    "nmf.fit(tdm)\n",
    "H_top = nmf.components_"
   ]
  },
  {
   "cell_type": "code",
   "execution_count": 16,
   "metadata": {
    "ExecuteTime": {
     "end_time": "2018-06-05T13:34:59.627466Z",
     "start_time": "2018-06-05T13:34:59.535169Z"
    },
    "collapsed": true
   },
   "outputs": [],
   "source": [
    "# 하위 유저 분석!\n",
    "low_users = sorted(user_score, key=user_score.get, reverse=False)[:-top_index]\n",
    "\n",
    "user_posts = []\n",
    "for user in low_users:\n",
    "    for post in data['user_posts'][user]:\n",
    "        user_posts.append(post)"
   ]
  },
  {
   "cell_type": "code",
   "execution_count": 17,
   "metadata": {
    "ExecuteTime": {
     "end_time": "2018-06-05T13:38:11.700466Z",
     "start_time": "2018-06-05T13:35:18.578770Z"
    }
   },
   "outputs": [
    {
     "name": "stdout",
     "output_type": "stream",
     "text": [
      "(577690, 67243)\n"
     ]
    }
   ],
   "source": [
    "# TDM for majority users\n",
    "tdm = dok_matrix((len(user_posts), len(voca)), dtype=np.float32)\n",
    "for i, post in enumerate(user_posts):\n",
    "    for word in post:\n",
    "        tdm[i, voca2idx[word]] += 1\n",
    "        \n",
    "tdm = normalize(tdm)\n",
    "tdm = tdm.tocsr()\n",
    "print(tdm.shape)"
   ]
  },
  {
   "cell_type": "code",
   "execution_count": 18,
   "metadata": {
    "ExecuteTime": {
     "end_time": "2018-06-05T13:40:41.503530Z",
     "start_time": "2018-06-05T13:38:31.370976Z"
    },
    "collapsed": true
   },
   "outputs": [
    {
     "name": "stderr",
     "output_type": "stream",
     "text": [
      "/home/matthew/programming/topic_modeling_research/venv/lib/python3.8/site-packages/sklearn/decomposition/_nmf.py:1422: FutureWarning: `alpha` was deprecated in version 1.0 and will be removed in 1.2. Use `alpha_W` and `alpha_H` instead\n",
      "  warnings.warn(\n",
      "/home/matthew/programming/topic_modeling_research/venv/lib/python3.8/site-packages/sklearn/decomposition/_nmf.py:289: FutureWarning: The 'init' value, when 'init=None' and n_components is less than n_samples and n_features, will be changed from 'nndsvd' to 'nndsvda' in 1.1 (renaming of 0.26).\n",
      "  warnings.warn(\n",
      "/home/matthew/programming/topic_modeling_research/venv/lib/python3.8/site-packages/sklearn/decomposition/_nmf.py:1637: ConvergenceWarning: Maximum number of iterations 500 reached. Increase it to improve convergence.\n",
      "  warnings.warn(\n"
     ]
    }
   ],
   "source": [
    "nmf = NMF(n_components=K, alpha=0.1, max_iter=500)\n",
    "nmf.fit(tdm)\n",
    "H_low = nmf.components_"
   ]
  },
  {
   "cell_type": "code",
   "execution_count": 1,
   "metadata": {
    "ExecuteTime": {
     "end_time": "2018-06-05T13:41:12.475667Z",
     "start_time": "2018-06-05T13:41:12.241842Z"
    }
   },
   "outputs": [
    {
     "ename": "NameError",
     "evalue": "name 'H_total' is not defined",
     "output_type": "error",
     "traceback": [
      "\u001b[0;31m---------------------------------------------------------------------------\u001b[0m",
      "\u001b[0;31mNameError\u001b[0m                                 Traceback (most recent call last)",
      "\u001b[0;32m/tmp/ipykernel_6569/37112130.py\u001b[0m in \u001b[0;36m<module>\u001b[0;34m\u001b[0m\n\u001b[1;32m      4\u001b[0m \u001b[0;34m\u001b[0m\u001b[0m\n\u001b[1;32m      5\u001b[0m \u001b[0;31m# hungarian algorithm\u001b[0m\u001b[0;34m\u001b[0m\u001b[0;34m\u001b[0m\u001b[0;34m\u001b[0m\u001b[0m\n\u001b[0;32m----> 6\u001b[0;31m \u001b[0mtop_distances\u001b[0m \u001b[0;34m=\u001b[0m \u001b[0mpairwise_distances\u001b[0m\u001b[0;34m(\u001b[0m\u001b[0mH_total\u001b[0m\u001b[0;34m,\u001b[0m \u001b[0mH_top\u001b[0m\u001b[0;34m,\u001b[0m \u001b[0mmetric\u001b[0m\u001b[0;34m=\u001b[0m\u001b[0;34m'cosine'\u001b[0m\u001b[0;34m)\u001b[0m\u001b[0;34m\u001b[0m\u001b[0;34m\u001b[0m\u001b[0m\n\u001b[0m\u001b[1;32m      7\u001b[0m \u001b[0m_\u001b[0m\u001b[0;34m,\u001b[0m \u001b[0mtop_indices\u001b[0m \u001b[0;34m=\u001b[0m \u001b[0mlinear_sum_assignment\u001b[0m\u001b[0;34m(\u001b[0m\u001b[0mtop_distances\u001b[0m\u001b[0;34m)\u001b[0m\u001b[0;34m\u001b[0m\u001b[0;34m\u001b[0m\u001b[0m\n\u001b[1;32m      8\u001b[0m \u001b[0;34m\u001b[0m\u001b[0m\n",
      "\u001b[0;31mNameError\u001b[0m: name 'H_total' is not defined"
     ]
    }
   ],
   "source": [
    "from sklearn.metrics.pairwise import pairwise_distances\n",
    "from sklearn.metrics.pairwise import cosine_similarity\n",
    "from scipy.optimize import linear_sum_assignment\n",
    "\n",
    "# hungarian algorithm\n",
    "top_distances = pairwise_distances(H_total, H_top, metric='cosine')\n",
    "_, top_indices = linear_sum_assignment(top_distances)\n",
    "\n",
    "low_distances = pairwise_distances(H_total, H_low, metric='cosine')\n",
    "_, low_indices = linear_sum_assignment(low_distances)\n",
    "\n",
    "top_similarity_average = 0\n",
    "low_similarity_average = 0\n",
    "\n",
    "top_similarities = []\n",
    "low_similarities = []\n",
    "\n",
    "for k in range(K):\n",
    "    top_similarity = cosine_similarity(H_top[top_indices[k]].reshape(1, -1), H_total[k].reshape(1,-1))[0, 0]\n",
    "    low_similarity = cosine_similarity(H_low[low_indices[k]].reshape(1, -1), H_total[k].reshape(1,-1))[0, 0]\n",
    "    top_similarity_average += top_similarity\n",
    "    low_similarity_average += low_similarity\n",
    "\n",
    "    top_similarities.append(top_similarity)\n",
    "    low_similarities.append(low_similarity)\n",
    "   \n",
    "    print(f\"total users: {k}th topic\")\n",
    "    for i in H_total[k, :].argsort()[::-1][:20]:\n",
    "        print(voca[i], end=' ')\n",
    "    print()\n",
    "    \n",
    "    print(f\"top users: {top_indices[k]}th topic, similarity - {top_similarity}\")\n",
    "    for i in H_top[top_indices[k]].argsort()[::-1][:20]:\n",
    "        print(voca[i], end=' ')\n",
    "    print()\n",
    "    \n",
    "    print(f\"majority users: {low_indices[k]}th topic, similarity - {low_similarity}\")\n",
    "    for i in H_low[low_indices[k]].argsort()[::-1][:20]:\n",
    "        print(voca[i], end=' ')\n",
    "    print()\n",
    "    \n",
    "    print()\n",
    "    \n",
    "top_similarity_average /= K\n",
    "low_similarity_average /= K\n",
    "\n",
    "print(top_similarity_average, low_similarity_average)"
   ]
  },
  {
   "cell_type": "code",
   "execution_count": 124,
   "metadata": {
    "collapsed": true
   },
   "outputs": [
    {
     "data": {
      "image/png": "[encoded data removed]",
      "text/plain": [
       "<Figure size 432x288 with 1 Axes>"
      ]
     },
     "metadata": {
      "needs_background": "light"
     },
     "output_type": "display_data"
    }
   ],
   "source": [
    "'''\n",
    "The graph of the similarity scores between majority and opinion leaders vs the H_total\n",
    "'''\n",
    "x = range(len(top_similarities))\n",
    "\n",
    "plt.title('Similarities vs Topics')\n",
    "plt.plot(x, top_similarities, label='opinion leaders')\n",
    "plt.plot(x, low_similarities, label='majority users')\n",
    "plt.legend()\n",
    "plt.show()"
   ]
  }
 ],
 "metadata": {
  "interpreter": {
   "hash": "ac5807ccc56803d53b6c0dc06a78365d93d8e4c11f3c7f359a83bbe035ca0794"
  },
  "kernelspec": {
   "display_name": "Python 3.8.10 64-bit ('venv': venv)",
   "name": "python3"
  },
  "language_info": {
   "codemirror_mode": {
    "name": "ipython",
    "version": 3
   },
   "file_extension": ".py",
   "mimetype": "text/x-python",
   "name": "python",
   "nbconvert_exporter": "python",
   "pygments_lexer": "ipython3",
   "version": "3.8.10"
  },
  "varInspector": {
   "cols": {
    "lenName": 16,
    "lenType": 16,
    "lenVar": 40
   },
   "kernels_config": {
    "python": {
     "delete_cmd_postfix": "",
     "delete_cmd_prefix": "del ",
     "library": "var_list.py",
     "varRefreshCmd": "print(var_dic_list())"
    },
    "r": {
     "delete_cmd_postfix": ") ",
     "delete_cmd_prefix": "rm(",
     "library": "var_list.r",
     "varRefreshCmd": "cat(var_dic_list()) "
    }
   },
   "types_to_exclude": [
    "module",
    "function",
    "builtin_function_or_method",
    "instance",
    "_Feature"
   ],
   "window_display": false
  }
 },
 "nbformat": 4,
 "nbformat_minor": 2
}
