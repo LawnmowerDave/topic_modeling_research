{
 "cells": [
  {
   "cell_type": "code",
   "execution_count": 2,
   "metadata": {
    "ExecuteTime": {
     "end_time": "2018-06-17T14:30:14.228084Z",
     "start_time": "2018-06-17T14:30:11.598708Z"
    },
    "collapsed": true
   },
   "outputs": [],
   "source": [
    "from sklearn.decomposition import NMF\n",
    "from sklearn.preprocessing import normalize\n",
    "from sklearn.feature_extraction.text import TfidfTransformer\n",
    "from scipy.sparse import dok_matrix\n",
    "from math import log10\n",
    "import numpy as np\n",
    "import networkx as nx\n",
    "import pickle"
   ]
  },
  {
   "cell_type": "code",
   "execution_count": 3,
   "metadata": {
    "ExecuteTime": {
     "end_time": "2018-06-17T14:30:19.705823Z",
     "start_time": "2018-06-17T14:30:14.239154Z"
    },
    "collapsed": true
   },
   "outputs": [],
   "source": [
    "# use this to select only a subset of the data to speed up processing, None to skip\n",
    "post_num = 10000\n",
    "\n",
    "with open(\"preprocessed_bitcoin.pkl\", 'rb') as f:\n",
    "    data = pickle.load(f)\n",
    "\n",
    "voca2idx = {w: i for i, w in enumerate(data['voca'])}\n",
    "voca = data['voca']\n",
    "\n",
    "if not(post_num is None):\n",
    "    data['posts'] = data['posts'][:post_num]"
   ]
  },
  {
   "cell_type": "code",
   "execution_count": 3,
   "metadata": {
    "ExecuteTime": {
     "end_time": "2018-06-05T13:14:50.609922Z",
     "start_time": "2018-06-05T13:14:37.900310Z"
    },
    "collapsed": true
   },
   "outputs": [],
   "source": [
    "# user_score = nx.pagerank(data['user_network'], tol=1e-8, max_iter=200)\n",
    "hubs, user_score = nx.hits(data['user_network'], max_iter=500)\n",
    "total_user_num = len(data['user_network'].nodes())\n",
    "top_users = sorted(user_score, key=user_score.get, reverse=True)\n",
    "\n",
    "fwrite = open('hits_user_score_post_num.tsv', 'w')\n",
    "fwrite.write(\"id\\tlog id\\tuser\\tscore\\tpost num\\tget comment num\\twrite comment num\\n\")\n",
    "for i, user in enumerate(top_users):\n",
    "    fwrite.write(\"{}\\t{}\\t{}\\t{}\\t{}\\t{}\\t{}\\n\".format(\n",
    "        i + 1, log10(i+1), user, user_score[user], data['user_posts_num'][user], \n",
    "        data['get_comment_num'][user], data['write_comment_num'][user]))\n",
    "fwrite.close()\n",
    "# 전체 게시물 수와 상위유저+하위유저 게시물 갯수가 다른건 아예 소통이 없던 유저의 게시물이 있기 때문!"
   ]
  },
  {
   "cell_type": "code",
   "execution_count": 4,
   "metadata": {
    "ExecuteTime": {
     "end_time": "2018-06-05T13:21:01.851046Z",
     "start_time": "2018-06-05T13:15:07.730973Z"
    }
   },
   "outputs": [
    {
     "name": "stdout",
     "output_type": "stream",
     "text": [
      "100.00% done(10000, 11605)\n"
     ]
    }
   ],
   "source": [
    "# construct the term frequency matrix for entier community and run \n",
    "# topic modeling for it\n",
    "counter = 0\n",
    "total_len = len(data['posts'])\n",
    "\n",
    "tdm = dok_matrix((len(data['posts']), len(voca)), dtype=np.float32)\n",
    "for i, post in enumerate(data['posts']):\n",
    "\n",
    "    if counter % 30000 == 0:\n",
    "        print(f\"\\r{counter/total_len * 100:.2f}% done\", end='')\n",
    "\n",
    "    for word in post:\n",
    "        tdm[i, voca2idx[word]] += 1\n",
    "\n",
    "    counter += 1\n",
    "        \n",
    "\n",
    "print(f\"\\r{100:.2f}% done\", end='')\n",
    "\n",
    "tdm = normalize(tdm)\n",
    "# compressed sparse row matrix, where row operations are rendered more efficient\n",
    "# in our case documents are stored in the rows\n",
    "tdm = tdm.tocsr()\n",
    "print(tdm.shape)"
   ]
  },
  {
   "cell_type": "code",
   "execution_count": 5,
   "metadata": {
    "ExecuteTime": {
     "end_time": "2018-06-05T13:26:52.457474Z",
     "start_time": "2018-06-05T13:21:27.117210Z"
    },
    "collapsed": true
   },
   "outputs": [
    {
     "name": "stderr",
     "output_type": "stream",
     "text": [
      "/home/matthew/programming/topic_modeling_research/venv/lib/python3.8/site-packages/sklearn/decomposition/_nmf.py:1422: FutureWarning: `alpha` was deprecated in version 1.0 and will be removed in 1.2. Use `alpha_W` and `alpha_H` instead\n",
      "  warnings.warn(\n",
      "/home/matthew/programming/topic_modeling_research/venv/lib/python3.8/site-packages/sklearn/decomposition/_nmf.py:289: FutureWarning: The 'init' value, when 'init=None' and n_components is less than n_samples and n_features, will be changed from 'nndsvd' to 'nndsvda' in 1.1 (renaming of 0.26).\n",
      "  warnings.warn(\n"
     ]
    }
   ],
   "source": [
    "K = 10\n",
    "nmf = NMF(n_components=K, alpha=0.1, max_iter=500)\n",
    "nmf.fit(tdm)\n",
    "H_total = nmf.components_"
   ]
  },
  {
   "cell_type": "code",
   "execution_count": 6,
   "metadata": {
    "ExecuteTime": {
     "end_time": "2018-06-05T13:27:14.863967Z",
     "start_time": "2018-06-05T13:27:14.833140Z"
    }
   },
   "outputs": [
    {
     "name": "stdout",
     "output_type": "stream",
     "text": [
      "n top users -> 1\n"
     ]
    }
   ],
   "source": [
    "# 상위 유저 분석!\n",
    "# segregate users based on hits algorithm. Moving those in the top\n",
    "# 20 percent into a separate group. top_index is just the cutoff\n",
    "# point for where this gruop is\n",
    "acc_sum = 0\n",
    "top_index = 0\n",
    "score_sum = sum(user_score.values())\n",
    "for i, top_user in enumerate(sorted(user_score, key=user_score.get, reverse=True)):\n",
    "    acc_sum += user_score[top_user]/score_sum\n",
    "    if acc_sum > 0.8:\n",
    "        top_index = i\n",
    "        break\n",
    "\n",
    "top_users = top_users[:top_index]\n",
    "print(\"n top users ->\", len(top_users))"
   ]
  },
  {
   "cell_type": "code",
   "execution_count": 7,
   "metadata": {
    "ExecuteTime": {
     "end_time": "2018-06-05T13:27:34.422418Z",
     "start_time": "2018-06-05T13:27:34.358389Z"
    },
    "collapsed": true
   },
   "outputs": [],
   "source": [
    "user_posts = []\n",
    "for user in top_users:\n",
    "    for post in data['user_posts'][user]:\n",
    "        user_posts.append(post)"
   ]
  },
  {
   "cell_type": "code",
   "execution_count": 8,
   "metadata": {
    "ExecuteTime": {
     "end_time": "2018-06-05T13:31:07.424005Z",
     "start_time": "2018-06-05T13:27:55.315231Z"
    }
   },
   "outputs": [
    {
     "name": "stdout",
     "output_type": "stream",
     "text": [
      "(50, 11605)\n"
     ]
    }
   ],
   "source": [
    "tdm = dok_matrix((len(user_posts), len(voca)), dtype=np.float32)\n",
    "for i, post in enumerate(user_posts):\n",
    "    for word in post:\n",
    "        tdm[i, voca2idx[word]] += 1\n",
    "        \n",
    "tdm = normalize(tdm)\n",
    "tdm = tdm.tocsr()\n",
    "print(tdm.shape)"
   ]
  },
  {
   "cell_type": "code",
   "execution_count": 9,
   "metadata": {
    "ExecuteTime": {
     "end_time": "2018-06-05T13:34:39.320342Z",
     "start_time": "2018-06-05T13:31:27.331982Z"
    },
    "collapsed": true
   },
   "outputs": [
    {
     "name": "stderr",
     "output_type": "stream",
     "text": [
      "/home/matthew/programming/topic_modeling_research/venv/lib/python3.8/site-packages/sklearn/decomposition/_nmf.py:1422: FutureWarning: `alpha` was deprecated in version 1.0 and will be removed in 1.2. Use `alpha_W` and `alpha_H` instead\n",
      "  warnings.warn(\n",
      "/home/matthew/programming/topic_modeling_research/venv/lib/python3.8/site-packages/sklearn/decomposition/_nmf.py:289: FutureWarning: The 'init' value, when 'init=None' and n_components is less than n_samples and n_features, will be changed from 'nndsvd' to 'nndsvda' in 1.1 (renaming of 0.26).\n",
      "  warnings.warn(\n"
     ]
    }
   ],
   "source": [
    "nmf = NMF(n_components=K, alpha=0.1, max_iter=500)\n",
    "nmf.fit(tdm)\n",
    "H_top = nmf.components_"
   ]
  },
  {
   "cell_type": "code",
   "execution_count": null,
   "metadata": {
    "collapsed": true
   },
   "outputs": [],
   "source": []
  },
  {
   "cell_type": "code",
   "execution_count": 10,
   "metadata": {
    "ExecuteTime": {
     "end_time": "2018-06-05T13:34:59.627466Z",
     "start_time": "2018-06-05T13:34:59.535169Z"
    },
    "collapsed": true
   },
   "outputs": [],
   "source": [
    "# 하위 유저 분석!\n",
    "low_users = sorted(user_score, key=user_score.get, reverse=False)[:-top_index]\n",
    "\n",
    "user_posts = []\n",
    "for user in low_users:\n",
    "    for post in data['user_posts'][user]:\n",
    "        user_posts.append(post)"
   ]
  },
  {
   "cell_type": "code",
   "execution_count": 11,
   "metadata": {
    "ExecuteTime": {
     "end_time": "2018-06-05T13:38:11.700466Z",
     "start_time": "2018-06-05T13:35:18.578770Z"
    }
   },
   "outputs": [
    {
     "name": "stdout",
     "output_type": "stream",
     "text": [
      "(3887, 11605)\n"
     ]
    }
   ],
   "source": [
    "tdm = dok_matrix((len(user_posts), len(voca)), dtype=np.float32)\n",
    "for i, post in enumerate(user_posts):\n",
    "    for word in post:\n",
    "        tdm[i, voca2idx[word]] += 1\n",
    "        \n",
    "tdm = normalize(tdm)\n",
    "tdm = tdm.tocsr()\n",
    "print(tdm.shape)"
   ]
  },
  {
   "cell_type": "code",
   "execution_count": 12,
   "metadata": {
    "ExecuteTime": {
     "end_time": "2018-06-05T13:40:41.503530Z",
     "start_time": "2018-06-05T13:38:31.370976Z"
    },
    "collapsed": true
   },
   "outputs": [
    {
     "name": "stderr",
     "output_type": "stream",
     "text": [
      "/home/matthew/programming/topic_modeling_research/venv/lib/python3.8/site-packages/sklearn/decomposition/_nmf.py:1422: FutureWarning: `alpha` was deprecated in version 1.0 and will be removed in 1.2. Use `alpha_W` and `alpha_H` instead\n",
      "  warnings.warn(\n",
      "/home/matthew/programming/topic_modeling_research/venv/lib/python3.8/site-packages/sklearn/decomposition/_nmf.py:289: FutureWarning: The 'init' value, when 'init=None' and n_components is less than n_samples and n_features, will be changed from 'nndsvd' to 'nndsvda' in 1.1 (renaming of 0.26).\n",
      "  warnings.warn(\n"
     ]
    }
   ],
   "source": [
    "nmf = NMF(n_components=K, alpha=0.1, max_iter=500)\n",
    "nmf.fit(tdm)\n",
    "H_low = nmf.components_"
   ]
  },
  {
   "cell_type": "code",
   "execution_count": null,
   "metadata": {
    "collapsed": true
   },
   "outputs": [],
   "source": []
  },
  {
   "cell_type": "code",
   "execution_count": 14,
   "metadata": {
    "ExecuteTime": {
     "end_time": "2018-06-05T13:41:12.475667Z",
     "start_time": "2018-06-05T13:41:12.241842Z"
    }
   },
   "outputs": [
    {
     "name": "stdout",
     "output_type": "stream",
     "text": [
      "total users: 0th topic\n",
      "bitcoin via trump money free news new libra gold get make btcnews day latest mining now value currency daily thanks \n",
      "top users: 0th topic, similarity - 0.8719571232795715\n",
      "bitcoin fails hold trump institutional market bakkt deposit break time made trader industry dent thanks around give trust reaction vaneck \n",
      "top users: 1th topic, similarity - 0.9922991394996643\n",
      "bitcoin gold bakkt year first realdonaldtrump new via never today cointelegraph coin make mining day market bank need ing amp \n",
      "\n",
      "total users: 1th topic\n",
      "btc btcusd update hourly eth ltc xrp alt now time market day get join usd earn pynk analysis crex follow \n",
      "top users: 1th topic, similarity - 0.47355917096138\n",
      "index btc eth cointelegraph special provided price check meet fresh specially new accepting crypto live chicken campaign opera integrates trx \n",
      "top users: 2th topic, similarity - 0.9741888046264648\n",
      "btc eth alt xrp got usd amazing short look day ltc long check key back bakkt grayscaleinvest cointelegraph thanks coindesk \n",
      "\n",
      "total users: 2th topic\n",
      "investment startup fund itos funding privateequity ico universe icotracker ethereum time eth millennium stlouis baltimore top world italy france milwaukee \n",
      "top users: 9th topic, similarity - 0.09314420074224472\n",
      "payment amp fold lightning roll others amazon startup starbucks hold needed guarantee six long profit time bitcoin amount fee billion \n",
      "top users: 7th topic, similarity - 0.013656659983098507\n",
      "trump tweet facebook libra fan president bitcoin donald cryptocurrencies tweeted cryptocurrency hate dollar currency money air thin based zerohedge banking \n",
      "\n",
      "total users: 3th topic\n",
      "crypto amp eth trading signal free bot exchange market airdrop coin profit cryptotrading xrp telegram token ltc get discus bch \n",
      "top users: 2th topic, similarity - 0.7023265957832336\n",
      "crypto trump android wallet trx integrates opera reserve powell system chair federal potentially try fed whole tweet back libra delivered \n",
      "top users: 3th topic, similarity - 0.9582809209823608\n",
      "crypto bizpaye cryptotrading marketplace merce merchant hodl bartercredit retail trading onlineshopping market news project exchange token fintech trade binance winklevoss \n",
      "\n",
      "total users: 4th topic\n",
      "buy sell ratio arbitrage arbingtool arbitraj usdt bitcoin try eth usd kucoin binance digifinex exmo crex gate bittrex okex sistemkoin \n",
      "top users: 3th topic, similarity - 0.0025272308848798275\n",
      "altcoins market back action adam doomed drop shake monday gain ended support critical party look broken bear chart opportunity shift \n",
      "top users: 8th topic, similarity - 0.23429206013679504\n",
      "now buy money time get right know make good great currency exchange fiat new buying world eterbase take need market \n",
      "\n",
      "total users: 5th topic\n",
      "ethereum litecoin price ripple current dash human dogecoin iota hello cryptocoin cdt bitcoin sep jul mon sat sun thu fri \n",
      "top users: 6th topic, similarity - 0.07895458489656448\n",
      "hash bitcoin new record rate continues quintillion yet rebirth time second now first reach reached history set peer ban zimbabwe \n",
      "top users: 6th topic, similarity - 0.2810194492340088\n",
      "litecoin ltc amp xrp time bitcoin apompliano buy day average ethereum litecoinfam moving cryptorecruitr btc next johnkim peak satoshilite dolphin \n",
      "\n",
      "total users: 6th topic\n",
      "blockchain ico energy project check live work facebook success crowdfunding service leadership inbound soulecting contentmarketing incent livestreaming growthhacking airdrop tokensale \n",
      "top users: 8th topic, similarity - 0.17446379363536835\n",
      "bitcoin exchange announced firm bitfury blockchain partnered pliance primexbt development late xrp holding value soar denominated yen trend japanese reversal \n",
      "top users: 9th topic, similarity - 0.7642219662666321\n",
      "blockchain cryptocurrency ethereum project tokensale securypto ico platform fintech airdrop token bitcoin payment orionixtoken exchange new coindesk pany facebook binance \n",
      "\n",
      "total users: 7th topic\n",
      "cryptocurrency market trading analysis report idea utc technical timeframe bearish btcusd bitcoin ethereum cryptocurrencynews airdrop latest tokensale project ether learn \n",
      "top users: 7th topic, similarity - 0.1883411854505539\n",
      "trading bitcoin sideways around hold major cryptocurrencies slightly peer michael core received hdr global ford grant contributor gain market zimbabwe \n",
      "top users: 4th topic, similarity - 0.10451430827379227\n",
      "eth bch xlm eos bsv trx ada bnb btc detail digitaltransformation cryptocurrency trading cryptotrading tradingplatform xrp blockchain ltc xmr etc \n",
      "\n",
      "total users: 8th topic\n",
      "bitmex binance coinbase bitfinex kraken bitstamp amp bot free forum profit trading signal trade btc discus best telegram auto learn \n",
      "top users: 4th topic, similarity - 0.05109851807355881\n",
      "mining miner asic two leading bitmain producer announced new mobile control newly optimize air house temperature cooled mobility pool container \n",
      "top users: 0th topic, similarity - 0.0235852412879467\n",
      "block btc time value miner transaction number supply total size issued utc byte price unknown pool antpool slushpool viabtc bitfury \n",
      "\n",
      "total users: 9th topic\n",
      "price top name biggest symbol gainer united ubtc bitcoin usd volume analysis token market xrp drop eur payment amount method \n",
      "top users: 5th topic, similarity - 0.43434810638427734\n",
      "price chart study level key watch crypto bear wedge fall victim descending attack blast bitcoin speech lay bare exposure benefit \n",
      "top users: 5th topic, similarity - 0.6754406094551086\n",
      "price analysis usd market xrp bakkt drop break move level altcoins make time dash day decrease altcoin support ethereum higher \n",
      "\n",
      "0.30707205100916324 0.5021499159745872\n"
     ]
    }
   ],
   "source": [
    "from sklearn.metrics.pairwise import pairwise_distances\n",
    "from sklearn.metrics.pairwise import cosine_similarity\n",
    "from scipy.optimize import linear_sum_assignment\n",
    "\n",
    "# hungarian algorithm\n",
    "top_distances = pairwise_distances(H_total, H_top, metric='cosine')\n",
    "_, top_indices = linear_sum_assignment(top_distances)\n",
    "\n",
    "low_distances = pairwise_distances(H_total, H_low, metric='cosine')\n",
    "_, low_indices = linear_sum_assignment(low_distances)\n",
    "\n",
    "top_similarity_average = 0\n",
    "low_similarity_average = 0\n",
    "for k in range(K):\n",
    "    top_similarity = cosine_similarity(H_top[top_indices[k]].reshape(1, -1), H_total[k].reshape(1,-1))[0, 0]\n",
    "    low_similarity = cosine_similarity(H_low[low_indices[k]].reshape(1, -1), H_total[k].reshape(1,-1))[0, 0]\n",
    "    top_similarity_average += top_similarity\n",
    "    low_similarity_average += low_similarity\n",
    "   \n",
    "    print(f\"total users: {k}th topic\")\n",
    "    for i in H_total[k, :].argsort()[::-1][:20]:\n",
    "        print(voca[i], end=' ')\n",
    "    print()\n",
    "    \n",
    "    print(f\"top users: {top_indices[k]}th topic, similarity - {top_similarity}\")\n",
    "    for i in H_top[top_indices[k]].argsort()[::-1][:20]:\n",
    "        print(voca[i], end=' ')\n",
    "    print()\n",
    "    \n",
    "    print(f\"top users: {low_indices[k]}th topic, similarity - {low_similarity}\")\n",
    "    for i in H_low[low_indices[k]].argsort()[::-1][:20]:\n",
    "        print(voca[i], end=' ')\n",
    "    print()\n",
    "    \n",
    "    print()\n",
    "    \n",
    "top_similarity_average /= K\n",
    "low_similarity_average /= K\n",
    "\n",
    "print(top_similarity_average, low_similarity_average)"
   ]
  },
  {
   "cell_type": "code",
   "execution_count": null,
   "metadata": {
    "collapsed": true
   },
   "outputs": [],
   "source": []
  }
 ],
 "metadata": {
  "interpreter": {
   "hash": "ac5807ccc56803d53b6c0dc06a78365d93d8e4c11f3c7f359a83bbe035ca0794"
  },
  "kernelspec": {
   "display_name": "Python 3.8.10 64-bit ('venv': venv)",
   "name": "python3"
  },
  "language_info": {
   "codemirror_mode": {
    "name": "ipython",
    "version": 3
   },
   "file_extension": ".py",
   "mimetype": "text/x-python",
   "name": "python",
   "nbconvert_exporter": "python",
   "pygments_lexer": "ipython3",
   "version": "3.8.10"
  },
  "varInspector": {
   "cols": {
    "lenName": 16,
    "lenType": 16,
    "lenVar": 40
   },
   "kernels_config": {
    "python": {
     "delete_cmd_postfix": "",
     "delete_cmd_prefix": "del ",
     "library": "var_list.py",
     "varRefreshCmd": "print(var_dic_list())"
    },
    "r": {
     "delete_cmd_postfix": ") ",
     "delete_cmd_prefix": "rm(",
     "library": "var_list.r",
     "varRefreshCmd": "cat(var_dic_list()) "
    }
   },
   "types_to_exclude": [
    "module",
    "function",
    "builtin_function_or_method",
    "instance",
    "_Feature"
   ],
   "window_display": false
  }
 },
 "nbformat": 4,
 "nbformat_minor": 2
}
