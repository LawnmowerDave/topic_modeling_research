{
 "cells": [
  {
   "cell_type": "code",
   "execution_count": 27,
   "metadata": {
    "ExecuteTime": {
     "end_time": "2018-06-17T14:30:14.228084Z",
     "start_time": "2018-06-17T14:30:11.598708Z"
    },
    "collapsed": true
   },
   "outputs": [],
   "source": [
    "from sklearn.decomposition import NMF\n",
    "from sklearn.preprocessing import normalize\n",
    "from sklearn.feature_extraction.text import TfidfTransformer\n",
    "from scipy.stats import pareto\n",
    "import matplotlib.pyplot as plt\n",
    "from scipy.sparse import dok_matrix\n",
    "from math import log10\n",
    "import numpy as np\n",
    "import networkx as nx\n",
    "import pickle\n",
    "from util import *\n",
    "from scipy.stats import pearsonr\n"
   ]
  },
  {
   "cell_type": "code",
   "execution_count": 2,
   "metadata": {
    "ExecuteTime": {
     "end_time": "2018-06-17T14:30:19.705823Z",
     "start_time": "2018-06-17T14:30:14.239154Z"
    },
    "collapsed": true
   },
   "outputs": [],
   "source": [
    "# use this to select only a subset of the data to speed up processing, None to skip\n",
    "with open(\"pkl/preprocessed_bitcoin.pkl\", 'rb') as f:\n",
    "    data = pickle.load(f)\n",
    "\n",
    "post_num = None\n",
    "\n",
    "voca2idx = {w: i for i, w in enumerate(data['voca'])}\n",
    "voca = data['voca']\n",
    "\n",
    "if not(post_num is None):\n",
    "    data['posts'] = data['posts'][:post_num]\n"
   ]
  },
  {
   "cell_type": "code",
   "execution_count": 3,
   "metadata": {
    "ExecuteTime": {
     "end_time": "2018-06-05T13:14:50.609922Z",
     "start_time": "2018-06-05T13:14:37.900310Z"
    },
    "collapsed": true
   },
   "outputs": [],
   "source": [
    "# user_score = nx.pagerank(data['user_network'], tol=1e-8, max_iter=200)\n",
    "hubs, user_score = nx.hits(data['user_network'], max_iter=200)\n",
    "total_user_num = len(data['user_network'].nodes())\n",
    "top_users = sorted(user_score, key=user_score.get, reverse=True)\n",
    "\n",
    "fwrite = open('hits_user_score_post_num.tsv', 'w')\n",
    "fwrite.write(\"id\\tlog id\\tuser\\tscore\\tpost num\\tget comment num\\twrite comment num\\n\")\n",
    "for i, user in enumerate(top_users):\n",
    "    fwrite.write(\"{}\\t{}\\t{}\\t{}\\t{}\\t{}\\t{}\\n\".format(\n",
    "        i + 1, log10(i+1), user, user_score[user], data['user_posts_num'][user], \n",
    "        data['get_comment_num'][user], data['write_comment_num'][user]))\n",
    "fwrite.close()\n",
    "# 전체 게시물 수와 상위유저+하위유저 게시물 갯수가 다른건 아예 소통이 없던 유저의 게시물이 있기 때문!"
   ]
  },
  {
   "cell_type": "code",
   "execution_count": 4,
   "metadata": {},
   "outputs": [],
   "source": [
    "# for user in top_users:\n",
    "#     print(f\"{user} {user_score[user]} {len(data['user_network'].adj[user])}\")"
   ]
  },
  {
   "cell_type": "code",
   "execution_count": 31,
   "metadata": {},
   "outputs": [
    {
     "data": {
      "text/plain": [
       "<matplotlib.legend.Legend at 0x7f352c928460>"
      ]
     },
     "execution_count": 31,
     "metadata": {},
     "output_type": "execute_result"
    },
    {
     "data": {
      "image/png": "[encoded data removed]",
      "text/plain": [
       "<Figure size 432x288 with 2 Axes>"
      ]
     },
     "metadata": {
      "needs_background": "light"
     },
     "output_type": "display_data"
    }
   ],
   "source": [
    "sorted_scores = sorted([v for v in user_score.values()], reverse=True)\n",
    "\n",
    "# b for standard 80/20 distribution\n",
    "b = 1.16\n",
    "fig, ax = plt.subplots(1, 2)\n",
    "mean, var, skew, kurt = pareto.stats(b, moments='mvsk')\n",
    "x = np.linspace(pareto.ppf(0.01, b), pareto.ppf(0.99, b), len(sorted_scores))\n",
    "\n",
    "ax[0].title.set_text(\"linear scale\")\n",
    "ax[0].plot(x, sorted_scores, \"red\", lw=3, linestyle='dashed', label='Users')\n",
    "ax[0].plot(x, pareto.pdf(x, b), 'blue', alpha=0.6, label='Pareto')\n",
    "\n",
    "ax[1].title.set_text(\"log scale\")\n",
    "ax[1].set_yscale('log')\n",
    "ax[1].plot(x, sorted_scores, \"red\", lw=3, linestyle='dashed', label='Users')\n",
    "ax[1].plot(x, pareto.pdf(x, b), 'blue', alpha=0.6, label='Pareto')\n",
    "\n",
    "ax[0].legend()\n",
    "ax[1].legend()"
   ]
  },
  {
   "cell_type": "code",
   "execution_count": 6,
   "metadata": {},
   "outputs": [
    {
     "name": "stderr",
     "output_type": "stream",
     "text": [
      "/home/matthew/programming/topic_modeling_research/venv/lib/python3.8/site-packages/scipy/stats/_distn_infrastructure.py:2606: RuntimeWarning: invalid value encountered in double_scalars\n",
      "  Lhat = muhat - Shat*mu\n"
     ]
    },
    {
     "data": {
      "text/plain": [
       "(2.4242716963181765, -1.9022793122757875e-18, 1.7518232579144096e-18)"
      ]
     },
     "execution_count": 6,
     "metadata": {},
     "output_type": "execute_result"
    }
   ],
   "source": [
    "# Fit distribution\n",
    "# todo: look at this SO thread to see if there are any other distributions that this data may fit\n",
    "# https://stackoverflow.com/questions/37487830/how-to-find-probability-distribution-and-parameters-for-real-data-python-3\n",
    "\n",
    "pareto.fit(sorted_scores)"
   ]
  },
  {
   "cell_type": "code",
   "execution_count": 26,
   "metadata": {},
   "outputs": [
    {
     "data": {
      "text/plain": [
       "24123781"
      ]
     },
     "execution_count": 26,
     "metadata": {},
     "output_type": "execute_result"
    }
   ],
   "source": [
    "max(data['followers_count'].values())"
   ]
  },
  {
   "cell_type": "code",
   "execution_count": 57,
   "metadata": {},
   "outputs": [
    {
     "name": "stdout",
     "output_type": "stream",
     "text": [
      "correlation (0.008959195338198497, 0.1892604184134342)\n"
     ]
    },
    {
     "data": {
      "image/png": "[encoded data removed]",
      "text/plain": [
       "<Figure size 432x288 with 1 Axes>"
      ]
     },
     "metadata": {
      "needs_background": "light"
     },
     "output_type": "display_data"
    }
   ],
   "source": [
    "# see if there's any correlation between followers_count and authority\n",
    "\n",
    "user_followers = [data['followers_count'][user] for user in user_score.keys()]\n",
    "\n",
    "print(\"correlation\", pearsonr(list(user_score.values()), user_followers))\n",
    "plt.scatter(user_score.values(), user_followers)\n",
    "plt.show()"
   ]
  },
  {
   "cell_type": "code",
   "execution_count": 7,
   "metadata": {},
   "outputs": [],
   "source": [
    "# users = {u: len(v) for u, v in sorted(data['user_network'].adj.items(), key=lambda e: len(e[1]), reverse=True)}\n",
    "\n",
    "# for user, n_adj in users.items():\n",
    "#     print(user, n_adj, user_score[user])"
   ]
  },
  {
   "cell_type": "code",
   "execution_count": 8,
   "metadata": {
    "ExecuteTime": {
     "end_time": "2018-06-05T13:21:01.851046Z",
     "start_time": "2018-06-05T13:15:07.730973Z"
    }
   },
   "outputs": [
    {
     "name": "stdout",
     "output_type": "stream",
     "text": [
      "100.00% done"
     ]
    }
   ],
   "source": [
    "# construct the term frequency matrix for entire community and run \n",
    "# topic modeling for it\n",
    "counter = 0\n",
    "total_len = len(data['posts'])\n",
    "\n",
    "tdm_tot = dok_matrix((len(data['posts']), len(voca)), dtype=np.float32)\n",
    "for i, post in enumerate(data['posts']):\n",
    "\n",
    "    if counter % 1000 == 0:\n",
    "        print(f\"\\r{counter/total_len * 100:.2f}% done\", end='')\n",
    "\n",
    "    for word in post:\n",
    "        tdm_tot[i, voca2idx[word]] += 1\n",
    "\n",
    "    counter += 1\n",
    "        \n",
    "\n",
    "print(f\"\\r{100:.2f}% done\", end='')\n",
    "\n",
    "tdm_tot = normalize(tdm_tot)\n",
    "# compressed sparse row matrix, where row operations are rendered more efficient\n",
    "# in our case documents are stored in the rows\n",
    "tdm_tot = tdm_tot.tocsr()"
   ]
  },
  {
   "cell_type": "code",
   "execution_count": 9,
   "metadata": {
    "ExecuteTime": {
     "end_time": "2018-06-05T13:26:52.457474Z",
     "start_time": "2018-06-05T13:21:27.117210Z"
    },
    "collapsed": true
   },
   "outputs": [
    {
     "name": "stderr",
     "output_type": "stream",
     "text": [
      "/home/matthew/programming/topic_modeling_research/venv/lib/python3.8/site-packages/sklearn/decomposition/_nmf.py:289: FutureWarning: The 'init' value, when 'init=None' and n_components is less than n_samples and n_features, will be changed from 'nndsvd' to 'nndsvda' in 1.1 (renaming of 0.26).\n",
      "  warnings.warn(\n"
     ]
    }
   ],
   "source": [
    "K = 10\n",
    "alpha_W = 0\n",
    "alpha_H = 0\n",
    "\n",
    "nmf = NMF(n_components=K, alpha_W=alpha_W, alpha_H=alpha_H, max_iter=500)\n",
    "nmf.fit(tdm_tot)\n",
    "H_total = nmf.components_"
   ]
  },
  {
   "cell_type": "code",
   "execution_count": 10,
   "metadata": {
    "ExecuteTime": {
     "end_time": "2018-06-05T13:27:14.863967Z",
     "start_time": "2018-06-05T13:27:14.833140Z"
    }
   },
   "outputs": [
    {
     "name": "stdout",
     "output_type": "stream",
     "text": [
      "0.02% of users account for ~80% of the authority.\n"
     ]
    }
   ],
   "source": [
    "# 상위 유저 분석!\n",
    "# segregate users based on hits algorithm. Moving those in the top\n",
    "# 20 percent into a separate group. top_index is just the cutoff\n",
    "# point for where this gruop is\n",
    "acc_sum = 0\n",
    "top_index = 0\n",
    "score_sum = sum(user_score.values())\n",
    "for i, top_user in enumerate(sorted(user_score, key=user_score.get, reverse=True)):\n",
    "    acc_sum += user_score[top_user]/score_sum\n",
    "    if acc_sum > 0.8:\n",
    "        top_index = i\n",
    "        break\n",
    "\n",
    "top_users = top_users[:top_index]\n",
    "print(f\"{top_index/len(user_score):.2f}% of users account for ~80% of the authority.\")"
   ]
  },
  {
   "cell_type": "code",
   "execution_count": 11,
   "metadata": {
    "ExecuteTime": {
     "end_time": "2018-06-05T13:27:34.422418Z",
     "start_time": "2018-06-05T13:27:34.358389Z"
    },
    "collapsed": true
   },
   "outputs": [],
   "source": [
    "top_user_posts = []\n",
    "for user in top_users:\n",
    "    \n",
    "    for post in data['user_posts'][user]:\n",
    "        top_user_posts.append(post)"
   ]
  },
  {
   "cell_type": "code",
   "execution_count": 61,
   "metadata": {},
   "outputs": [
    {
     "name": "stdout",
     "output_type": "stream",
     "text": [
      "20.46% of opinion leaders are verified\n",
      "1.78% of opinion leaders are verified\n",
      "\n",
      "average opinion leader followers 293293\n",
      "average total followers 11780\n"
     ]
    },
    {
     "data": {
      "text/plain": [
       "[<matplotlib.lines.Line2D at 0x7f35260ee970>]"
      ]
     },
     "execution_count": 61,
     "metadata": {},
     "output_type": "execute_result"
    },
    {
     "data": {
      "image/png": "[encoded data removed]",
      "text/plain": [
       "<Figure size 432x288 with 1 Axes>"
      ]
     },
     "metadata": {
      "needs_background": "light"
     },
     "output_type": "display_data"
    }
   ],
   "source": [
    "top_verified = [data['verified'][user] for user in top_users].count(True) / len(top_users)\n",
    "total_verified = list(data['verified'].values()).count(True) / len(data['verified']) \n",
    "print(f\"{top_verified*100:.2f}% of opinion leaders are verified\")\n",
    "print(f\"{total_verified*100:.2f}% of opinion leaders are verified\")\n",
    "print()\n",
    "\n",
    "total_followers = 0\n",
    "\n",
    "for user in top_users:\n",
    "    total_followers += data['followers_count'][user]\n",
    "\n",
    "print(f\"average opinion leader followers {total_followers / len(top_users):.0f}\")\n",
    "print(f\"average total followers {sum(data['followers_count'].values()) / len(data['followers_count']):.0f}\")\n",
    "\n",
    "plt.plot(np.arange(len(top_users)), [data['followers_count'][user] for user in top_users])\n"
   ]
  },
  {
   "cell_type": "code",
   "execution_count": 43,
   "metadata": {},
   "outputs": [
    {
     "name": "stdout",
     "output_type": "stream",
     "text": [
      "271\n",
      "1400731\n",
      "613192\n",
      "4681965\n",
      "1150545\n",
      "18410\n",
      "346033\n",
      "13370422\n",
      "502440\n",
      "37858\n",
      "5617\n",
      "150866\n",
      "2489137\n",
      "24\n",
      "56062\n",
      "571225\n",
      "193361\n",
      "696465\n",
      "2973\n",
      "428\n",
      "1166488\n",
      "214593\n",
      "41801\n",
      "39361\n",
      "984565\n",
      "540744\n",
      "433983\n",
      "200256\n",
      "807476\n",
      "147\n",
      "172882\n",
      "791446\n",
      "3452\n",
      "173039\n",
      "531297\n",
      "3308819\n",
      "372796\n",
      "1709964\n",
      "218051\n",
      "142014\n",
      "142592\n",
      "161838\n",
      "192107\n",
      "105677\n",
      "740643\n",
      "67560\n",
      "550\n",
      "662938\n",
      "2114\n",
      "1179\n",
      "140623\n",
      "114855\n",
      "117061\n",
      "32494\n",
      "175119\n",
      "17593\n",
      "1472\n",
      "625\n",
      "1507223\n",
      "12437\n",
      "6\n",
      "166245\n",
      "19926\n",
      "428913\n",
      "72172\n",
      "157708\n",
      "7789302\n",
      "603354\n",
      "231763\n",
      "1811\n",
      "4097\n",
      "5448\n",
      "149118\n",
      "1948826\n",
      "22083\n",
      "213566\n",
      "283825\n",
      "116662\n",
      "286756\n",
      "4137862\n",
      "10370\n",
      "422592\n",
      "1867\n",
      "80008\n",
      "322677\n",
      "3147\n",
      "22109\n",
      "6\n",
      "118830\n",
      "234\n",
      "21613\n",
      "1422\n",
      "289524\n",
      "43042\n",
      "10336\n",
      "33810\n",
      "60111\n",
      "17637\n",
      "84656\n",
      "187354\n",
      "558976\n",
      "358917\n",
      "4448707\n",
      "6814153\n",
      "429260\n",
      "124998\n",
      "395338\n",
      "20685\n",
      "242499\n",
      "155390\n",
      "189\n",
      "1591\n",
      "349007\n",
      "19738\n",
      "415376\n",
      "1497\n",
      "34248\n",
      "7757\n",
      "198477\n",
      "170\n",
      "64604\n",
      "90333\n",
      "42992\n",
      "51070\n",
      "9843\n",
      "231079\n",
      "49125\n",
      "2162\n",
      "232\n",
      "16125\n",
      "31190\n",
      "6501\n",
      "150\n",
      "583\n",
      "422131\n",
      "57957\n",
      "409\n",
      "76390\n",
      "34182\n",
      "31224\n",
      "168006\n",
      "469\n",
      "2\n",
      "85\n",
      "18678\n",
      "4184\n",
      "743668\n",
      "29\n",
      "65420\n",
      "341377\n",
      "209\n",
      "35558\n",
      "147250\n",
      "187522\n",
      "16088\n",
      "63952\n",
      "1\n",
      "296852\n",
      "1530\n",
      "1\n",
      "2309\n",
      "63\n",
      "46459\n",
      "269761\n",
      "270639\n",
      "67899\n",
      "1465\n",
      "85645\n",
      "68593\n",
      "139849\n",
      "40908\n",
      "299067\n",
      "76981\n",
      "53479\n",
      "3026\n",
      "6420\n",
      "48462\n",
      "130\n",
      "10861\n",
      "271022\n",
      "2371\n",
      "1400\n",
      "119375\n",
      "48682\n",
      "908717\n",
      "207514\n",
      "72480\n",
      "627\n",
      "15543\n",
      "25177\n",
      "274251\n",
      "2673\n",
      "1873\n",
      "124781\n",
      "237042\n",
      "45227\n",
      "1097\n",
      "969\n",
      "93578\n",
      "67917\n",
      "1154\n",
      "366209\n",
      "26849\n",
      "90871\n",
      "70530\n",
      "541637\n",
      "41953\n",
      "596\n",
      "2\n",
      "1843701\n",
      "387\n",
      "37670\n",
      "246\n",
      "48\n",
      "31561\n",
      "59267\n",
      "56327\n",
      "298\n",
      "348\n",
      "374588\n",
      "22744\n",
      "306858\n",
      "66084\n",
      "160940\n",
      "6904\n",
      "285\n",
      "15102\n",
      "48922\n",
      "4319777\n",
      "1779996\n",
      "29230\n",
      "127392\n",
      "4616\n",
      "7254\n",
      "110055\n",
      "68976\n",
      "70177\n",
      "624\n",
      "30832\n",
      "32705\n",
      "86908\n",
      "3187\n",
      "105\n",
      "41188\n",
      "241964\n",
      "5669\n",
      "7\n",
      "567703\n",
      "140443\n",
      "50914\n",
      "76752\n",
      "38579\n",
      "9872\n",
      "29182\n",
      "265740\n",
      "204076\n",
      "11\n",
      "214\n",
      "525250\n",
      "2578\n",
      "615\n",
      "191\n",
      "7817\n",
      "184\n",
      "44975\n",
      "6\n",
      "14681\n",
      "10215\n",
      "124013\n",
      "50\n",
      "813\n",
      "72193\n",
      "77747\n",
      "590\n",
      "2075\n",
      "5180\n",
      "541\n",
      "1182\n",
      "575\n",
      "12528\n",
      "171\n",
      "3352\n",
      "55\n",
      "108\n",
      "4277\n",
      "817611\n",
      "7\n",
      "0\n",
      "183\n",
      "15\n",
      "153\n",
      "6650\n",
      "8076\n",
      "33496\n",
      "253\n",
      "7633\n",
      "599\n",
      "483\n",
      "599\n",
      "188\n",
      "507\n",
      "646\n",
      "255\n",
      "1018\n",
      "441\n",
      "133\n",
      "222\n",
      "518\n",
      "1521\n",
      "501\n",
      "38\n",
      "289\n",
      "234\n",
      "466\n",
      "126\n",
      "3545341\n",
      "1496\n",
      "618\n",
      "118178\n",
      "926\n",
      "195\n",
      "423\n",
      "2634\n",
      "94\n",
      "7574\n",
      "100\n",
      "5975\n",
      "2373\n",
      "684\n",
      "43033\n",
      "40\n",
      "604\n",
      "158\n",
      "72\n",
      "488\n",
      "103\n",
      "11128\n",
      "790\n",
      "264\n",
      "34\n",
      "67439\n",
      "1198\n",
      "2684\n",
      "944303\n",
      "89678\n",
      "215\n",
      "3519\n"
     ]
    }
   ],
   "source": []
  },
  {
   "cell_type": "code",
   "execution_count": 13,
   "metadata": {
    "ExecuteTime": {
     "end_time": "2018-06-05T13:31:07.424005Z",
     "start_time": "2018-06-05T13:27:55.315231Z"
    }
   },
   "outputs": [
    {
     "name": "stdout",
     "output_type": "stream",
     "text": [
      "(1401, 12047)\n"
     ]
    }
   ],
   "source": [
    "# TDM for top users\n",
    "tdm_top = dok_matrix((len(top_user_posts), len(voca)), dtype=np.float32)\n",
    "for i, post in enumerate(top_user_posts):\n",
    "    for word in post:\n",
    "        tdm_top[i, voca2idx[word]] += 1\n",
    "        \n",
    "tdm_top = normalize(tdm_top)\n",
    "tdm_top = tdm_top.tocsr()\n",
    "print(tdm_top.shape)"
   ]
  },
  {
   "cell_type": "code",
   "execution_count": 14,
   "metadata": {
    "ExecuteTime": {
     "end_time": "2018-06-05T13:34:39.320342Z",
     "start_time": "2018-06-05T13:31:27.331982Z"
    },
    "collapsed": true
   },
   "outputs": [
    {
     "name": "stderr",
     "output_type": "stream",
     "text": [
      "/home/matthew/programming/topic_modeling_research/venv/lib/python3.8/site-packages/sklearn/decomposition/_nmf.py:289: FutureWarning: The 'init' value, when 'init=None' and n_components is less than n_samples and n_features, will be changed from 'nndsvd' to 'nndsvda' in 1.1 (renaming of 0.26).\n",
      "  warnings.warn(\n"
     ]
    }
   ],
   "source": [
    "nmf = NMF(n_components=K, alpha_H=0, alpha_W=0, max_iter=500)\n",
    "nmf.fit(tdm_top)\n",
    "H_top = nmf.components_"
   ]
  },
  {
   "cell_type": "code",
   "execution_count": 15,
   "metadata": {
    "ExecuteTime": {
     "end_time": "2018-06-05T13:34:59.627466Z",
     "start_time": "2018-06-05T13:34:59.535169Z"
    },
    "collapsed": true
   },
   "outputs": [],
   "source": [
    "# 하위 유저 분석!\n",
    "# everything EXCEPT for the top users\n",
    "low_users = sorted(user_score, key=user_score.get, reverse=False)[:-top_index]\n",
    "\n",
    "maj_user_posts = []\n",
    "for user in low_users:\n",
    "    for post in data['user_posts'][user]:\n",
    "        maj_user_posts.append(post)"
   ]
  },
  {
   "cell_type": "code",
   "execution_count": 16,
   "metadata": {
    "ExecuteTime": {
     "end_time": "2018-06-05T13:38:11.700466Z",
     "start_time": "2018-06-05T13:35:18.578770Z"
    }
   },
   "outputs": [
    {
     "name": "stdout",
     "output_type": "stream",
     "text": [
      "(31121, 12047)\n"
     ]
    }
   ],
   "source": [
    "# TDM for majority users\n",
    "tdm_maj = dok_matrix((len(maj_user_posts), len(voca)), dtype=np.float32)\n",
    "for i, post in enumerate(maj_user_posts):\n",
    "    for word in post:\n",
    "        tdm_maj[i, voca2idx[word]] += 1\n",
    "        \n",
    "tdm_maj = normalize(tdm_maj)\n",
    "tdm_maj = tdm_maj.tocsr()\n",
    "print(tdm_maj.shape)"
   ]
  },
  {
   "cell_type": "code",
   "execution_count": 17,
   "metadata": {
    "ExecuteTime": {
     "end_time": "2018-06-05T13:40:41.503530Z",
     "start_time": "2018-06-05T13:38:31.370976Z"
    },
    "collapsed": true
   },
   "outputs": [
    {
     "name": "stderr",
     "output_type": "stream",
     "text": [
      "/home/matthew/programming/topic_modeling_research/venv/lib/python3.8/site-packages/sklearn/decomposition/_nmf.py:289: FutureWarning: The 'init' value, when 'init=None' and n_components is less than n_samples and n_features, will be changed from 'nndsvd' to 'nndsvda' in 1.1 (renaming of 0.26).\n",
      "  warnings.warn(\n"
     ]
    }
   ],
   "source": [
    "nmf = NMF(n_components=K, alpha_H=0, alpha_W=0, max_iter=500)\n",
    "nmf.fit(tdm_maj)\n",
    "H_low = nmf.components_"
   ]
  },
  {
   "cell_type": "code",
   "execution_count": 18,
   "metadata": {
    "ExecuteTime": {
     "end_time": "2018-06-05T13:41:12.475667Z",
     "start_time": "2018-06-05T13:41:12.241842Z"
    }
   },
   "outputs": [
    {
     "name": "stdout",
     "output_type": "stream",
     "text": [
      "total users: 0th topic\n",
      "bitcoin trump via money new time gold realdonaldtrump free get day mining high news cash amp year hit top cryptocurrencies \n",
      "top users: 0th topic, similarity - 0.9910752177238464\n",
      "bitcoin realdonaldtrump use get world trump never using everyone crypto made tweet bullish price point bad real might love work \n",
      "majority users: 0th topic, similarity - 0.9934278726577759\n",
      "bitcoin apompliano get peterschiff time need good know make year never amp long use trump cash currency cryptocurrency free new \n",
      "\n",
      "total users: 1th topic\n",
      "btc volume time usd btcusd alt buy binance block short last miner long size fee whale day sell eth alert \n",
      "top users: 1th topic, similarity - 0.9851094484329224\n",
      "btc alt eth gbtc look ltc peterschiff back close usd price long short need get real chart dominance high bottom \n",
      "majority users: 1th topic, similarity - 0.9892173409461975\n",
      "btc xrp get binance eth time long usd got short need apompliano good market back ltc amp know look next \n",
      "\n",
      "total users: 2th topic\n",
      "usd mxn precio bitapeso bitcoin thursday friday tuesday wednesday sunday saturday monday eur wcx blk wght btcusd pool gbp long \n",
      "top users: 9th topic, similarity - 0.011529101058840752\n",
      "value store peterschiff sov realdonaldtrump currency storing fiat asset jennc give year else good car brian thechaz payment future bitcointina \n",
      "majority users: 3th topic, similarity - 0.04524049162864685\n",
      "realdonaldtrump dollar trump president usd tweet currency value based air fan know thin drug bitcoin apompliano illegal donald used world \n",
      "\n",
      "total users: 3th topic\n",
      "crypto news via amp cashflow trading exchange coin cryptonews altcoins trump currency cryptotrading free new panic trade get telegram token \n",
      "top users: 5th topic, similarity - 0.04196172207593918\n",
      "money make need good long barginex hungry bank know understand made year use right flow dollar get exchange peterschiff president \n",
      "majority users: 2th topic, similarity - 0.952052116394043\n",
      "crypto cryptocurrency blockchain securypto day bitlord end fintech ieo heard menapay accouncing currency ethereum market xrp project altcoin great future \n",
      "\n",
      "total users: 4th topic\n",
      "price current volume average change hour analysis usd doge bch bitstamp bitcoinchase btce mine high hit eur rising eye month \n",
      "top users: 3th topic, similarity - 0.07568981498479843\n",
      "gold digital peterschiff price jennc understand utility real market property worth year good though lose easy already powell bitcointina problem \n",
      "majority users: 5th topic, similarity - 0.6321576833724976\n",
      "price gold according vaultoro fullmetaliberty peterschiff value bitcoin btc store digital market peter listing silver asset backed current action higher \n",
      "\n",
      "total users: 5th topic\n",
      "blockchain ethereum fintech ico project token airdrop blockchaintechnology sharding qkc technology decentralized eth last new tokensale chain ooobtc thanks launch \n",
      "top users: 7th topic, similarity - 0.008406308479607105\n",
      "apompliano year peterschiff binance figure blockstack pomp petermccormack leohadjiloizou vjacks intruderpty paolog network barrysilbert mdudas ripple cryptomanran bitcoinsampo tonevays eater \n",
      "majority users: 6th topic, similarity - 0.5696442127227783\n",
      "eth blockchain chain quark sharding blockchaintechnology qkc add hashtags including quarkchain cryptocurrency project ethereum btc securypto ltc ico airdrop technology \n",
      "\n",
      "total users: 6th topic\n",
      "eth xrp ltc bch ethereum eos top trx litecoin bnb ripple ada xlm cryptocurrencies bitcoincash hour trading xmr time neo \n",
      "top users: 4th topic, similarity - 0.5812660455703735\n",
      "xrp long eth crypto gbtc asset ripple barrysilbert term market nothing coin digital decentralised ledger realdonaldtrump alexcobb digitalassetbuy galgitron know \n",
      "majority users: 8th topic, similarity - 0.012602053582668304\n",
      "money value make need bank currency fiat real use world best cryptocurrencies new amp store take cash market sound gold \n",
      "\n",
      "total users: 7th topic\n",
      "cryptocurrency ethereum trading cryptonews litecoin bitcoin mine btce bitcoinchase exchange bitstamp bot altcoin news cryptotrading ico binance bitcoinmining altcoins buy \n",
      "top users: 2th topic, similarity - 0.05574791133403778\n",
      "litecoin ltc bitcoin amp coin realdonaldtrump tweet btc push rise btcoverfiat mrilirgashi digital halving away rob tesla elonmusk currency president \n",
      "majority users: 4th topic, similarity - 0.025156747549772263\n",
      "buy sell time dip need made back coin year dump bag wait mrbeastyt stock nrz zkpm bepmrbdbar zkz aqufufbn art \n",
      "\n",
      "total users: 8th topic\n",
      "market binance cap current trading stock bull coin billion signal eye bear buy exchange dominance update dip momentum cryptotrading visit \n",
      "top users: 8th topic, similarity - 0.2700115740299225\n",
      "time now market price alt amp get know right make last since first thecryptodog bull high next crypto day better \n",
      "majority users: 9th topic, similarity - 0.06565693020820618\n",
      "alt pump time season coin dominance market move run dump value back usd thecryptodog good start make look top bottom \n",
      "\n",
      "total users: 9th topic\n",
      "now buy worth bitstamp mine right btce bitcoinchase current get altcoins neo start xlm gnt xmr billion back sell cap \n",
      "top users: 6th topic, similarity - 0.2983241677284241\n",
      "buy sell back crypto dollar fiat dip saying realdonaldtrump wellsfargo rochard pierre whatever news now parabolic ask bitcoin month teach \n",
      "majority users: 7th topic, similarity - 0.9023267030715942\n",
      "now right time get year know back look month first market change bought invest last coin amp ing price resistance \n",
      "\n",
      "0.33191213114187124 0.518748215213418\n"
     ]
    }
   ],
   "source": [
    "from sklearn.metrics.pairwise import pairwise_distances\n",
    "from sklearn.metrics.pairwise import cosine_similarity\n",
    "from scipy.optimize import linear_sum_assignment\n",
    "\n",
    "# hungarian algorithm\n",
    "top_distances = pairwise_distances(H_total, H_top, metric='cosine')\n",
    "_, top_indices = linear_sum_assignment(top_distances)\n",
    "\n",
    "low_distances = pairwise_distances(H_total, H_low, metric='cosine')\n",
    "_, low_indices = linear_sum_assignment(low_distances)\n",
    "\n",
    "top_similarity_average = 0\n",
    "low_similarity_average = 0\n",
    "\n",
    "top_similarities = []\n",
    "low_similarities = []\n",
    "\n",
    "for k in range(K):\n",
    "    top_similarity = cosine_similarity(H_top[top_indices[k]].reshape(1, -1), H_total[k].reshape(1,-1))[0, 0]\n",
    "    low_similarity = cosine_similarity(H_low[low_indices[k]].reshape(1, -1), H_total[k].reshape(1,-1))[0, 0]\n",
    "    top_similarity_average += top_similarity\n",
    "    low_similarity_average += low_similarity\n",
    "\n",
    "    top_similarities.append(top_similarity)\n",
    "    low_similarities.append(low_similarity)\n",
    "   \n",
    "    print(f\"total users: {k}th topic\")\n",
    "    for i in H_total[k, :].argsort()[::-1][:20]:\n",
    "        print(voca[i], end=' ')\n",
    "    print()\n",
    "    \n",
    "    print(f\"top users: {top_indices[k]}th topic, similarity - {top_similarity}\")\n",
    "    for i in H_top[top_indices[k]].argsort()[::-1][:20]:\n",
    "        print(voca[i], end=' ')\n",
    "    print()\n",
    "    \n",
    "    print(f\"majority users: {low_indices[k]}th topic, similarity - {low_similarity}\")\n",
    "    for i in H_low[low_indices[k]].argsort()[::-1][:20]:\n",
    "        print(voca[i], end=' ')\n",
    "    print()\n",
    "    \n",
    "    print()\n",
    "    \n",
    "top_similarity_average /= K\n",
    "low_similarity_average /= K\n",
    "\n",
    "print(top_similarity_average, low_similarity_average)"
   ]
  },
  {
   "cell_type": "code",
   "execution_count": 19,
   "metadata": {
    "collapsed": true
   },
   "outputs": [
    {
     "data": {
      "image/png": "[encoded data removed]",
      "text/plain": [
       "<Figure size 432x288 with 1 Axes>"
      ]
     },
     "metadata": {
      "needs_background": "light"
     },
     "output_type": "display_data"
    }
   ],
   "source": [
    "'''\n",
    "The graph of the similarity scores between majority and opinion leaders vs the H_total\n",
    "'''\n",
    "x = range(len(top_similarities))\n",
    "\n",
    "plt.title('Similarities vs Topics')\n",
    "plt.plot(x, top_similarities, label='opinion leaders')\n",
    "plt.plot(x, low_similarities, label='majority users')\n",
    "plt.legend()\n",
    "plt.show()"
   ]
  },
  {
   "cell_type": "code",
   "execution_count": 20,
   "metadata": {},
   "outputs": [
    {
     "name": "stdout",
     "output_type": "stream",
     "text": [
      "opinion leader average: 0.3319121301174164\n",
      "majority users average: 0.5187482237815857\n"
     ]
    }
   ],
   "source": [
    "print(f\"opinion leader average: {np.average(top_similarities)}\")\n",
    "print(f\"majority users average: {np.average(low_similarities)}\")"
   ]
  }
 ],
 "metadata": {
  "interpreter": {
   "hash": "ac5807ccc56803d53b6c0dc06a78365d93d8e4c11f3c7f359a83bbe035ca0794"
  },
  "kernelspec": {
   "display_name": "Python 3.8.10 64-bit ('venv': venv)",
   "name": "python3"
  },
  "language_info": {
   "codemirror_mode": {
    "name": "ipython",
    "version": 3
   },
   "file_extension": ".py",
   "mimetype": "text/x-python",
   "name": "python",
   "nbconvert_exporter": "python",
   "pygments_lexer": "ipython3",
   "version": "3.8.10"
  },
  "varInspector": {
   "cols": {
    "lenName": 16,
    "lenType": 16,
    "lenVar": 40
   },
   "kernels_config": {
    "python": {
     "delete_cmd_postfix": "",
     "delete_cmd_prefix": "del ",
     "library": "var_list.py",
     "varRefreshCmd": "print(var_dic_list())"
    },
    "r": {
     "delete_cmd_postfix": ") ",
     "delete_cmd_prefix": "rm(",
     "library": "var_list.r",
     "varRefreshCmd": "cat(var_dic_list()) "
    }
   },
   "types_to_exclude": [
    "module",
    "function",
    "builtin_function_or_method",
    "instance",
    "_Feature"
   ],
   "window_display": false
  }
 },
 "nbformat": 4,
 "nbformat_minor": 2
}
