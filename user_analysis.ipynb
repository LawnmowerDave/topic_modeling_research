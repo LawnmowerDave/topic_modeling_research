{
 "cells": [
  {
   "cell_type": "code",
   "execution_count": 1,
   "metadata": {
    "ExecuteTime": {
     "end_time": "2018-06-17T14:30:14.228084Z",
     "start_time": "2018-06-17T14:30:11.598708Z"
    },
    "collapsed": true
   },
   "outputs": [],
   "source": [
    "from sklearn.decomposition import NMF\n",
    "from sklearn.preprocessing import normalize\n",
    "from sklearn.feature_extraction.text import TfidfTransformer\n",
    "from scipy.sparse import dok_matrix\n",
    "from math import log10\n",
    "import numpy as np\n",
    "import networkx as nx\n",
    "import pickle"
   ]
  },
  {
   "cell_type": "code",
   "execution_count": 2,
   "metadata": {
    "ExecuteTime": {
     "end_time": "2018-06-17T14:30:19.705823Z",
     "start_time": "2018-06-17T14:30:14.239154Z"
    },
    "collapsed": true
   },
   "outputs": [],
   "source": [
    "# use this to select only a subset of the data to speed up processing, None to skip\n",
    "post_num = 10000\n",
    "\n",
    "with open(\"preprocessed_bitcoin.pkl\", 'rb') as f:\n",
    "    data = pickle.load(f)\n",
    "\n",
    "voca2idx = {w: i for i, w in enumerate(data['voca'])}\n",
    "voca = data['voca']\n",
    "\n",
    "if not(post_num is None):\n",
    "    data['posts'] = data['posts'][:post_num]"
   ]
  },
  {
   "cell_type": "code",
   "execution_count": 3,
   "metadata": {
    "ExecuteTime": {
     "end_time": "2018-06-05T13:14:50.609922Z",
     "start_time": "2018-06-05T13:14:37.900310Z"
    },
    "collapsed": true
   },
   "outputs": [],
   "source": [
    "# user_score = nx.pagerank(data['user_network'], tol=1e-8, max_iter=200)\n",
    "hubs, user_score = nx.hits(data['user_network'], max_iter=500)\n",
    "total_user_num = len(data['user_network'].nodes())\n",
    "top_users = sorted(user_score, key=user_score.get, reverse=True)\n",
    "\n",
    "fwrite = open('hits_user_score_post_num.tsv', 'w')\n",
    "fwrite.write(\"id\\tlog id\\tuser\\tscore\\tpost num\\tget comment num\\twrite comment num\\n\")\n",
    "for i, user in enumerate(top_users):\n",
    "    fwrite.write(\"{}\\t{}\\t{}\\t{}\\t{}\\t{}\\t{}\\n\".format(\n",
    "        i + 1, log10(i+1), user, user_score[user], data['user_posts_num'][user], \n",
    "        data['get_comment_num'][user], data['write_comment_num'][user]))\n",
    "fwrite.close()\n",
    "# 전체 게시물 수와 상위유저+하위유저 게시물 갯수가 다른건 아예 소통이 없던 유저의 게시물이 있기 때문!"
   ]
  },
  {
   "cell_type": "code",
   "execution_count": 22,
   "metadata": {},
   "outputs": [
    {
     "data": {
      "text/plain": [
       "4441"
      ]
     },
     "execution_count": 22,
     "metadata": {},
     "output_type": "execute_result"
    }
   ],
   "source": [
    "len(user_score)"
   ]
  },
  {
   "cell_type": "code",
   "execution_count": 4,
   "metadata": {
    "ExecuteTime": {
     "end_time": "2018-06-05T13:21:01.851046Z",
     "start_time": "2018-06-05T13:15:07.730973Z"
    }
   },
   "outputs": [
    {
     "name": "stdout",
     "output_type": "stream",
     "text": [
      "100.00% done(10000, 29362)\n"
     ]
    }
   ],
   "source": [
    "# construct the term frequency matrix for entier community and run \n",
    "# topic modeling for it\n",
    "counter = 0\n",
    "total_len = len(data['posts'])\n",
    "\n",
    "tdm = dok_matrix((len(data['posts']), len(voca)), dtype=np.float32)\n",
    "for i, post in enumerate(data['posts']):\n",
    "\n",
    "    if counter % 30000 == 0:\n",
    "        print(f\"\\r{counter/total_len * 100:.2f}% done\", end='')\n",
    "\n",
    "    for word in post:\n",
    "        tdm[i, voca2idx[word]] += 1\n",
    "\n",
    "    counter += 1\n",
    "        \n",
    "\n",
    "print(f\"\\r{100:.2f}% done\", end='')\n",
    "\n",
    "tdm = normalize(tdm)\n",
    "# compressed sparse row matrix, where row operations are rendered more efficient\n",
    "# in our case documents are stored in the rows\n",
    "tdm = tdm.tocsr()\n",
    "print(tdm.shape)"
   ]
  },
  {
   "cell_type": "code",
   "execution_count": 5,
   "metadata": {
    "ExecuteTime": {
     "end_time": "2018-06-05T13:26:52.457474Z",
     "start_time": "2018-06-05T13:21:27.117210Z"
    },
    "collapsed": true
   },
   "outputs": [
    {
     "name": "stderr",
     "output_type": "stream",
     "text": [
      "/home/matthew/programming/topic_modeling_research/venv/lib/python3.8/site-packages/sklearn/decomposition/_nmf.py:1422: FutureWarning: `alpha` was deprecated in version 1.0 and will be removed in 1.2. Use `alpha_W` and `alpha_H` instead\n",
      "  warnings.warn(\n",
      "/home/matthew/programming/topic_modeling_research/venv/lib/python3.8/site-packages/sklearn/decomposition/_nmf.py:289: FutureWarning: The 'init' value, when 'init=None' and n_components is less than n_samples and n_features, will be changed from 'nndsvd' to 'nndsvda' in 1.1 (renaming of 0.26).\n",
      "  warnings.warn(\n"
     ]
    }
   ],
   "source": [
    "K = 10\n",
    "nmf = NMF(n_components=K, alpha=0.1, max_iter=500)\n",
    "nmf.fit(tdm)\n",
    "H_total = nmf.components_"
   ]
  },
  {
   "cell_type": "code",
   "execution_count": 6,
   "metadata": {
    "ExecuteTime": {
     "end_time": "2018-06-05T13:27:14.863967Z",
     "start_time": "2018-06-05T13:27:14.833140Z"
    }
   },
   "outputs": [
    {
     "name": "stdout",
     "output_type": "stream",
     "text": [
      "sum 0.9999999999999993\n",
      "Cointelegraph\n",
      "Bitcoin\n",
      "CoinDesk\n",
      "Bakkt\n",
      "CNBC\n",
      "zerohedge\n",
      "crypto\n",
      "WhalePanda\n",
      "CryptoBull\n",
      "cameron\n",
      "loomdart\n",
      "n top users -> 10\n"
     ]
    }
   ],
   "source": [
    "# 상위 유저 분석!\n",
    "# segregate users based on hits algorithm. Moving those in the top\n",
    "# 20 percent into a separate group. top_index is just the cutoff\n",
    "# point for where this gruop is\n",
    "acc_sum = 0\n",
    "top_index = 0\n",
    "score_sum = sum(user_score.values())\n",
    "print('sum', score_sum)\n",
    "for i, top_user in enumerate(sorted(user_score, key=user_score.get, reverse=True)):\n",
    "    print(top_user)\n",
    "    acc_sum += user_score[top_user]/score_sum\n",
    "    if acc_sum > 0.8:\n",
    "        top_index = i\n",
    "        break\n",
    "\n",
    "top_users = top_users[:top_index]\n",
    "print(\"n top users ->\", len(top_users))"
   ]
  },
  {
   "cell_type": "code",
   "execution_count": 12,
   "metadata": {},
   "outputs": [
    {
     "data": {
      "text/plain": [
       "AtlasView({'CoinSpice': {}, 'Garfoldd': {}})"
      ]
     },
     "execution_count": 12,
     "metadata": {},
     "output_type": "execute_result"
    }
   ],
   "source": [
    "# sorted_users = [(key, user_score[key]) for key in sorted(user_score, key=user_score.get, reverse=True)]"
   ]
  },
  {
   "cell_type": "code",
   "execution_count": 13,
   "metadata": {
    "ExecuteTime": {
     "end_time": "2018-06-05T13:27:34.422418Z",
     "start_time": "2018-06-05T13:27:34.358389Z"
    },
    "collapsed": true
   },
   "outputs": [],
   "source": [
    "user_posts = []\n",
    "for user in top_users:\n",
    "    for post in data['user_posts'][user]:\n",
    "        user_posts.append(post)"
   ]
  },
  {
   "cell_type": "code",
   "execution_count": 14,
   "metadata": {
    "ExecuteTime": {
     "end_time": "2018-06-05T13:31:07.424005Z",
     "start_time": "2018-06-05T13:27:55.315231Z"
    }
   },
   "outputs": [
    {
     "name": "stdout",
     "output_type": "stream",
     "text": [
      "(5174, 29362)\n"
     ]
    }
   ],
   "source": [
    "tdm = dok_matrix((len(user_posts), len(voca)), dtype=np.float32)\n",
    "for i, post in enumerate(user_posts):\n",
    "    for word in post:\n",
    "        tdm[i, voca2idx[word]] += 1\n",
    "        \n",
    "tdm = normalize(tdm)\n",
    "tdm = tdm.tocsr()\n",
    "print(tdm.shape)"
   ]
  },
  {
   "cell_type": "code",
   "execution_count": 15,
   "metadata": {
    "ExecuteTime": {
     "end_time": "2018-06-05T13:34:39.320342Z",
     "start_time": "2018-06-05T13:31:27.331982Z"
    },
    "collapsed": true
   },
   "outputs": [
    {
     "name": "stderr",
     "output_type": "stream",
     "text": [
      "/home/matthew/programming/topic_modeling_research/venv/lib/python3.8/site-packages/sklearn/decomposition/_nmf.py:1422: FutureWarning: `alpha` was deprecated in version 1.0 and will be removed in 1.2. Use `alpha_W` and `alpha_H` instead\n",
      "  warnings.warn(\n",
      "/home/matthew/programming/topic_modeling_research/venv/lib/python3.8/site-packages/sklearn/decomposition/_nmf.py:289: FutureWarning: The 'init' value, when 'init=None' and n_components is less than n_samples and n_features, will be changed from 'nndsvd' to 'nndsvda' in 1.1 (renaming of 0.26).\n",
      "  warnings.warn(\n",
      "/home/matthew/programming/topic_modeling_research/venv/lib/python3.8/site-packages/sklearn/decomposition/_nmf.py:1637: ConvergenceWarning: Maximum number of iterations 500 reached. Increase it to improve convergence.\n",
      "  warnings.warn(\n"
     ]
    }
   ],
   "source": [
    "nmf = NMF(n_components=K, alpha=0.1, max_iter=500)\n",
    "nmf.fit(tdm)\n",
    "H_top = nmf.components_"
   ]
  },
  {
   "cell_type": "code",
   "execution_count": 16,
   "metadata": {
    "ExecuteTime": {
     "end_time": "2018-06-05T13:34:59.627466Z",
     "start_time": "2018-06-05T13:34:59.535169Z"
    },
    "collapsed": true
   },
   "outputs": [],
   "source": [
    "# 하위 유저 분석!\n",
    "low_users = sorted(user_score, key=user_score.get, reverse=False)[:-top_index]\n",
    "\n",
    "user_posts = []\n",
    "for user in low_users:\n",
    "    for post in data['user_posts'][user]:\n",
    "        user_posts.append(post)"
   ]
  },
  {
   "cell_type": "code",
   "execution_count": 17,
   "metadata": {
    "ExecuteTime": {
     "end_time": "2018-06-05T13:38:11.700466Z",
     "start_time": "2018-06-05T13:35:18.578770Z"
    }
   },
   "outputs": [
    {
     "name": "stdout",
     "output_type": "stream",
     "text": [
      "(62632, 29362)\n"
     ]
    }
   ],
   "source": [
    "tdm = dok_matrix((len(user_posts), len(voca)), dtype=np.float32)\n",
    "for i, post in enumerate(user_posts):\n",
    "    for word in post:\n",
    "        tdm[i, voca2idx[word]] += 1\n",
    "        \n",
    "tdm = normalize(tdm)\n",
    "tdm = tdm.tocsr()\n",
    "print(tdm.shape)"
   ]
  },
  {
   "cell_type": "code",
   "execution_count": 18,
   "metadata": {
    "ExecuteTime": {
     "end_time": "2018-06-05T13:40:41.503530Z",
     "start_time": "2018-06-05T13:38:31.370976Z"
    },
    "collapsed": true
   },
   "outputs": [
    {
     "name": "stderr",
     "output_type": "stream",
     "text": [
      "/home/matthew/programming/topic_modeling_research/venv/lib/python3.8/site-packages/sklearn/decomposition/_nmf.py:1422: FutureWarning: `alpha` was deprecated in version 1.0 and will be removed in 1.2. Use `alpha_W` and `alpha_H` instead\n",
      "  warnings.warn(\n",
      "/home/matthew/programming/topic_modeling_research/venv/lib/python3.8/site-packages/sklearn/decomposition/_nmf.py:289: FutureWarning: The 'init' value, when 'init=None' and n_components is less than n_samples and n_features, will be changed from 'nndsvd' to 'nndsvda' in 1.1 (renaming of 0.26).\n",
      "  warnings.warn(\n"
     ]
    }
   ],
   "source": [
    "nmf = NMF(n_components=K, alpha=0.1, max_iter=500)\n",
    "nmf.fit(tdm)\n",
    "H_low = nmf.components_"
   ]
  },
  {
   "cell_type": "code",
   "execution_count": 19,
   "metadata": {
    "ExecuteTime": {
     "end_time": "2018-06-05T13:41:12.475667Z",
     "start_time": "2018-06-05T13:41:12.241842Z"
    }
   },
   "outputs": [
    {
     "name": "stdout",
     "output_type": "stream",
     "text": [
      "total users: 0th topic\n",
      "bitcoin money mining day now transaction news every get price satoshi ethereum make trump gethashed value via block future dollar \n",
      "top users: 2th topic, similarity - 0.9765135049819946\n",
      "bitcoin new future trading bakkt report libra hit atm now via exchange mining launch bank wealth blockchain cryptocurrency wallet place \n",
      "top users: 0th topic, similarity - 0.993593692779541\n",
      "bitcoin trump news libra future high altcoins cash bakkt gold new via network low money cointelegraph volume bank coindesk mining \n",
      "\n",
      "total users: 1th topic\n",
      "market trading analysis report btcusd technical utc idea timeframe crypto btc cryptocurrency bitcoin bearish bullish cap ccn cryptotalksworld service place \n",
      "top users: 1th topic, similarity - 0.16515502333641052\n",
      "block btc unknown transaction time value miner size supply utc byte total issued number price bitclub network called software cryptography \n",
      "top users: 4th topic, similarity - 0.28523531556129456\n",
      "btcusd coinbase bitstamp bitfinex short long chart update usd trading analysis triangle bullish term bearish possible pattern wave bull level \n",
      "\n",
      "total users: 2th topic\n",
      "bitmex bot trading forum amp bitcoin signal free profit binance trade best telegram copier make discus auto daily mirror strategy \n",
      "top users: 6th topic, similarity - 0.00017185311298817396\n",
      "btc block slushpool time transaction miner value size total supply number utc byte issued price network bitclub cryptocurrencies advice dyor \n",
      "top users: 2th topic, similarity - 0.13172560930252075\n",
      "ethereum litecoin bitcoin bitcoinmining cryptocurrency ripple crypto btc ltc eos amp tron analysis digibyte cryptoupdate prediction cash blockchain bitcoinnews kucoin \n",
      "\n",
      "total users: 3th topic\n",
      "price top name biggest symbol gainer united ubtc bitcoin coin token erc sbtc super network sprkl sparkle playcoin ply unlimitedip \n",
      "top users: 9th topic, similarity - 0.38194793462753296\n",
      "price index latest usd bitcoin altcoins new chart check specially fresh meet year low level indicator bear prediction fiat drop \n",
      "top users: 5th topic, similarity - 0.3730934262275696\n",
      "price week analysis last currently market fallen support newsbtc drop prediction break analyst risen bakkt usd move bull action level \n",
      "\n",
      "total users: 4th topic\n",
      "btc eth xrp ltc day now get dash price market alt bnb usd last need bch news read look altcoins \n",
      "top users: 4th topic, similarity - 0.5726948380470276\n",
      "btc index eth cointelegraph special provided new meet fresh specially check blockchain zillatoken via zla cryptocurrencies airdrop dyor advice report \n",
      "top users: 1th topic, similarity - 0.9734320640563965\n",
      "btc volume binance low high alt usd support bullish short look bitmex day bakkt long dominance chart last back break \n",
      "\n",
      "total users: 5th topic\n",
      "crypto amp signal coin free discus binance bot classified telegram profit eth best airdrop app exchange automated mobile market largest \n",
      "top users: 7th topic, similarity - 0.8336590528488159\n",
      "crypto btc market trading now cryptocurrencies dyor advice trump blockchain chart ceo libra week check payment amp exchange future airdrop \n",
      "top users: 3th topic, similarity - 0.942953884601593\n",
      "crypto exchange market bizpaye cryptotrading retail eos binance news world merce hodl marketplace cryptocurrencies merchant ether trading bartercredit onlineshopping investor \n",
      "\n",
      "total users: 6th topic\n",
      "cryptocurrency forum learn discus discussion bitcoin general trading tnetworks strategy airdrop make profit try dash ethereum metahash trx earn tip \n",
      "top users: 5th topic, similarity - 0.0020021817181259394\n",
      "btc block viabtc time transaction miner value size total supply number utc byte issued price network bitclub cryptocurrencies dyor advice \n",
      "top users: 7th topic, similarity - 0.934171736240387\n",
      "cryptocurrency via libra facebook cointelegraph bitcoin exchange coindesk cryptocurrencynews binance trading cryptonews altcoin cryptocurrencies btctn insidebitcoins xlm altcoins airdrop ether \n",
      "\n",
      "total users: 7th topic\n",
      "buy worth time empr get best coin sign sell empowr price probably now check lowest instantly place securely safely usa \n",
      "top users: 3th topic, similarity - 0.06918943673372269\n",
      "block btc antpool time transaction miner value size total supply utc number byte issued price bitclub network fee advice dyor \n",
      "top users: 8th topic, similarity - 0.5059402585029602\n",
      "now buy time amp get market money year day ago right good alt month make new long back know week \n",
      "\n",
      "total users: 8th topic\n",
      "join new time earn network currency use digital help link follow code grow group limited invitation username beta developed phd \n",
      "top users: 0th topic, similarity - 0.09118368476629257\n",
      "block btc pool miner time value size transaction supply total utc byte issued number price bitclub network mining beaxy referral \n",
      "top users: 6th topic, similarity - 0.03064383938908577\n",
      "xrp eth ltc ripple xlm bch eos trx cryptocurrencynews bnb ada bitcoinnews cryptoupdate exchange munity altcoins bsv xmr link cryptocurrencies \n",
      "\n",
      "total users: 9th topic\n",
      "blockchain latest daily thanks bitcoin ethereum tnetworks tbc kringles rock technology business marketing tech ico eth music database tokensale enthusiastic \n",
      "top users: 8th topic, similarity - 0.00299070798791945\n",
      "btc block bitfury time transaction miner total number size value supply utc byte issued price network bitclub blockchain report amp \n",
      "top users: 9th topic, similarity - 0.6497758030891418\n",
      "blockchain bitcoinmining project cryptocurrency tokensale bitcoin ico tokoin platform technology new token payment airdrop ethereum fintech team msme future network \n",
      "\n",
      "0.30955082181608307 0.582056562975049\n"
     ]
    }
   ],
   "source": [
    "from sklearn.metrics.pairwise import pairwise_distances\n",
    "from sklearn.metrics.pairwise import cosine_similarity\n",
    "from scipy.optimize import linear_sum_assignment\n",
    "\n",
    "# hungarian algorithm\n",
    "top_distances = pairwise_distances(H_total, H_top, metric='cosine')\n",
    "_, top_indices = linear_sum_assignment(top_distances)\n",
    "\n",
    "low_distances = pairwise_distances(H_total, H_low, metric='cosine')\n",
    "_, low_indices = linear_sum_assignment(low_distances)\n",
    "\n",
    "top_similarity_average = 0\n",
    "low_similarity_average = 0\n",
    "for k in range(K):\n",
    "    top_similarity = cosine_similarity(H_top[top_indices[k]].reshape(1, -1), H_total[k].reshape(1,-1))[0, 0]\n",
    "    low_similarity = cosine_similarity(H_low[low_indices[k]].reshape(1, -1), H_total[k].reshape(1,-1))[0, 0]\n",
    "    top_similarity_average += top_similarity\n",
    "    low_similarity_average += low_similarity\n",
    "   \n",
    "    print(f\"total users: {k}th topic\")\n",
    "    for i in H_total[k, :].argsort()[::-1][:20]:\n",
    "        print(voca[i], end=' ')\n",
    "    print()\n",
    "    \n",
    "    print(f\"top users: {top_indices[k]}th topic, similarity - {top_similarity}\")\n",
    "    for i in H_top[top_indices[k]].argsort()[::-1][:20]:\n",
    "        print(voca[i], end=' ')\n",
    "    print()\n",
    "    \n",
    "    print(f\"top users: {low_indices[k]}th topic, similarity - {low_similarity}\")\n",
    "    for i in H_low[low_indices[k]].argsort()[::-1][:20]:\n",
    "        print(voca[i], end=' ')\n",
    "    print()\n",
    "    \n",
    "    print()\n",
    "    \n",
    "top_similarity_average /= K\n",
    "low_similarity_average /= K\n",
    "\n",
    "print(top_similarity_average, low_similarity_average)"
   ]
  },
  {
   "cell_type": "code",
   "execution_count": null,
   "metadata": {
    "collapsed": true
   },
   "outputs": [],
   "source": []
  }
 ],
 "metadata": {
  "interpreter": {
   "hash": "ac5807ccc56803d53b6c0dc06a78365d93d8e4c11f3c7f359a83bbe035ca0794"
  },
  "kernelspec": {
   "display_name": "Python 3.8.10 64-bit ('venv': venv)",
   "name": "python3"
  },
  "language_info": {
   "codemirror_mode": {
    "name": "ipython",
    "version": 3
   },
   "file_extension": ".py",
   "mimetype": "text/x-python",
   "name": "python",
   "nbconvert_exporter": "python",
   "pygments_lexer": "ipython3",
   "version": "3.8.10"
  },
  "varInspector": {
   "cols": {
    "lenName": 16,
    "lenType": 16,
    "lenVar": 40
   },
   "kernels_config": {
    "python": {
     "delete_cmd_postfix": "",
     "delete_cmd_prefix": "del ",
     "library": "var_list.py",
     "varRefreshCmd": "print(var_dic_list())"
    },
    "r": {
     "delete_cmd_postfix": ") ",
     "delete_cmd_prefix": "rm(",
     "library": "var_list.r",
     "varRefreshCmd": "cat(var_dic_list()) "
    }
   },
   "types_to_exclude": [
    "module",
    "function",
    "builtin_function_or_method",
    "instance",
    "_Feature"
   ],
   "window_display": false
  }
 },
 "nbformat": 4,
 "nbformat_minor": 2
}
