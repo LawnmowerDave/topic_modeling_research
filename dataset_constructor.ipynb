{
 "cells": [
  {
   "cell_type": "code",
   "execution_count": 1,
   "metadata": {},
   "outputs": [],
   "source": [
    "\n",
    "\n",
    "from util.streamer import line_gen\n",
    "import pandas as pd\n",
    "from glob import glob\n",
    "from itertools import chain\n",
    "import ujson as json\n",
    "from util.util import cache\n",
    "import numpy as np\n",
    "import re\n",
    "from nltk.stem import WordNetLemmatizer\n",
    "import stop_words\n",
    "\n"
   ]
  },
  {
   "cell_type": "code",
   "execution_count": 2,
   "metadata": {},
   "outputs": [],
   "source": [
    "stopwords = set(stop_words.get_stop_words('en'))\n",
    "stopwords.update(['quote', 'pmquote', 'amquote', 'just', 'don', 'one', 'thing', 'even', 'way', 'maybe', 'also', 'please', 'well', 'actually', 'something',\n",
    "                                         'going', 'anything', 'le', 'ever', 'say', 'see', 'likely', 'per', 'another', 'someone', 'let', 'anyone', 'doesn', 'include', 'doe', 'exactly',\n",
    "                                         'january', 'february', 'march', 'april', 'may', 'june', 'july', 'august', 'september', 'october', 'november', 'december', 'like',\n",
    "                                         'said', 'guy', 'will', 'can', 'able', 'people', 'become', 'tell', 'hey', 'much', 'many', 'lol', 'lot', 'want', 'still', 'really', 'think', 'didn',\n",
    "                                         'isn', 'post', 'edited', 'share', 'facebookshare', 'twitter', 'monday', 'tuedsday', 'wednesday', 'thursday', 'friday', 'saturday', 'sunday'])\n",
    "                                        # adding exclusions to 'bitcion' because presumably, the entire dataset contains\n",
    "                                        # bitcoin-related tweets, which means mentions of bitcoin shouldn't add any value\n",
    "lemmatizer = WordNetLemmatizer()\n",
    "\n",
    "\n",
    "def parse_string(input_string):\n",
    "    input_string = input_string.lower()\n",
    "    # remove links\n",
    "    input_string = re.sub(r'http\\S+', ' ', input_string)\n",
    "    input_string = re.sub(r'\\S+.(com|org)', '', input_string)\n",
    "    # remove all non-English alphabet characters including numbers,\n",
    "    # foreign and special characters\n",
    "    input_string = re.sub( \"[^a-zA-Z]\", \" \", input_string).split()\n",
    "\n",
    "    # lemmatize word\n",
    "    words = [lemmatizer.lemmatize(w) for w in input_string]\n",
    "    # get rid of stopwords and words less than 3 characters\n",
    "    words = [w for w in words if w not in stopwords and len(w) > 2]\n",
    "\n",
    "    # fix common misspellings of bitcoin\n",
    "    words = [\"bitcoin\" if w == \"bitcoins\" else w for w in words]\n",
    "    words = [\"bitcoin\" if w == \"itcoin\" else w for w in words]\n",
    "\n",
    "    return words\n"
   ]
  },
  {
   "cell_type": "code",
   "execution_count": 3,
   "metadata": {},
   "outputs": [],
   "source": [
    "# favorite count being number of likes\n",
    "use_fields = ['created_at', 'in_reply_to_user_id', 'retweet_count', 'favorite_count']\n",
    "user_fields = ['id', 'verified', 'followers_count']\n",
    "\n",
    "\n",
    "filenames = glob(\"data/BTC/json/*.jsonl\")\n",
    "files = [open(filename, 'r') for filename in filenames]\n",
    "\n",
    "jsonl_gen = chain(*files)\n",
    "\n",
    "posts_lst = []\n",
    "comm_lst = []"
   ]
  },
  {
   "cell_type": "code",
   "execution_count": 4,
   "metadata": {},
   "outputs": [
    {
     "name": "stdout",
     "output_type": "stream",
     "text": [
      "posts: 2804189 comments: 536494 retweets: 37698"
     ]
    }
   ],
   "source": [
    "n_retweets = 0\n",
    "\n",
    "for i, line in enumerate(jsonl_gen):\n",
    "\n",
    "    line = json.loads(line)\n",
    "\n",
    "    # filter out non-english posts\n",
    "    if line['lang'] != 'en':\n",
    "        continue\n",
    "\n",
    "    print(f\"\\rposts: {len(posts_lst) - n_retweets} comments: {len(comm_lst)} retweets: {n_retweets}\", end='')\n",
    "    \n",
    "    full_text = parse_string(line['full_text'])\n",
    "    \n",
    "    row = {}\n",
    "\n",
    "\n",
    "    # skip posts that are less than 5 words\n",
    "    if len(full_text) < 5:\n",
    "        continue\n",
    "    else:\n",
    "        row['full_text'] = full_text\n",
    "\n",
    "\n",
    "    for col in use_fields:\n",
    "        row[col] = line[col]\n",
    "\n",
    "    for col in user_fields:\n",
    "        row[col] = line['user'][col]\n",
    "\n",
    "    # RETWEETS\n",
    "    if 'retweeted_status' in line.keys():\n",
    "        # if it's a retweet, grab the id of the original tweet user\n",
    "        row['retweet_id'] = line['retweeted_status']['user']['id']\n",
    "        n_retweets += 1\n",
    "\n",
    "    # POSTS\n",
    "    if type(line['in_reply_to_user_id']) != int:\n",
    "        posts_lst.append(row)\n",
    "        # COMMENTS\n",
    "    elif line['in_reply_to_user_id'] != None:\n",
    "        comm_lst.append(row)\n",
    "\n",
    "    if i > 4000000:\n",
    "        break\n",
    "\n"
   ]
  },
  {
   "cell_type": "code",
   "execution_count": 5,
   "metadata": {},
   "outputs": [],
   "source": [
    "cache(posts_lst, 'posts_lst')\n",
    "cache(comm_lst, 'comm_lst')"
   ]
  },
  {
   "cell_type": "code",
   "execution_count": 6,
   "metadata": {},
   "outputs": [],
   "source": [
    "df = pd.DataFrame(posts_lst + comm_lst)"
   ]
  },
  {
   "cell_type": "code",
   "execution_count": 7,
   "metadata": {},
   "outputs": [],
   "source": [
    "cache(df, 'btc_data')"
   ]
  },
  {
   "cell_type": "code",
   "execution_count": 8,
   "metadata": {},
   "outputs": [
    {
     "data": {
      "text/plain": [
       "Index(['full_text', 'created_at', 'in_reply_to_user_id', 'retweet_count',\n",
       "       'favorite_count', 'id', 'verified', 'followers_count', 'retweet_id'],\n",
       "      dtype='object')"
      ]
     },
     "execution_count": 8,
     "metadata": {},
     "output_type": "execute_result"
    }
   ],
   "source": [
    "df.columns"
   ]
  }
 ],
 "metadata": {
  "interpreter": {
   "hash": "ac5807ccc56803d53b6c0dc06a78365d93d8e4c11f3c7f359a83bbe035ca0794"
  },
  "kernelspec": {
   "display_name": "Python 3.8.10 64-bit ('venv': venv)",
   "language": "python",
   "name": "python3"
  },
  "language_info": {
   "codemirror_mode": {
    "name": "ipython",
    "version": 3
   },
   "file_extension": ".py",
   "mimetype": "text/x-python",
   "name": "python",
   "nbconvert_exporter": "python",
   "pygments_lexer": "ipython3",
   "version": "3.8.10"
  },
  "orig_nbformat": 4
 },
 "nbformat": 4,
 "nbformat_minor": 2
}
